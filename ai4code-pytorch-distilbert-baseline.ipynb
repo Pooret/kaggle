{
 "cells": [
  {
   "cell_type": "markdown",
   "id": "bc146cdc",
   "metadata": {
    "papermill": {
     "duration": 0.033118,
     "end_time": "2022-05-28T19:20:45.344252",
     "exception": false,
     "start_time": "2022-05-28T19:20:45.311134",
     "status": "completed"
    },
    "tags": []
   },
   "source": [
    "# AI4Code Pytorch DistilBert Baseline\n",
    "\n",
    "I used a lot of code from Kaggle's starter notebook here: https://www.kaggle.com/code/ryanholbrook/getting-started-with-ai4code\n",
    "\n",
    "I replaced their model with a DistilBert model."
   ]
  },
  {
   "cell_type": "code",
   "execution_count": 1,
   "id": "01646152",
   "metadata": {
    "execution": {
     "iopub.execute_input": "2022-05-28T19:20:45.409257Z",
     "iopub.status.busy": "2022-05-28T19:20:45.408862Z",
     "iopub.status.idle": "2022-05-28T19:20:45.497419Z",
     "shell.execute_reply": "2022-05-28T19:20:45.496651Z"
    },
    "papermill": {
     "duration": 0.124082,
     "end_time": "2022-05-28T19:20:45.500005",
     "exception": false,
     "start_time": "2022-05-28T19:20:45.375923",
     "status": "completed"
    },
    "tags": []
   },
   "outputs": [],
   "source": [
    "import json\n",
    "from pathlib import Path\n",
    "\n",
    "import numpy as np\n",
    "import pandas as pd\n",
    "from scipy import sparse\n",
    "from tqdm import tqdm\n",
    "\n",
    "pd.options.display.width = 180\n",
    "pd.options.display.max_colwidth = 120\n",
    "\n",
    "BERT_PATH = \"../input/huggingface-bert-variants/distilbert-base-uncased/distilbert-base-uncased\"\n",
    "\n",
    "data_dir = Path('../input/AI4Code')"
   ]
  },
  {
   "cell_type": "code",
   "execution_count": 2,
   "id": "a9533da9",
   "metadata": {
    "execution": {
     "iopub.execute_input": "2022-05-28T19:20:45.594040Z",
     "iopub.status.busy": "2022-05-28T19:20:45.593451Z",
     "iopub.status.idle": "2022-05-28T19:22:37.027184Z",
     "shell.execute_reply": "2022-05-28T19:22:37.026381Z"
    },
    "papermill": {
     "duration": 111.497378,
     "end_time": "2022-05-28T19:22:37.029227",
     "exception": false,
     "start_time": "2022-05-28T19:20:45.531849",
     "status": "completed"
    },
    "tags": []
   },
   "outputs": [
    {
     "name": "stderr",
     "output_type": "stream",
     "text": [
      "Train NBs: 100%|██████████| 10000/10000 [01:44<00:00, 95.41it/s]\n"
     ]
    },
    {
     "data": {
      "text/html": [
       "<div>\n",
       "<style scoped>\n",
       "    .dataframe tbody tr th:only-of-type {\n",
       "        vertical-align: middle;\n",
       "    }\n",
       "\n",
       "    .dataframe tbody tr th {\n",
       "        vertical-align: top;\n",
       "    }\n",
       "\n",
       "    .dataframe thead th {\n",
       "        text-align: right;\n",
       "    }\n",
       "</style>\n",
       "<table border=\"1\" class=\"dataframe\">\n",
       "  <thead>\n",
       "    <tr style=\"text-align: right;\">\n",
       "      <th></th>\n",
       "      <th></th>\n",
       "      <th>cell_type</th>\n",
       "      <th>source</th>\n",
       "    </tr>\n",
       "    <tr>\n",
       "      <th>id</th>\n",
       "      <th>cell_id</th>\n",
       "      <th></th>\n",
       "      <th></th>\n",
       "    </tr>\n",
       "  </thead>\n",
       "  <tbody>\n",
       "    <tr>\n",
       "      <th rowspan=\"5\" valign=\"top\">000c0a9b2fef4d</th>\n",
       "      <th>1087237d</th>\n",
       "      <td>code</td>\n",
       "      <td># Data manipulation\\nimport pandas as pd\\nimport numpy as np\\n\\n# Data visualization\\nimport matplotlib.pyplot as pl...</td>\n",
       "    </tr>\n",
       "    <tr>\n",
       "      <th>d7209f1f</th>\n",
       "      <td>code</td>\n",
       "      <td>fifa_raw_dataset = pd.read_csv('../input/data.csv')</td>\n",
       "    </tr>\n",
       "    <tr>\n",
       "      <th>daf5b8ee</th>\n",
       "      <td>code</td>\n",
       "      <td>fifa_raw_dataset.head()</td>\n",
       "    </tr>\n",
       "    <tr>\n",
       "      <th>e404213c</th>\n",
       "      <td>code</td>\n",
       "      <td>fifa_raw_dataset.info()</td>\n",
       "    </tr>\n",
       "    <tr>\n",
       "      <th>2bad59b0</th>\n",
       "      <td>code</td>\n",
       "      <td>fifa_raw_dataset.shape</td>\n",
       "    </tr>\n",
       "    <tr>\n",
       "      <th>...</th>\n",
       "      <th>...</th>\n",
       "      <td>...</td>\n",
       "      <td>...</td>\n",
       "    </tr>\n",
       "    <tr>\n",
       "      <th rowspan=\"5\" valign=\"top\">fffc63ff750064</th>\n",
       "      <th>56aa8da7</th>\n",
       "      <td>code</td>\n",
       "      <td>\\nsubmission.to_csv('house_price_rf.csv', index = False)</td>\n",
       "    </tr>\n",
       "    <tr>\n",
       "      <th>411b85d9</th>\n",
       "      <td>markdown</td>\n",
       "      <td>1. # Data exploration</td>\n",
       "    </tr>\n",
       "    <tr>\n",
       "      <th>e7e67119</th>\n",
       "      <td>markdown</td>\n",
       "      <td># # Data preprocessing</td>\n",
       "    </tr>\n",
       "    <tr>\n",
       "      <th>8b54cf58</th>\n",
       "      <td>markdown</td>\n",
       "      <td># Post-process for submission</td>\n",
       "    </tr>\n",
       "    <tr>\n",
       "      <th>b3c6bc16</th>\n",
       "      <td>markdown</td>\n",
       "      <td># Define and fit model</td>\n",
       "    </tr>\n",
       "  </tbody>\n",
       "</table>\n",
       "<p>461166 rows × 2 columns</p>\n",
       "</div>"
      ],
      "text/plain": [
       "                        cell_type                                                                                                                   source\n",
       "id             cell_id                                                                                                                                    \n",
       "000c0a9b2fef4d 1087237d      code  # Data manipulation\\nimport pandas as pd\\nimport numpy as np\\n\\n# Data visualization\\nimport matplotlib.pyplot as pl...\n",
       "               d7209f1f      code                                                                      fifa_raw_dataset = pd.read_csv('../input/data.csv')\n",
       "               daf5b8ee      code                                                                                                  fifa_raw_dataset.head()\n",
       "               e404213c      code                                                                                                  fifa_raw_dataset.info()\n",
       "               2bad59b0      code                                                                                                   fifa_raw_dataset.shape\n",
       "...                           ...                                                                                                                      ...\n",
       "fffc63ff750064 56aa8da7      code                                                                 \\nsubmission.to_csv('house_price_rf.csv', index = False)\n",
       "               411b85d9  markdown                                                                                                    1. # Data exploration\n",
       "               e7e67119  markdown                                                                                                   # # Data preprocessing\n",
       "               8b54cf58  markdown                                                                                            # Post-process for submission\n",
       "               b3c6bc16  markdown                                                                                                   # Define and fit model\n",
       "\n",
       "[461166 rows x 2 columns]"
      ]
     },
     "execution_count": 2,
     "metadata": {},
     "output_type": "execute_result"
    }
   ],
   "source": [
    "NUM_TRAIN = 10000\n",
    "\n",
    "\n",
    "def read_notebook(path):\n",
    "    return (\n",
    "        pd.read_json(\n",
    "            path,\n",
    "            dtype={'cell_type': 'category', 'source': 'str'})\n",
    "        .assign(id=path.stem)\n",
    "        .rename_axis('cell_id')\n",
    "    )\n",
    "\n",
    "\n",
    "paths_train = list((data_dir / 'train').glob('*.json'))[:NUM_TRAIN]\n",
    "notebooks_train = [\n",
    "    read_notebook(path) for path in tqdm(paths_train, desc='Train NBs')\n",
    "]\n",
    "df = (\n",
    "    pd.concat(notebooks_train)\n",
    "    .set_index('id', append=True)\n",
    "    .swaplevel()\n",
    "    .sort_index(level='id', sort_remaining=False)\n",
    ")\n",
    "\n",
    "df"
   ]
  },
  {
   "cell_type": "code",
   "execution_count": 3,
   "id": "2eba2e38",
   "metadata": {
    "execution": {
     "iopub.execute_input": "2022-05-28T19:22:37.764079Z",
     "iopub.status.busy": "2022-05-28T19:22:37.763822Z",
     "iopub.status.idle": "2022-05-28T19:22:37.788822Z",
     "shell.execute_reply": "2022-05-28T19:22:37.787578Z"
    },
    "papermill": {
     "duration": 0.400037,
     "end_time": "2022-05-28T19:22:37.793023",
     "exception": false,
     "start_time": "2022-05-28T19:22:37.392986",
     "status": "completed"
    },
    "tags": []
   },
   "outputs": [
    {
     "name": "stdout",
     "output_type": "stream",
     "text": [
      "Notebook: 00290ddf866418\n",
      "The disordered notebook:\n"
     ]
    },
    {
     "data": {
      "text/html": [
       "<div>\n",
       "<style scoped>\n",
       "    .dataframe tbody tr th:only-of-type {\n",
       "        vertical-align: middle;\n",
       "    }\n",
       "\n",
       "    .dataframe tbody tr th {\n",
       "        vertical-align: top;\n",
       "    }\n",
       "\n",
       "    .dataframe thead th {\n",
       "        text-align: right;\n",
       "    }\n",
       "</style>\n",
       "<table border=\"1\" class=\"dataframe\">\n",
       "  <thead>\n",
       "    <tr style=\"text-align: right;\">\n",
       "      <th></th>\n",
       "      <th>cell_type</th>\n",
       "      <th>source</th>\n",
       "    </tr>\n",
       "    <tr>\n",
       "      <th>cell_id</th>\n",
       "      <th></th>\n",
       "      <th></th>\n",
       "    </tr>\n",
       "  </thead>\n",
       "  <tbody>\n",
       "    <tr>\n",
       "      <th>4e6f32f6</th>\n",
       "      <td>code</td>\n",
       "      <td># This Python 3 environment comes with many helpful analytics libraries installed\\n# It is defined by the kaggle/pyt...</td>\n",
       "    </tr>\n",
       "    <tr>\n",
       "      <th>0aeca210</th>\n",
       "      <td>code</td>\n",
       "      <td>import warnings\\nimport random\\n\\nSEED=44\\nrandom.seed(SEED)\\nnp.random.seed(SEED)\\npd.set_option('display.width', N...</td>\n",
       "    </tr>\n",
       "    <tr>\n",
       "      <th>cadfdb16</th>\n",
       "      <td>code</td>\n",
       "      <td>train = pd.read_csv('/kaggle/input/tabular-playground-series-mar-2021/train.csv')\\ntest = pd.read_csv('/kaggle/input...</td>\n",
       "    </tr>\n",
       "    <tr>\n",
       "      <th>fe39c117</th>\n",
       "      <td>code</td>\n",
       "      <td>train.info()</td>\n",
       "    </tr>\n",
       "    <tr>\n",
       "      <th>bbc5f229</th>\n",
       "      <td>code</td>\n",
       "      <td>y = train.iloc[:,-1]\\nX = train.iloc[:,:-1]\\nZ = test</td>\n",
       "    </tr>\n",
       "    <tr>\n",
       "      <th>46cc92d1</th>\n",
       "      <td>code</td>\n",
       "      <td>def get_obj_cols(df):\\n    return [col for col in df.columns if df.dtypes[col] == np.object]</td>\n",
       "    </tr>\n",
       "    <tr>\n",
       "      <th>9d6ea72b</th>\n",
       "      <td>code</td>\n",
       "      <td>X_objs = get_obj_cols(X)\\nX_objs_idx = [X.columns.get_loc(col) for col in X_objs]\\nZ_objs = get_obj_cols(Z)\\nZ_objs_...</td>\n",
       "    </tr>\n",
       "    <tr>\n",
       "      <th>d0f88604</th>\n",
       "      <td>code</td>\n",
       "      <td>for obj in X_objs:\\n    X[obj] = X[obj].astype('category').cat.codes\\nfor obj in Z_objs:\\n    Z[obj] = Z[obj].astype...</td>\n",
       "    </tr>\n",
       "    <tr>\n",
       "      <th>8df28832</th>\n",
       "      <td>code</td>\n",
       "      <td>X.drop('id', axis=1, inplace=True)\\nZ.drop('id', axis=1, inplace=True)</td>\n",
       "    </tr>\n",
       "    <tr>\n",
       "      <th>8c01934e</th>\n",
       "      <td>code</td>\n",
       "      <td>from sklearn.model_selection import StratifiedKFold, cross_val_score\\nfrom sklearn.metrics import roc_auc_score\\nK = 10</td>\n",
       "    </tr>\n",
       "    <tr>\n",
       "      <th>18b4e8d6</th>\n",
       "      <td>code</td>\n",
       "      <td>skf = StratifiedKFold(n_splits=K, shuffle=True, random_state=SEED)</td>\n",
       "    </tr>\n",
       "    <tr>\n",
       "      <th>c012109d</th>\n",
       "      <td>code</td>\n",
       "      <td>df_model = pd.DataFrame(columns = [*[f'model_{i}' for i in range(K)], 'average_auc'])\\ndf_model</td>\n",
       "    </tr>\n",
       "    <tr>\n",
       "      <th>83ff0598</th>\n",
       "      <td>code</td>\n",
       "      <td>import lightgbm as lgbm</td>\n",
       "    </tr>\n",
       "    <tr>\n",
       "      <th>d35f13e5</th>\n",
       "      <td>code</td>\n",
       "      <td>params = {\\n    'learning_rate':1e-2,\\n    'max_bin':24,\\n    'n_estimators':1000,\\n    'device_type':'gpu',\\n    'm...</td>\n",
       "    </tr>\n",
       "    <tr>\n",
       "      <th>cfba39db</th>\n",
       "      <td>code</td>\n",
       "      <td>ctr = 0\\nmodel = []\\nauc_score = []\\nfor train_idx, val_idx in skf.split(X, y):\\n    Xt, Xv = X.loc[train_idx], X.lo...</td>\n",
       "    </tr>\n",
       "    <tr>\n",
       "      <th>fbc1c206</th>\n",
       "      <td>code</td>\n",
       "      <td>df_model.loc[df_model.shape[0]] = [\\n    *model,\\n    np.mean(auc_score)\\n]</td>\n",
       "    </tr>\n",
       "    <tr>\n",
       "      <th>ace03b55</th>\n",
       "      <td>code</td>\n",
       "      <td>df_model['average_auc']</td>\n",
       "    </tr>\n",
       "    <tr>\n",
       "      <th>671b78af</th>\n",
       "      <td>code</td>\n",
       "      <td>def predict(X):\\n    y_prob = []\\n    for i in range(K):\\n        y_prob.append(df_model.loc[0, f'model_{i}'].predic...</td>\n",
       "    </tr>\n",
       "    <tr>\n",
       "      <th>61d3ad05</th>\n",
       "      <td>code</td>\n",
       "      <td>from sklearn.model_selection import train_test_split</td>\n",
       "    </tr>\n",
       "    <tr>\n",
       "      <th>6d6683ea</th>\n",
       "      <td>code</td>\n",
       "      <td>Xt, Xv, yt, yv = train_test_split(X, y, test_size=0.2, random_state=SEED)</td>\n",
       "    </tr>\n",
       "    <tr>\n",
       "      <th>2f41ebe2</th>\n",
       "      <td>code</td>\n",
       "      <td>yv_prob = predict(Xv)\\nmetrics(yv, yv_prob)</td>\n",
       "    </tr>\n",
       "    <tr>\n",
       "      <th>9dae7ae9</th>\n",
       "      <td>code</td>\n",
       "      <td>test_prob = predict(Z)\\nsubmission = pd.read_csv(\"../input/tabular-playground-series-mar-2021/sample_submission.csv\"...</td>\n",
       "    </tr>\n",
       "    <tr>\n",
       "      <th>d3345791</th>\n",
       "      <td>markdown</td>\n",
       "      <td># Training</td>\n",
       "    </tr>\n",
       "    <tr>\n",
       "      <th>91194a54</th>\n",
       "      <td>markdown</td>\n",
       "      <td># Categorical</td>\n",
       "    </tr>\n",
       "    <tr>\n",
       "      <th>91d97bb2</th>\n",
       "      <td>markdown</td>\n",
       "      <td># Read Data</td>\n",
       "    </tr>\n",
       "  </tbody>\n",
       "</table>\n",
       "</div>"
      ],
      "text/plain": [
       "         cell_type                                                                                                                   source\n",
       "cell_id                                                                                                                                    \n",
       "4e6f32f6      code  # This Python 3 environment comes with many helpful analytics libraries installed\\n# It is defined by the kaggle/pyt...\n",
       "0aeca210      code  import warnings\\nimport random\\n\\nSEED=44\\nrandom.seed(SEED)\\nnp.random.seed(SEED)\\npd.set_option('display.width', N...\n",
       "cadfdb16      code  train = pd.read_csv('/kaggle/input/tabular-playground-series-mar-2021/train.csv')\\ntest = pd.read_csv('/kaggle/input...\n",
       "fe39c117      code                                                                                                             train.info()\n",
       "bbc5f229      code                                                                    y = train.iloc[:,-1]\\nX = train.iloc[:,:-1]\\nZ = test\n",
       "46cc92d1      code                             def get_obj_cols(df):\\n    return [col for col in df.columns if df.dtypes[col] == np.object]\n",
       "9d6ea72b      code  X_objs = get_obj_cols(X)\\nX_objs_idx = [X.columns.get_loc(col) for col in X_objs]\\nZ_objs = get_obj_cols(Z)\\nZ_objs_...\n",
       "d0f88604      code  for obj in X_objs:\\n    X[obj] = X[obj].astype('category').cat.codes\\nfor obj in Z_objs:\\n    Z[obj] = Z[obj].astype...\n",
       "8df28832      code                                                   X.drop('id', axis=1, inplace=True)\\nZ.drop('id', axis=1, inplace=True)\n",
       "8c01934e      code  from sklearn.model_selection import StratifiedKFold, cross_val_score\\nfrom sklearn.metrics import roc_auc_score\\nK = 10\n",
       "18b4e8d6      code                                                       skf = StratifiedKFold(n_splits=K, shuffle=True, random_state=SEED)\n",
       "c012109d      code                          df_model = pd.DataFrame(columns = [*[f'model_{i}' for i in range(K)], 'average_auc'])\\ndf_model\n",
       "83ff0598      code                                                                                                  import lightgbm as lgbm\n",
       "d35f13e5      code  params = {\\n    'learning_rate':1e-2,\\n    'max_bin':24,\\n    'n_estimators':1000,\\n    'device_type':'gpu',\\n    'm...\n",
       "cfba39db      code  ctr = 0\\nmodel = []\\nauc_score = []\\nfor train_idx, val_idx in skf.split(X, y):\\n    Xt, Xv = X.loc[train_idx], X.lo...\n",
       "fbc1c206      code                                              df_model.loc[df_model.shape[0]] = [\\n    *model,\\n    np.mean(auc_score)\\n]\n",
       "ace03b55      code                                                                                                  df_model['average_auc']\n",
       "671b78af      code  def predict(X):\\n    y_prob = []\\n    for i in range(K):\\n        y_prob.append(df_model.loc[0, f'model_{i}'].predic...\n",
       "61d3ad05      code                                                                     from sklearn.model_selection import train_test_split\n",
       "6d6683ea      code                                                Xt, Xv, yt, yv = train_test_split(X, y, test_size=0.2, random_state=SEED)\n",
       "2f41ebe2      code                                                                              yv_prob = predict(Xv)\\nmetrics(yv, yv_prob)\n",
       "9dae7ae9      code  test_prob = predict(Z)\\nsubmission = pd.read_csv(\"../input/tabular-playground-series-mar-2021/sample_submission.csv\"...\n",
       "d3345791  markdown                                                                                                               # Training\n",
       "91194a54  markdown                                                                                                            # Categorical\n",
       "91d97bb2  markdown                                                                                                              # Read Data"
      ]
     },
     "metadata": {},
     "output_type": "display_data"
    },
    {
     "name": "stdout",
     "output_type": "stream",
     "text": [
      "\n"
     ]
    }
   ],
   "source": [
    "# Get an example notebook\n",
    "nb_id = df.index.unique('id')[6]\n",
    "print('Notebook:', nb_id)\n",
    "\n",
    "print(\"The disordered notebook:\")\n",
    "nb = df.loc[nb_id, :]\n",
    "display(nb)\n",
    "print()"
   ]
  },
  {
   "cell_type": "code",
   "execution_count": 4,
   "id": "1954150d",
   "metadata": {
    "execution": {
     "iopub.execute_input": "2022-05-28T19:22:38.536052Z",
     "iopub.status.busy": "2022-05-28T19:22:38.535784Z",
     "iopub.status.idle": "2022-05-28T19:22:40.967198Z",
     "shell.execute_reply": "2022-05-28T19:22:40.966387Z"
    },
    "papermill": {
     "duration": 2.804338,
     "end_time": "2022-05-28T19:22:40.969257",
     "exception": false,
     "start_time": "2022-05-28T19:22:38.164919",
     "status": "completed"
    },
    "tags": []
   },
   "outputs": [
    {
     "data": {
      "text/plain": [
       "id\n",
       "00001756c60be8    [1862f0a6, 448eb224, 2a9e43d6, 7e2f170a, 038b763d, 77e56113, 2eefe0ef, 1ae087ab, 0beab1cd, 8ffe0b25, 9a78ab76, 0d136...\n",
       "00015c83e2717b    [2e94bd7a, 3e99dee9, b5e286ea, da4f7550, c417225b, 51e3cd89, 2600b4eb, 75b65993, cf195f8b, 25699d02, 72b3201a, f2c75...\n",
       "0001bdd4021779    [3fdc37be, 073782ca, 8ea7263c, 80543cd8, 38310c80, 073e27e5, 015d52a4, ad7679ef, 7fde4f04, 07c52510, 0a1a7a39, 0bcd3...\n",
       "0001daf4c2c76d    [97266564, a898e555, 86605076, 76cc2642, ef279279, df6c939f, 2476da96, 00f87d0a, ae93e8e6, 58aadb1d, d20b0094, 986fd...\n",
       "0002115f48f982                                 [9ec225f0, 18281c6c, e3b6b115, 4a044c54, 365fe576, a3188e54, b3f6e12d, ee7655ca, 84125b7a]\n",
       "                                                                           ...                                                           \n",
       "fffc30d5a0bc46    [09727c0c, ff1ea6a0, ddfef603, a01ce9b3, 3ba953ee, bf92a015, f4a0492a, 095812e6, 53125cfe, aa32a700, 63340e73, 06d8c...\n",
       "fffc3b44869198    [978a5137, faa48f03, 28dfb12a, eea2e812, 64fef97c, 4e0d1510, 58e68f2c, 8784e700, 4bd5a4cf, dc14bfec, 2aff7603, 8047d...\n",
       "fffc63ff750064    [5015c300, 411b85d9, 8238198c, f4781d1d, b5532930, e1f223e5, e7e67119, 4aaf741d, 7229cce6, a7fa3628, e4c2fa86, 1f8f9...\n",
       "fffcd063cda949    [7e6266ad, d8281fc5, d4ffcaef, 3e0e4a47, 21387fc8, cc229f9a, baed9c8b, d1bb21aa, 82979992, 65f95dad, eba4fa9e, c97e2...\n",
       "fffe1d764579d5    [1a63248d, 9c3b96a5, 1398a873, 4e2d4c2d, f71c538e, 8b44a5e8, 385dff7a, b8254ef8, 4d0e433e, debc496c, e15ae953, e4d79...\n",
       "Name: cell_order, Length: 139256, dtype: object"
      ]
     },
     "execution_count": 4,
     "metadata": {},
     "output_type": "execute_result"
    }
   ],
   "source": [
    "df_orders = pd.read_csv(\n",
    "    data_dir / 'train_orders.csv',\n",
    "    index_col='id',\n",
    "    squeeze=True,\n",
    ").str.split()  # Split the string representation of cell_ids into a list\n",
    "\n",
    "df_orders"
   ]
  },
  {
   "cell_type": "code",
   "execution_count": 5,
   "id": "12dbf093",
   "metadata": {
    "execution": {
     "iopub.execute_input": "2022-05-28T19:22:41.718392Z",
     "iopub.status.busy": "2022-05-28T19:22:41.718124Z",
     "iopub.status.idle": "2022-05-28T19:22:41.725921Z",
     "shell.execute_reply": "2022-05-28T19:22:41.725151Z"
    },
    "papermill": {
     "duration": 0.382865,
     "end_time": "2022-05-28T19:22:41.728248",
     "exception": false,
     "start_time": "2022-05-28T19:22:41.345383",
     "status": "completed"
    },
    "tags": []
   },
   "outputs": [
    {
     "data": {
      "text/plain": [
       "73"
      ]
     },
     "execution_count": 5,
     "metadata": {},
     "output_type": "execute_result"
    }
   ],
   "source": [
    "len(df_orders.loc[\"002ba502bdac45\"])"
   ]
  },
  {
   "cell_type": "code",
   "execution_count": 6,
   "id": "d85b0401",
   "metadata": {
    "execution": {
     "iopub.execute_input": "2022-05-28T19:22:42.462087Z",
     "iopub.status.busy": "2022-05-28T19:22:42.461796Z",
     "iopub.status.idle": "2022-05-28T19:22:42.475874Z",
     "shell.execute_reply": "2022-05-28T19:22:42.475086Z"
    },
    "papermill": {
     "duration": 0.383166,
     "end_time": "2022-05-28T19:22:42.480332",
     "exception": false,
     "start_time": "2022-05-28T19:22:42.097166",
     "status": "completed"
    },
    "tags": []
   },
   "outputs": [
    {
     "name": "stdout",
     "output_type": "stream",
     "text": [
      "The ordered notebook:\n"
     ]
    },
    {
     "data": {
      "text/html": [
       "<div>\n",
       "<style scoped>\n",
       "    .dataframe tbody tr th:only-of-type {\n",
       "        vertical-align: middle;\n",
       "    }\n",
       "\n",
       "    .dataframe tbody tr th {\n",
       "        vertical-align: top;\n",
       "    }\n",
       "\n",
       "    .dataframe thead th {\n",
       "        text-align: right;\n",
       "    }\n",
       "</style>\n",
       "<table border=\"1\" class=\"dataframe\">\n",
       "  <thead>\n",
       "    <tr style=\"text-align: right;\">\n",
       "      <th></th>\n",
       "      <th>cell_type</th>\n",
       "      <th>source</th>\n",
       "    </tr>\n",
       "    <tr>\n",
       "      <th>cell_id</th>\n",
       "      <th></th>\n",
       "      <th></th>\n",
       "    </tr>\n",
       "  </thead>\n",
       "  <tbody>\n",
       "    <tr>\n",
       "      <th>91d97bb2</th>\n",
       "      <td>markdown</td>\n",
       "      <td># Read Data</td>\n",
       "    </tr>\n",
       "    <tr>\n",
       "      <th>4e6f32f6</th>\n",
       "      <td>code</td>\n",
       "      <td># This Python 3 environment comes with many helpful analytics libraries installed\\n# It is defined by the kaggle/pyt...</td>\n",
       "    </tr>\n",
       "    <tr>\n",
       "      <th>0aeca210</th>\n",
       "      <td>code</td>\n",
       "      <td>import warnings\\nimport random\\n\\nSEED=44\\nrandom.seed(SEED)\\nnp.random.seed(SEED)\\npd.set_option('display.width', N...</td>\n",
       "    </tr>\n",
       "    <tr>\n",
       "      <th>cadfdb16</th>\n",
       "      <td>code</td>\n",
       "      <td>train = pd.read_csv('/kaggle/input/tabular-playground-series-mar-2021/train.csv')\\ntest = pd.read_csv('/kaggle/input...</td>\n",
       "    </tr>\n",
       "    <tr>\n",
       "      <th>fe39c117</th>\n",
       "      <td>code</td>\n",
       "      <td>train.info()</td>\n",
       "    </tr>\n",
       "    <tr>\n",
       "      <th>bbc5f229</th>\n",
       "      <td>code</td>\n",
       "      <td>y = train.iloc[:,-1]\\nX = train.iloc[:,:-1]\\nZ = test</td>\n",
       "    </tr>\n",
       "    <tr>\n",
       "      <th>91194a54</th>\n",
       "      <td>markdown</td>\n",
       "      <td># Categorical</td>\n",
       "    </tr>\n",
       "    <tr>\n",
       "      <th>46cc92d1</th>\n",
       "      <td>code</td>\n",
       "      <td>def get_obj_cols(df):\\n    return [col for col in df.columns if df.dtypes[col] == np.object]</td>\n",
       "    </tr>\n",
       "    <tr>\n",
       "      <th>9d6ea72b</th>\n",
       "      <td>code</td>\n",
       "      <td>X_objs = get_obj_cols(X)\\nX_objs_idx = [X.columns.get_loc(col) for col in X_objs]\\nZ_objs = get_obj_cols(Z)\\nZ_objs_...</td>\n",
       "    </tr>\n",
       "    <tr>\n",
       "      <th>d0f88604</th>\n",
       "      <td>code</td>\n",
       "      <td>for obj in X_objs:\\n    X[obj] = X[obj].astype('category').cat.codes\\nfor obj in Z_objs:\\n    Z[obj] = Z[obj].astype...</td>\n",
       "    </tr>\n",
       "    <tr>\n",
       "      <th>8df28832</th>\n",
       "      <td>code</td>\n",
       "      <td>X.drop('id', axis=1, inplace=True)\\nZ.drop('id', axis=1, inplace=True)</td>\n",
       "    </tr>\n",
       "    <tr>\n",
       "      <th>d3345791</th>\n",
       "      <td>markdown</td>\n",
       "      <td># Training</td>\n",
       "    </tr>\n",
       "    <tr>\n",
       "      <th>8c01934e</th>\n",
       "      <td>code</td>\n",
       "      <td>from sklearn.model_selection import StratifiedKFold, cross_val_score\\nfrom sklearn.metrics import roc_auc_score\\nK = 10</td>\n",
       "    </tr>\n",
       "    <tr>\n",
       "      <th>18b4e8d6</th>\n",
       "      <td>code</td>\n",
       "      <td>skf = StratifiedKFold(n_splits=K, shuffle=True, random_state=SEED)</td>\n",
       "    </tr>\n",
       "    <tr>\n",
       "      <th>c012109d</th>\n",
       "      <td>code</td>\n",
       "      <td>df_model = pd.DataFrame(columns = [*[f'model_{i}' for i in range(K)], 'average_auc'])\\ndf_model</td>\n",
       "    </tr>\n",
       "    <tr>\n",
       "      <th>83ff0598</th>\n",
       "      <td>code</td>\n",
       "      <td>import lightgbm as lgbm</td>\n",
       "    </tr>\n",
       "    <tr>\n",
       "      <th>d35f13e5</th>\n",
       "      <td>code</td>\n",
       "      <td>params = {\\n    'learning_rate':1e-2,\\n    'max_bin':24,\\n    'n_estimators':1000,\\n    'device_type':'gpu',\\n    'm...</td>\n",
       "    </tr>\n",
       "    <tr>\n",
       "      <th>cfba39db</th>\n",
       "      <td>code</td>\n",
       "      <td>ctr = 0\\nmodel = []\\nauc_score = []\\nfor train_idx, val_idx in skf.split(X, y):\\n    Xt, Xv = X.loc[train_idx], X.lo...</td>\n",
       "    </tr>\n",
       "    <tr>\n",
       "      <th>fbc1c206</th>\n",
       "      <td>code</td>\n",
       "      <td>df_model.loc[df_model.shape[0]] = [\\n    *model,\\n    np.mean(auc_score)\\n]</td>\n",
       "    </tr>\n",
       "    <tr>\n",
       "      <th>ace03b55</th>\n",
       "      <td>code</td>\n",
       "      <td>df_model['average_auc']</td>\n",
       "    </tr>\n",
       "    <tr>\n",
       "      <th>671b78af</th>\n",
       "      <td>code</td>\n",
       "      <td>def predict(X):\\n    y_prob = []\\n    for i in range(K):\\n        y_prob.append(df_model.loc[0, f'model_{i}'].predic...</td>\n",
       "    </tr>\n",
       "    <tr>\n",
       "      <th>61d3ad05</th>\n",
       "      <td>code</td>\n",
       "      <td>from sklearn.model_selection import train_test_split</td>\n",
       "    </tr>\n",
       "    <tr>\n",
       "      <th>6d6683ea</th>\n",
       "      <td>code</td>\n",
       "      <td>Xt, Xv, yt, yv = train_test_split(X, y, test_size=0.2, random_state=SEED)</td>\n",
       "    </tr>\n",
       "    <tr>\n",
       "      <th>2f41ebe2</th>\n",
       "      <td>code</td>\n",
       "      <td>yv_prob = predict(Xv)\\nmetrics(yv, yv_prob)</td>\n",
       "    </tr>\n",
       "    <tr>\n",
       "      <th>9dae7ae9</th>\n",
       "      <td>code</td>\n",
       "      <td>test_prob = predict(Z)\\nsubmission = pd.read_csv(\"../input/tabular-playground-series-mar-2021/sample_submission.csv\"...</td>\n",
       "    </tr>\n",
       "  </tbody>\n",
       "</table>\n",
       "</div>"
      ],
      "text/plain": [
       "         cell_type                                                                                                                   source\n",
       "cell_id                                                                                                                                    \n",
       "91d97bb2  markdown                                                                                                              # Read Data\n",
       "4e6f32f6      code  # This Python 3 environment comes with many helpful analytics libraries installed\\n# It is defined by the kaggle/pyt...\n",
       "0aeca210      code  import warnings\\nimport random\\n\\nSEED=44\\nrandom.seed(SEED)\\nnp.random.seed(SEED)\\npd.set_option('display.width', N...\n",
       "cadfdb16      code  train = pd.read_csv('/kaggle/input/tabular-playground-series-mar-2021/train.csv')\\ntest = pd.read_csv('/kaggle/input...\n",
       "fe39c117      code                                                                                                             train.info()\n",
       "bbc5f229      code                                                                    y = train.iloc[:,-1]\\nX = train.iloc[:,:-1]\\nZ = test\n",
       "91194a54  markdown                                                                                                            # Categorical\n",
       "46cc92d1      code                             def get_obj_cols(df):\\n    return [col for col in df.columns if df.dtypes[col] == np.object]\n",
       "9d6ea72b      code  X_objs = get_obj_cols(X)\\nX_objs_idx = [X.columns.get_loc(col) for col in X_objs]\\nZ_objs = get_obj_cols(Z)\\nZ_objs_...\n",
       "d0f88604      code  for obj in X_objs:\\n    X[obj] = X[obj].astype('category').cat.codes\\nfor obj in Z_objs:\\n    Z[obj] = Z[obj].astype...\n",
       "8df28832      code                                                   X.drop('id', axis=1, inplace=True)\\nZ.drop('id', axis=1, inplace=True)\n",
       "d3345791  markdown                                                                                                               # Training\n",
       "8c01934e      code  from sklearn.model_selection import StratifiedKFold, cross_val_score\\nfrom sklearn.metrics import roc_auc_score\\nK = 10\n",
       "18b4e8d6      code                                                       skf = StratifiedKFold(n_splits=K, shuffle=True, random_state=SEED)\n",
       "c012109d      code                          df_model = pd.DataFrame(columns = [*[f'model_{i}' for i in range(K)], 'average_auc'])\\ndf_model\n",
       "83ff0598      code                                                                                                  import lightgbm as lgbm\n",
       "d35f13e5      code  params = {\\n    'learning_rate':1e-2,\\n    'max_bin':24,\\n    'n_estimators':1000,\\n    'device_type':'gpu',\\n    'm...\n",
       "cfba39db      code  ctr = 0\\nmodel = []\\nauc_score = []\\nfor train_idx, val_idx in skf.split(X, y):\\n    Xt, Xv = X.loc[train_idx], X.lo...\n",
       "fbc1c206      code                                              df_model.loc[df_model.shape[0]] = [\\n    *model,\\n    np.mean(auc_score)\\n]\n",
       "ace03b55      code                                                                                                  df_model['average_auc']\n",
       "671b78af      code  def predict(X):\\n    y_prob = []\\n    for i in range(K):\\n        y_prob.append(df_model.loc[0, f'model_{i}'].predic...\n",
       "61d3ad05      code                                                                     from sklearn.model_selection import train_test_split\n",
       "6d6683ea      code                                                Xt, Xv, yt, yv = train_test_split(X, y, test_size=0.2, random_state=SEED)\n",
       "2f41ebe2      code                                                                              yv_prob = predict(Xv)\\nmetrics(yv, yv_prob)\n",
       "9dae7ae9      code  test_prob = predict(Z)\\nsubmission = pd.read_csv(\"../input/tabular-playground-series-mar-2021/sample_submission.csv\"..."
      ]
     },
     "execution_count": 6,
     "metadata": {},
     "output_type": "execute_result"
    }
   ],
   "source": [
    "cell_order = df_orders.loc[nb_id]\n",
    "\n",
    "print(\"The ordered notebook:\")\n",
    "nb.loc[cell_order, :]"
   ]
  },
  {
   "cell_type": "code",
   "execution_count": 7,
   "id": "bee57347",
   "metadata": {
    "execution": {
     "iopub.execute_input": "2022-05-28T19:22:43.250235Z",
     "iopub.status.busy": "2022-05-28T19:22:43.249966Z",
     "iopub.status.idle": "2022-05-28T19:22:43.266023Z",
     "shell.execute_reply": "2022-05-28T19:22:43.265191Z"
    },
    "papermill": {
     "duration": 0.403345,
     "end_time": "2022-05-28T19:22:43.268066",
     "exception": false,
     "start_time": "2022-05-28T19:22:42.864721",
     "status": "completed"
    },
    "tags": []
   },
   "outputs": [
    {
     "data": {
      "text/html": [
       "<div>\n",
       "<style scoped>\n",
       "    .dataframe tbody tr th:only-of-type {\n",
       "        vertical-align: middle;\n",
       "    }\n",
       "\n",
       "    .dataframe tbody tr th {\n",
       "        vertical-align: top;\n",
       "    }\n",
       "\n",
       "    .dataframe thead th {\n",
       "        text-align: right;\n",
       "    }\n",
       "</style>\n",
       "<table border=\"1\" class=\"dataframe\">\n",
       "  <thead>\n",
       "    <tr style=\"text-align: right;\">\n",
       "      <th></th>\n",
       "      <th>rank</th>\n",
       "      <th>cell_type</th>\n",
       "      <th>source</th>\n",
       "    </tr>\n",
       "    <tr>\n",
       "      <th>cell_id</th>\n",
       "      <th></th>\n",
       "      <th></th>\n",
       "      <th></th>\n",
       "    </tr>\n",
       "  </thead>\n",
       "  <tbody>\n",
       "    <tr>\n",
       "      <th>4e6f32f6</th>\n",
       "      <td>1</td>\n",
       "      <td>code</td>\n",
       "      <td># This Python 3 environment comes with many helpful analytics libraries installed\\n# It is defined by the kaggle/pyt...</td>\n",
       "    </tr>\n",
       "    <tr>\n",
       "      <th>0aeca210</th>\n",
       "      <td>2</td>\n",
       "      <td>code</td>\n",
       "      <td>import warnings\\nimport random\\n\\nSEED=44\\nrandom.seed(SEED)\\nnp.random.seed(SEED)\\npd.set_option('display.width', N...</td>\n",
       "    </tr>\n",
       "    <tr>\n",
       "      <th>cadfdb16</th>\n",
       "      <td>3</td>\n",
       "      <td>code</td>\n",
       "      <td>train = pd.read_csv('/kaggle/input/tabular-playground-series-mar-2021/train.csv')\\ntest = pd.read_csv('/kaggle/input...</td>\n",
       "    </tr>\n",
       "    <tr>\n",
       "      <th>fe39c117</th>\n",
       "      <td>4</td>\n",
       "      <td>code</td>\n",
       "      <td>train.info()</td>\n",
       "    </tr>\n",
       "    <tr>\n",
       "      <th>bbc5f229</th>\n",
       "      <td>5</td>\n",
       "      <td>code</td>\n",
       "      <td>y = train.iloc[:,-1]\\nX = train.iloc[:,:-1]\\nZ = test</td>\n",
       "    </tr>\n",
       "    <tr>\n",
       "      <th>46cc92d1</th>\n",
       "      <td>7</td>\n",
       "      <td>code</td>\n",
       "      <td>def get_obj_cols(df):\\n    return [col for col in df.columns if df.dtypes[col] == np.object]</td>\n",
       "    </tr>\n",
       "    <tr>\n",
       "      <th>9d6ea72b</th>\n",
       "      <td>8</td>\n",
       "      <td>code</td>\n",
       "      <td>X_objs = get_obj_cols(X)\\nX_objs_idx = [X.columns.get_loc(col) for col in X_objs]\\nZ_objs = get_obj_cols(Z)\\nZ_objs_...</td>\n",
       "    </tr>\n",
       "    <tr>\n",
       "      <th>d0f88604</th>\n",
       "      <td>9</td>\n",
       "      <td>code</td>\n",
       "      <td>for obj in X_objs:\\n    X[obj] = X[obj].astype('category').cat.codes\\nfor obj in Z_objs:\\n    Z[obj] = Z[obj].astype...</td>\n",
       "    </tr>\n",
       "    <tr>\n",
       "      <th>8df28832</th>\n",
       "      <td>10</td>\n",
       "      <td>code</td>\n",
       "      <td>X.drop('id', axis=1, inplace=True)\\nZ.drop('id', axis=1, inplace=True)</td>\n",
       "    </tr>\n",
       "    <tr>\n",
       "      <th>8c01934e</th>\n",
       "      <td>12</td>\n",
       "      <td>code</td>\n",
       "      <td>from sklearn.model_selection import StratifiedKFold, cross_val_score\\nfrom sklearn.metrics import roc_auc_score\\nK = 10</td>\n",
       "    </tr>\n",
       "    <tr>\n",
       "      <th>18b4e8d6</th>\n",
       "      <td>13</td>\n",
       "      <td>code</td>\n",
       "      <td>skf = StratifiedKFold(n_splits=K, shuffle=True, random_state=SEED)</td>\n",
       "    </tr>\n",
       "    <tr>\n",
       "      <th>c012109d</th>\n",
       "      <td>14</td>\n",
       "      <td>code</td>\n",
       "      <td>df_model = pd.DataFrame(columns = [*[f'model_{i}' for i in range(K)], 'average_auc'])\\ndf_model</td>\n",
       "    </tr>\n",
       "    <tr>\n",
       "      <th>83ff0598</th>\n",
       "      <td>15</td>\n",
       "      <td>code</td>\n",
       "      <td>import lightgbm as lgbm</td>\n",
       "    </tr>\n",
       "    <tr>\n",
       "      <th>d35f13e5</th>\n",
       "      <td>16</td>\n",
       "      <td>code</td>\n",
       "      <td>params = {\\n    'learning_rate':1e-2,\\n    'max_bin':24,\\n    'n_estimators':1000,\\n    'device_type':'gpu',\\n    'm...</td>\n",
       "    </tr>\n",
       "    <tr>\n",
       "      <th>cfba39db</th>\n",
       "      <td>17</td>\n",
       "      <td>code</td>\n",
       "      <td>ctr = 0\\nmodel = []\\nauc_score = []\\nfor train_idx, val_idx in skf.split(X, y):\\n    Xt, Xv = X.loc[train_idx], X.lo...</td>\n",
       "    </tr>\n",
       "    <tr>\n",
       "      <th>fbc1c206</th>\n",
       "      <td>18</td>\n",
       "      <td>code</td>\n",
       "      <td>df_model.loc[df_model.shape[0]] = [\\n    *model,\\n    np.mean(auc_score)\\n]</td>\n",
       "    </tr>\n",
       "    <tr>\n",
       "      <th>ace03b55</th>\n",
       "      <td>19</td>\n",
       "      <td>code</td>\n",
       "      <td>df_model['average_auc']</td>\n",
       "    </tr>\n",
       "    <tr>\n",
       "      <th>671b78af</th>\n",
       "      <td>20</td>\n",
       "      <td>code</td>\n",
       "      <td>def predict(X):\\n    y_prob = []\\n    for i in range(K):\\n        y_prob.append(df_model.loc[0, f'model_{i}'].predic...</td>\n",
       "    </tr>\n",
       "    <tr>\n",
       "      <th>61d3ad05</th>\n",
       "      <td>21</td>\n",
       "      <td>code</td>\n",
       "      <td>from sklearn.model_selection import train_test_split</td>\n",
       "    </tr>\n",
       "    <tr>\n",
       "      <th>6d6683ea</th>\n",
       "      <td>22</td>\n",
       "      <td>code</td>\n",
       "      <td>Xt, Xv, yt, yv = train_test_split(X, y, test_size=0.2, random_state=SEED)</td>\n",
       "    </tr>\n",
       "    <tr>\n",
       "      <th>2f41ebe2</th>\n",
       "      <td>23</td>\n",
       "      <td>code</td>\n",
       "      <td>yv_prob = predict(Xv)\\nmetrics(yv, yv_prob)</td>\n",
       "    </tr>\n",
       "    <tr>\n",
       "      <th>9dae7ae9</th>\n",
       "      <td>24</td>\n",
       "      <td>code</td>\n",
       "      <td>test_prob = predict(Z)\\nsubmission = pd.read_csv(\"../input/tabular-playground-series-mar-2021/sample_submission.csv\"...</td>\n",
       "    </tr>\n",
       "    <tr>\n",
       "      <th>d3345791</th>\n",
       "      <td>11</td>\n",
       "      <td>markdown</td>\n",
       "      <td># Training</td>\n",
       "    </tr>\n",
       "    <tr>\n",
       "      <th>91194a54</th>\n",
       "      <td>6</td>\n",
       "      <td>markdown</td>\n",
       "      <td># Categorical</td>\n",
       "    </tr>\n",
       "    <tr>\n",
       "      <th>91d97bb2</th>\n",
       "      <td>0</td>\n",
       "      <td>markdown</td>\n",
       "      <td># Read Data</td>\n",
       "    </tr>\n",
       "  </tbody>\n",
       "</table>\n",
       "</div>"
      ],
      "text/plain": [
       "          rank cell_type                                                                                                                   source\n",
       "cell_id                                                                                                                                          \n",
       "4e6f32f6     1      code  # This Python 3 environment comes with many helpful analytics libraries installed\\n# It is defined by the kaggle/pyt...\n",
       "0aeca210     2      code  import warnings\\nimport random\\n\\nSEED=44\\nrandom.seed(SEED)\\nnp.random.seed(SEED)\\npd.set_option('display.width', N...\n",
       "cadfdb16     3      code  train = pd.read_csv('/kaggle/input/tabular-playground-series-mar-2021/train.csv')\\ntest = pd.read_csv('/kaggle/input...\n",
       "fe39c117     4      code                                                                                                             train.info()\n",
       "bbc5f229     5      code                                                                    y = train.iloc[:,-1]\\nX = train.iloc[:,:-1]\\nZ = test\n",
       "46cc92d1     7      code                             def get_obj_cols(df):\\n    return [col for col in df.columns if df.dtypes[col] == np.object]\n",
       "9d6ea72b     8      code  X_objs = get_obj_cols(X)\\nX_objs_idx = [X.columns.get_loc(col) for col in X_objs]\\nZ_objs = get_obj_cols(Z)\\nZ_objs_...\n",
       "d0f88604     9      code  for obj in X_objs:\\n    X[obj] = X[obj].astype('category').cat.codes\\nfor obj in Z_objs:\\n    Z[obj] = Z[obj].astype...\n",
       "8df28832    10      code                                                   X.drop('id', axis=1, inplace=True)\\nZ.drop('id', axis=1, inplace=True)\n",
       "8c01934e    12      code  from sklearn.model_selection import StratifiedKFold, cross_val_score\\nfrom sklearn.metrics import roc_auc_score\\nK = 10\n",
       "18b4e8d6    13      code                                                       skf = StratifiedKFold(n_splits=K, shuffle=True, random_state=SEED)\n",
       "c012109d    14      code                          df_model = pd.DataFrame(columns = [*[f'model_{i}' for i in range(K)], 'average_auc'])\\ndf_model\n",
       "83ff0598    15      code                                                                                                  import lightgbm as lgbm\n",
       "d35f13e5    16      code  params = {\\n    'learning_rate':1e-2,\\n    'max_bin':24,\\n    'n_estimators':1000,\\n    'device_type':'gpu',\\n    'm...\n",
       "cfba39db    17      code  ctr = 0\\nmodel = []\\nauc_score = []\\nfor train_idx, val_idx in skf.split(X, y):\\n    Xt, Xv = X.loc[train_idx], X.lo...\n",
       "fbc1c206    18      code                                              df_model.loc[df_model.shape[0]] = [\\n    *model,\\n    np.mean(auc_score)\\n]\n",
       "ace03b55    19      code                                                                                                  df_model['average_auc']\n",
       "671b78af    20      code  def predict(X):\\n    y_prob = []\\n    for i in range(K):\\n        y_prob.append(df_model.loc[0, f'model_{i}'].predic...\n",
       "61d3ad05    21      code                                                                     from sklearn.model_selection import train_test_split\n",
       "6d6683ea    22      code                                                Xt, Xv, yt, yv = train_test_split(X, y, test_size=0.2, random_state=SEED)\n",
       "2f41ebe2    23      code                                                                              yv_prob = predict(Xv)\\nmetrics(yv, yv_prob)\n",
       "9dae7ae9    24      code  test_prob = predict(Z)\\nsubmission = pd.read_csv(\"../input/tabular-playground-series-mar-2021/sample_submission.csv\"...\n",
       "d3345791    11  markdown                                                                                                               # Training\n",
       "91194a54     6  markdown                                                                                                            # Categorical\n",
       "91d97bb2     0  markdown                                                                                                              # Read Data"
      ]
     },
     "execution_count": 7,
     "metadata": {},
     "output_type": "execute_result"
    }
   ],
   "source": [
    "def get_ranks(base, derived):\n",
    "    return [base.index(d) for d in derived]\n",
    "\n",
    "cell_ranks = get_ranks(cell_order, list(nb.index))\n",
    "nb.insert(0, 'rank', cell_ranks)\n",
    "\n",
    "nb"
   ]
  },
  {
   "cell_type": "code",
   "execution_count": 8,
   "id": "6ad5cfb1",
   "metadata": {
    "execution": {
     "iopub.execute_input": "2022-05-28T19:22:44.034589Z",
     "iopub.status.busy": "2022-05-28T19:22:44.034313Z",
     "iopub.status.idle": "2022-05-28T19:22:46.897583Z",
     "shell.execute_reply": "2022-05-28T19:22:46.896903Z"
    },
    "papermill": {
     "duration": 3.237835,
     "end_time": "2022-05-28T19:22:46.900227",
     "exception": false,
     "start_time": "2022-05-28T19:22:43.662392",
     "status": "completed"
    },
    "tags": []
   },
   "outputs": [
    {
     "data": {
      "text/html": [
       "<div>\n",
       "<style scoped>\n",
       "    .dataframe tbody tr th:only-of-type {\n",
       "        vertical-align: middle;\n",
       "    }\n",
       "\n",
       "    .dataframe tbody tr th {\n",
       "        vertical-align: top;\n",
       "    }\n",
       "\n",
       "    .dataframe thead th {\n",
       "        text-align: right;\n",
       "    }\n",
       "</style>\n",
       "<table border=\"1\" class=\"dataframe\">\n",
       "  <thead>\n",
       "    <tr style=\"text-align: right;\">\n",
       "      <th></th>\n",
       "      <th></th>\n",
       "      <th>rank</th>\n",
       "    </tr>\n",
       "    <tr>\n",
       "      <th>id</th>\n",
       "      <th>cell_id</th>\n",
       "      <th></th>\n",
       "    </tr>\n",
       "  </thead>\n",
       "  <tbody>\n",
       "    <tr>\n",
       "      <th rowspan=\"5\" valign=\"top\">000c0a9b2fef4d</th>\n",
       "      <th>1087237d</th>\n",
       "      <td>2</td>\n",
       "    </tr>\n",
       "    <tr>\n",
       "      <th>d7209f1f</th>\n",
       "      <td>4</td>\n",
       "    </tr>\n",
       "    <tr>\n",
       "      <th>daf5b8ee</th>\n",
       "      <td>6</td>\n",
       "    </tr>\n",
       "    <tr>\n",
       "      <th>e404213c</th>\n",
       "      <td>7</td>\n",
       "    </tr>\n",
       "    <tr>\n",
       "      <th>2bad59b0</th>\n",
       "      <td>8</td>\n",
       "    </tr>\n",
       "    <tr>\n",
       "      <th>...</th>\n",
       "      <th>...</th>\n",
       "      <td>...</td>\n",
       "    </tr>\n",
       "    <tr>\n",
       "      <th rowspan=\"5\" valign=\"top\">fffc63ff750064</th>\n",
       "      <th>56aa8da7</th>\n",
       "      <td>25</td>\n",
       "    </tr>\n",
       "    <tr>\n",
       "      <th>411b85d9</th>\n",
       "      <td>1</td>\n",
       "    </tr>\n",
       "    <tr>\n",
       "      <th>e7e67119</th>\n",
       "      <td>6</td>\n",
       "    </tr>\n",
       "    <tr>\n",
       "      <th>8b54cf58</th>\n",
       "      <td>22</td>\n",
       "    </tr>\n",
       "    <tr>\n",
       "      <th>b3c6bc16</th>\n",
       "      <td>18</td>\n",
       "    </tr>\n",
       "  </tbody>\n",
       "</table>\n",
       "<p>461166 rows × 1 columns</p>\n",
       "</div>"
      ],
      "text/plain": [
       "                        rank\n",
       "id             cell_id      \n",
       "000c0a9b2fef4d 1087237d    2\n",
       "               d7209f1f    4\n",
       "               daf5b8ee    6\n",
       "               e404213c    7\n",
       "               2bad59b0    8\n",
       "...                      ...\n",
       "fffc63ff750064 56aa8da7   25\n",
       "               411b85d9    1\n",
       "               e7e67119    6\n",
       "               8b54cf58   22\n",
       "               b3c6bc16   18\n",
       "\n",
       "[461166 rows x 1 columns]"
      ]
     },
     "execution_count": 8,
     "metadata": {},
     "output_type": "execute_result"
    }
   ],
   "source": [
    "df_orders_ = df_orders.to_frame().join(\n",
    "    df.reset_index('cell_id').groupby('id')['cell_id'].apply(list),\n",
    "    how='right',\n",
    ")\n",
    "\n",
    "ranks = {}\n",
    "for id_, cell_order, cell_id in df_orders_.itertuples():\n",
    "    ranks[id_] = {'cell_id': cell_id, 'rank': get_ranks(cell_order, cell_id)}\n",
    "\n",
    "df_ranks = (\n",
    "    pd.DataFrame\n",
    "    .from_dict(ranks, orient='index')\n",
    "    .rename_axis('id')\n",
    "    .apply(pd.Series.explode)\n",
    "    .set_index('cell_id', append=True)\n",
    ")\n",
    "\n",
    "df_ranks"
   ]
  },
  {
   "cell_type": "code",
   "execution_count": 9,
   "id": "74b33599",
   "metadata": {
    "execution": {
     "iopub.execute_input": "2022-05-28T19:22:47.737740Z",
     "iopub.status.busy": "2022-05-28T19:22:47.737335Z",
     "iopub.status.idle": "2022-05-28T19:22:47.977693Z",
     "shell.execute_reply": "2022-05-28T19:22:47.976499Z"
    },
    "papermill": {
     "duration": 0.61653,
     "end_time": "2022-05-28T19:22:47.980442",
     "exception": false,
     "start_time": "2022-05-28T19:22:47.363912",
     "status": "completed"
    },
    "tags": []
   },
   "outputs": [
    {
     "data": {
      "text/html": [
       "<div>\n",
       "<style scoped>\n",
       "    .dataframe tbody tr th:only-of-type {\n",
       "        vertical-align: middle;\n",
       "    }\n",
       "\n",
       "    .dataframe tbody tr th {\n",
       "        vertical-align: top;\n",
       "    }\n",
       "\n",
       "    .dataframe thead th {\n",
       "        text-align: right;\n",
       "    }\n",
       "</style>\n",
       "<table border=\"1\" class=\"dataframe\">\n",
       "  <thead>\n",
       "    <tr style=\"text-align: right;\">\n",
       "      <th></th>\n",
       "      <th>ancestor_id</th>\n",
       "      <th>parent_id</th>\n",
       "    </tr>\n",
       "    <tr>\n",
       "      <th>id</th>\n",
       "      <th></th>\n",
       "      <th></th>\n",
       "    </tr>\n",
       "  </thead>\n",
       "  <tbody>\n",
       "    <tr>\n",
       "      <th>00001756c60be8</th>\n",
       "      <td>945aea18</td>\n",
       "      <td>NaN</td>\n",
       "    </tr>\n",
       "    <tr>\n",
       "      <th>00015c83e2717b</th>\n",
       "      <td>aa2da37e</td>\n",
       "      <td>317b65d12af9df</td>\n",
       "    </tr>\n",
       "    <tr>\n",
       "      <th>0001bdd4021779</th>\n",
       "      <td>a7711fde</td>\n",
       "      <td>NaN</td>\n",
       "    </tr>\n",
       "    <tr>\n",
       "      <th>0001daf4c2c76d</th>\n",
       "      <td>090152ca</td>\n",
       "      <td>NaN</td>\n",
       "    </tr>\n",
       "    <tr>\n",
       "      <th>0002115f48f982</th>\n",
       "      <td>272b483a</td>\n",
       "      <td>NaN</td>\n",
       "    </tr>\n",
       "    <tr>\n",
       "      <th>...</th>\n",
       "      <td>...</td>\n",
       "      <td>...</td>\n",
       "    </tr>\n",
       "    <tr>\n",
       "      <th>fffc30d5a0bc46</th>\n",
       "      <td>6aed207b</td>\n",
       "      <td>NaN</td>\n",
       "    </tr>\n",
       "    <tr>\n",
       "      <th>fffc3b44869198</th>\n",
       "      <td>a6aaa8d7</td>\n",
       "      <td>NaN</td>\n",
       "    </tr>\n",
       "    <tr>\n",
       "      <th>fffc63ff750064</th>\n",
       "      <td>0a1b5b65</td>\n",
       "      <td>NaN</td>\n",
       "    </tr>\n",
       "    <tr>\n",
       "      <th>fffcd063cda949</th>\n",
       "      <td>d971e960</td>\n",
       "      <td>NaN</td>\n",
       "    </tr>\n",
       "    <tr>\n",
       "      <th>fffe1d764579d5</th>\n",
       "      <td>3c40bfa6</td>\n",
       "      <td>NaN</td>\n",
       "    </tr>\n",
       "  </tbody>\n",
       "</table>\n",
       "<p>139256 rows × 2 columns</p>\n",
       "</div>"
      ],
      "text/plain": [
       "               ancestor_id       parent_id\n",
       "id                                        \n",
       "00001756c60be8    945aea18             NaN\n",
       "00015c83e2717b    aa2da37e  317b65d12af9df\n",
       "0001bdd4021779    a7711fde             NaN\n",
       "0001daf4c2c76d    090152ca             NaN\n",
       "0002115f48f982    272b483a             NaN\n",
       "...                    ...             ...\n",
       "fffc30d5a0bc46    6aed207b             NaN\n",
       "fffc3b44869198    a6aaa8d7             NaN\n",
       "fffc63ff750064    0a1b5b65             NaN\n",
       "fffcd063cda949    d971e960             NaN\n",
       "fffe1d764579d5    3c40bfa6             NaN\n",
       "\n",
       "[139256 rows x 2 columns]"
      ]
     },
     "execution_count": 9,
     "metadata": {},
     "output_type": "execute_result"
    }
   ],
   "source": [
    "df_ancestors = pd.read_csv(data_dir / 'train_ancestors.csv', index_col='id')\n",
    "df_ancestors"
   ]
  },
  {
   "cell_type": "code",
   "execution_count": 10,
   "id": "69aec0b4",
   "metadata": {
    "execution": {
     "iopub.execute_input": "2022-05-28T19:22:48.754260Z",
     "iopub.status.busy": "2022-05-28T19:22:48.753829Z",
     "iopub.status.idle": "2022-05-28T19:22:49.617124Z",
     "shell.execute_reply": "2022-05-28T19:22:49.616415Z"
    },
    "papermill": {
     "duration": 1.255858,
     "end_time": "2022-05-28T19:22:49.618986",
     "exception": false,
     "start_time": "2022-05-28T19:22:48.363128",
     "status": "completed"
    },
    "tags": []
   },
   "outputs": [
    {
     "data": {
      "text/html": [
       "<div>\n",
       "<style scoped>\n",
       "    .dataframe tbody tr th:only-of-type {\n",
       "        vertical-align: middle;\n",
       "    }\n",
       "\n",
       "    .dataframe tbody tr th {\n",
       "        vertical-align: top;\n",
       "    }\n",
       "\n",
       "    .dataframe thead th {\n",
       "        text-align: right;\n",
       "    }\n",
       "</style>\n",
       "<table border=\"1\" class=\"dataframe\">\n",
       "  <thead>\n",
       "    <tr style=\"text-align: right;\">\n",
       "      <th></th>\n",
       "      <th>id</th>\n",
       "      <th>cell_id</th>\n",
       "      <th>cell_type</th>\n",
       "      <th>source</th>\n",
       "      <th>rank</th>\n",
       "      <th>ancestor_id</th>\n",
       "      <th>parent_id</th>\n",
       "    </tr>\n",
       "  </thead>\n",
       "  <tbody>\n",
       "    <tr>\n",
       "      <th>0</th>\n",
       "      <td>000c0a9b2fef4d</td>\n",
       "      <td>1087237d</td>\n",
       "      <td>code</td>\n",
       "      <td># Data manipulation\\nimport pandas as pd\\nimport numpy as np\\n\\n# Data visualization\\nimport matplotlib.pyplot as pl...</td>\n",
       "      <td>2</td>\n",
       "      <td>a2e47ece</td>\n",
       "      <td>NaN</td>\n",
       "    </tr>\n",
       "    <tr>\n",
       "      <th>1</th>\n",
       "      <td>000c0a9b2fef4d</td>\n",
       "      <td>d7209f1f</td>\n",
       "      <td>code</td>\n",
       "      <td>fifa_raw_dataset = pd.read_csv('../input/data.csv')</td>\n",
       "      <td>4</td>\n",
       "      <td>a2e47ece</td>\n",
       "      <td>NaN</td>\n",
       "    </tr>\n",
       "    <tr>\n",
       "      <th>2</th>\n",
       "      <td>000c0a9b2fef4d</td>\n",
       "      <td>daf5b8ee</td>\n",
       "      <td>code</td>\n",
       "      <td>fifa_raw_dataset.head()</td>\n",
       "      <td>6</td>\n",
       "      <td>a2e47ece</td>\n",
       "      <td>NaN</td>\n",
       "    </tr>\n",
       "    <tr>\n",
       "      <th>3</th>\n",
       "      <td>000c0a9b2fef4d</td>\n",
       "      <td>e404213c</td>\n",
       "      <td>code</td>\n",
       "      <td>fifa_raw_dataset.info()</td>\n",
       "      <td>7</td>\n",
       "      <td>a2e47ece</td>\n",
       "      <td>NaN</td>\n",
       "    </tr>\n",
       "    <tr>\n",
       "      <th>4</th>\n",
       "      <td>000c0a9b2fef4d</td>\n",
       "      <td>2bad59b0</td>\n",
       "      <td>code</td>\n",
       "      <td>fifa_raw_dataset.shape</td>\n",
       "      <td>8</td>\n",
       "      <td>a2e47ece</td>\n",
       "      <td>NaN</td>\n",
       "    </tr>\n",
       "    <tr>\n",
       "      <th>...</th>\n",
       "      <td>...</td>\n",
       "      <td>...</td>\n",
       "      <td>...</td>\n",
       "      <td>...</td>\n",
       "      <td>...</td>\n",
       "      <td>...</td>\n",
       "      <td>...</td>\n",
       "    </tr>\n",
       "    <tr>\n",
       "      <th>461161</th>\n",
       "      <td>fffc63ff750064</td>\n",
       "      <td>56aa8da7</td>\n",
       "      <td>code</td>\n",
       "      <td>\\nsubmission.to_csv('house_price_rf.csv', index = False)</td>\n",
       "      <td>25</td>\n",
       "      <td>0a1b5b65</td>\n",
       "      <td>NaN</td>\n",
       "    </tr>\n",
       "    <tr>\n",
       "      <th>461162</th>\n",
       "      <td>fffc63ff750064</td>\n",
       "      <td>411b85d9</td>\n",
       "      <td>markdown</td>\n",
       "      <td>1. # Data exploration</td>\n",
       "      <td>1</td>\n",
       "      <td>0a1b5b65</td>\n",
       "      <td>NaN</td>\n",
       "    </tr>\n",
       "    <tr>\n",
       "      <th>461163</th>\n",
       "      <td>fffc63ff750064</td>\n",
       "      <td>e7e67119</td>\n",
       "      <td>markdown</td>\n",
       "      <td># # Data preprocessing</td>\n",
       "      <td>6</td>\n",
       "      <td>0a1b5b65</td>\n",
       "      <td>NaN</td>\n",
       "    </tr>\n",
       "    <tr>\n",
       "      <th>461164</th>\n",
       "      <td>fffc63ff750064</td>\n",
       "      <td>8b54cf58</td>\n",
       "      <td>markdown</td>\n",
       "      <td># Post-process for submission</td>\n",
       "      <td>22</td>\n",
       "      <td>0a1b5b65</td>\n",
       "      <td>NaN</td>\n",
       "    </tr>\n",
       "    <tr>\n",
       "      <th>461165</th>\n",
       "      <td>fffc63ff750064</td>\n",
       "      <td>b3c6bc16</td>\n",
       "      <td>markdown</td>\n",
       "      <td># Define and fit model</td>\n",
       "      <td>18</td>\n",
       "      <td>0a1b5b65</td>\n",
       "      <td>NaN</td>\n",
       "    </tr>\n",
       "  </tbody>\n",
       "</table>\n",
       "<p>461166 rows × 7 columns</p>\n",
       "</div>"
      ],
      "text/plain": [
       "                    id   cell_id cell_type                                                                                                                   source rank  \\\n",
       "0       000c0a9b2fef4d  1087237d      code  # Data manipulation\\nimport pandas as pd\\nimport numpy as np\\n\\n# Data visualization\\nimport matplotlib.pyplot as pl...    2   \n",
       "1       000c0a9b2fef4d  d7209f1f      code                                                                      fifa_raw_dataset = pd.read_csv('../input/data.csv')    4   \n",
       "2       000c0a9b2fef4d  daf5b8ee      code                                                                                                  fifa_raw_dataset.head()    6   \n",
       "3       000c0a9b2fef4d  e404213c      code                                                                                                  fifa_raw_dataset.info()    7   \n",
       "4       000c0a9b2fef4d  2bad59b0      code                                                                                                   fifa_raw_dataset.shape    8   \n",
       "...                ...       ...       ...                                                                                                                      ...  ...   \n",
       "461161  fffc63ff750064  56aa8da7      code                                                                 \\nsubmission.to_csv('house_price_rf.csv', index = False)   25   \n",
       "461162  fffc63ff750064  411b85d9  markdown                                                                                                    1. # Data exploration    1   \n",
       "461163  fffc63ff750064  e7e67119  markdown                                                                                                   # # Data preprocessing    6   \n",
       "461164  fffc63ff750064  8b54cf58  markdown                                                                                            # Post-process for submission   22   \n",
       "461165  fffc63ff750064  b3c6bc16  markdown                                                                                                   # Define and fit model   18   \n",
       "\n",
       "       ancestor_id parent_id  \n",
       "0         a2e47ece       NaN  \n",
       "1         a2e47ece       NaN  \n",
       "2         a2e47ece       NaN  \n",
       "3         a2e47ece       NaN  \n",
       "4         a2e47ece       NaN  \n",
       "...            ...       ...  \n",
       "461161    0a1b5b65       NaN  \n",
       "461162    0a1b5b65       NaN  \n",
       "461163    0a1b5b65       NaN  \n",
       "461164    0a1b5b65       NaN  \n",
       "461165    0a1b5b65       NaN  \n",
       "\n",
       "[461166 rows x 7 columns]"
      ]
     },
     "execution_count": 10,
     "metadata": {},
     "output_type": "execute_result"
    }
   ],
   "source": [
    "df = df.reset_index().merge(df_ranks, on=[\"id\", \"cell_id\"]).merge(df_ancestors, on=[\"id\"])\n",
    "df"
   ]
  },
  {
   "cell_type": "code",
   "execution_count": 11,
   "id": "f25535db",
   "metadata": {
    "execution": {
     "iopub.execute_input": "2022-05-28T19:22:50.321682Z",
     "iopub.status.busy": "2022-05-28T19:22:50.321034Z",
     "iopub.status.idle": "2022-05-28T19:22:50.963220Z",
     "shell.execute_reply": "2022-05-28T19:22:50.962521Z"
    },
    "papermill": {
     "duration": 0.997659,
     "end_time": "2022-05-28T19:22:50.965162",
     "exception": false,
     "start_time": "2022-05-28T19:22:49.967503",
     "status": "completed"
    },
    "tags": []
   },
   "outputs": [
    {
     "data": {
      "text/plain": [
       "<AxesSubplot:>"
      ]
     },
     "execution_count": 11,
     "metadata": {},
     "output_type": "execute_result"
    },
    {
     "data": {
      "image/png": "[encoded data removed]",
      "text/plain": [
       "<Figure size 432x288 with 1 Axes>"
      ]
     },
     "metadata": {
      "needs_background": "light"
     },
     "output_type": "display_data"
    }
   ],
   "source": [
    "df[\"pct_rank\"] = df[\"rank\"] / df.groupby(\"id\")[\"cell_id\"].transform(\"count\")\n",
    "\n",
    "df[\"pct_rank\"].hist(bins=10)"
   ]
  },
  {
   "cell_type": "code",
   "execution_count": 12,
   "id": "bdbc6c5c",
   "metadata": {
    "execution": {
     "iopub.execute_input": "2022-05-28T19:22:51.675565Z",
     "iopub.status.busy": "2022-05-28T19:22:51.675298Z",
     "iopub.status.idle": "2022-05-28T19:22:53.464912Z",
     "shell.execute_reply": "2022-05-28T19:22:53.464041Z"
    },
    "papermill": {
     "duration": 2.148182,
     "end_time": "2022-05-28T19:22:53.467023",
     "exception": false,
     "start_time": "2022-05-28T19:22:51.318841",
     "status": "completed"
    },
    "tags": []
   },
   "outputs": [],
   "source": [
    "from sklearn.model_selection import GroupShuffleSplit\n",
    "\n",
    "NVALID = 0.1  # size of validation set\n",
    "\n",
    "splitter = GroupShuffleSplit(n_splits=1, test_size=NVALID, random_state=0)\n",
    "\n",
    "train_ind, val_ind = next(splitter.split(df, groups=df[\"ancestor_id\"]))\n",
    "\n",
    "train_df = df.loc[train_ind].reset_index(drop=True)\n",
    "val_df = df.loc[val_ind].reset_index(drop=True)"
   ]
  },
  {
   "cell_type": "code",
   "execution_count": 13,
   "id": "4670b9ad",
   "metadata": {
    "execution": {
     "iopub.execute_input": "2022-05-28T19:22:54.189440Z",
     "iopub.status.busy": "2022-05-28T19:22:54.189165Z",
     "iopub.status.idle": "2022-05-28T19:22:54.204145Z",
     "shell.execute_reply": "2022-05-28T19:22:54.203383Z"
    },
    "papermill": {
     "duration": 0.375738,
     "end_time": "2022-05-28T19:22:54.206201",
     "exception": false,
     "start_time": "2022-05-28T19:22:53.830463",
     "status": "completed"
    },
    "tags": []
   },
   "outputs": [
    {
     "data": {
      "text/html": [
       "<div>\n",
       "<style scoped>\n",
       "    .dataframe tbody tr th:only-of-type {\n",
       "        vertical-align: middle;\n",
       "    }\n",
       "\n",
       "    .dataframe tbody tr th {\n",
       "        vertical-align: top;\n",
       "    }\n",
       "\n",
       "    .dataframe thead th {\n",
       "        text-align: right;\n",
       "    }\n",
       "</style>\n",
       "<table border=\"1\" class=\"dataframe\">\n",
       "  <thead>\n",
       "    <tr style=\"text-align: right;\">\n",
       "      <th></th>\n",
       "      <th>id</th>\n",
       "      <th>cell_id</th>\n",
       "      <th>cell_type</th>\n",
       "      <th>source</th>\n",
       "      <th>rank</th>\n",
       "      <th>ancestor_id</th>\n",
       "      <th>parent_id</th>\n",
       "      <th>pct_rank</th>\n",
       "    </tr>\n",
       "  </thead>\n",
       "  <tbody>\n",
       "    <tr>\n",
       "      <th>0</th>\n",
       "      <td>0019c0de64fe80</td>\n",
       "      <td>76b81a6e</td>\n",
       "      <td>code</td>\n",
       "      <td>import warnings\\nwarnings.filterwarnings('ignore', category=DeprecationWarning)\\nwarnings.filterwarnings('ignore', c...</td>\n",
       "      <td>0</td>\n",
       "      <td>47566b8b</td>\n",
       "      <td>8e848ffeededab</td>\n",
       "      <td>0.0</td>\n",
       "    </tr>\n",
       "    <tr>\n",
       "      <th>1</th>\n",
       "      <td>0019c0de64fe80</td>\n",
       "      <td>c06f3027</td>\n",
       "      <td>code</td>\n",
       "      <td># reading csv files and train &amp; test file paths\\ntrain_df = pd.read_csv('../input/coleridgeinitiative-show-us-the-da...</td>\n",
       "      <td>2</td>\n",
       "      <td>47566b8b</td>\n",
       "      <td>8e848ffeededab</td>\n",
       "      <td>0.111111</td>\n",
       "    </tr>\n",
       "    <tr>\n",
       "      <th>2</th>\n",
       "      <td>0019c0de64fe80</td>\n",
       "      <td>2e8ddcdc</td>\n",
       "      <td>code</td>\n",
       "      <td>train_df.head(6)</td>\n",
       "      <td>3</td>\n",
       "      <td>47566b8b</td>\n",
       "      <td>8e848ffeededab</td>\n",
       "      <td>0.166667</td>\n",
       "    </tr>\n",
       "    <tr>\n",
       "      <th>3</th>\n",
       "      <td>0019c0de64fe80</td>\n",
       "      <td>0bdb7484</td>\n",
       "      <td>code</td>\n",
       "      <td>train_df.info()</td>\n",
       "      <td>4</td>\n",
       "      <td>47566b8b</td>\n",
       "      <td>8e848ffeededab</td>\n",
       "      <td>0.222222</td>\n",
       "    </tr>\n",
       "    <tr>\n",
       "      <th>4</th>\n",
       "      <td>0019c0de64fe80</td>\n",
       "      <td>4470e13e</td>\n",
       "      <td>code</td>\n",
       "      <td>[print(f\"{col}:{len(train_df[col].unique())}\") for col in train_df.columns]   #finding unique values in each column</td>\n",
       "      <td>5</td>\n",
       "      <td>47566b8b</td>\n",
       "      <td>8e848ffeededab</td>\n",
       "      <td>0.277778</td>\n",
       "    </tr>\n",
       "  </tbody>\n",
       "</table>\n",
       "</div>"
      ],
      "text/plain": [
       "               id   cell_id cell_type                                                                                                                   source rank ancestor_id  \\\n",
       "0  0019c0de64fe80  76b81a6e      code  import warnings\\nwarnings.filterwarnings('ignore', category=DeprecationWarning)\\nwarnings.filterwarnings('ignore', c...    0    47566b8b   \n",
       "1  0019c0de64fe80  c06f3027      code  # reading csv files and train & test file paths\\ntrain_df = pd.read_csv('../input/coleridgeinitiative-show-us-the-da...    2    47566b8b   \n",
       "2  0019c0de64fe80  2e8ddcdc      code                                                                                                         train_df.head(6)    3    47566b8b   \n",
       "3  0019c0de64fe80  0bdb7484      code                                                                                                          train_df.info()    4    47566b8b   \n",
       "4  0019c0de64fe80  4470e13e      code      [print(f\"{col}:{len(train_df[col].unique())}\") for col in train_df.columns]   #finding unique values in each column    5    47566b8b   \n",
       "\n",
       "        parent_id  pct_rank  \n",
       "0  8e848ffeededab       0.0  \n",
       "1  8e848ffeededab  0.111111  \n",
       "2  8e848ffeededab  0.166667  \n",
       "3  8e848ffeededab  0.222222  \n",
       "4  8e848ffeededab  0.277778  "
      ]
     },
     "execution_count": 13,
     "metadata": {},
     "output_type": "execute_result"
    }
   ],
   "source": [
    "val_df.head()"
   ]
  },
  {
   "cell_type": "code",
   "execution_count": 14,
   "id": "1abccdee",
   "metadata": {
    "execution": {
     "iopub.execute_input": "2022-05-28T19:22:54.925798Z",
     "iopub.status.busy": "2022-05-28T19:22:54.925020Z",
     "iopub.status.idle": "2022-05-28T19:22:54.932717Z",
     "shell.execute_reply": "2022-05-28T19:22:54.931841Z"
    },
    "papermill": {
     "duration": 0.369908,
     "end_time": "2022-05-28T19:22:54.935145",
     "exception": false,
     "start_time": "2022-05-28T19:22:54.565237",
     "status": "completed"
    },
    "tags": []
   },
   "outputs": [],
   "source": [
    "from bisect import bisect\n",
    "\n",
    "\n",
    "def count_inversions(a):\n",
    "    inversions = 0\n",
    "    sorted_so_far = []\n",
    "    for i, u in enumerate(a):\n",
    "        j = bisect(sorted_so_far, u)\n",
    "        inversions += i - j\n",
    "        sorted_so_far.insert(j, u)\n",
    "    return inversions\n",
    "\n",
    "\n",
    "def kendall_tau(ground_truth, predictions):\n",
    "    total_inversions = 0\n",
    "    total_2max = 0  # twice the maximum possible inversions across all instances\n",
    "    for gt, pred in zip(ground_truth, predictions):\n",
    "        ranks = [gt.index(x) for x in pred]  # rank predicted order in terms of ground truth\n",
    "        total_inversions += count_inversions(ranks)\n",
    "        n = len(gt)\n",
    "        total_2max += n * (n - 1)\n",
    "    return 1 - 4 * total_inversions / total_2max"
   ]
  },
  {
   "cell_type": "code",
   "execution_count": 15,
   "id": "d738b319",
   "metadata": {
    "execution": {
     "iopub.execute_input": "2022-05-28T19:22:55.651201Z",
     "iopub.status.busy": "2022-05-28T19:22:55.650927Z",
     "iopub.status.idle": "2022-05-28T19:22:55.794042Z",
     "shell.execute_reply": "2022-05-28T19:22:55.793185Z"
    },
    "papermill": {
     "duration": 0.501348,
     "end_time": "2022-05-28T19:22:55.796139",
     "exception": false,
     "start_time": "2022-05-28T19:22:55.294791",
     "status": "completed"
    },
    "tags": []
   },
   "outputs": [
    {
     "data": {
      "text/plain": [
       "0.42511216883092573"
      ]
     },
     "execution_count": 15,
     "metadata": {},
     "output_type": "execute_result"
    }
   ],
   "source": [
    "y_dummy = val_df.groupby('id')['cell_id'].apply(list)\n",
    "kendall_tau(df_orders.loc[y_dummy.index], y_dummy)"
   ]
  },
  {
   "cell_type": "code",
   "execution_count": 16,
   "id": "2c88bb31",
   "metadata": {
    "execution": {
     "iopub.execute_input": "2022-05-28T19:22:56.579811Z",
     "iopub.status.busy": "2022-05-28T19:22:56.579541Z",
     "iopub.status.idle": "2022-05-28T19:22:56.595285Z",
     "shell.execute_reply": "2022-05-28T19:22:56.594533Z"
    },
    "papermill": {
     "duration": 0.399936,
     "end_time": "2022-05-28T19:22:56.597525",
     "exception": false,
     "start_time": "2022-05-28T19:22:56.197589",
     "status": "completed"
    },
    "tags": []
   },
   "outputs": [
    {
     "data": {
      "text/plain": [
       "code        29855\n",
       "markdown    14725\n",
       "Name: cell_type, dtype: int64"
      ]
     },
     "execution_count": 16,
     "metadata": {},
     "output_type": "execute_result"
    }
   ],
   "source": [
    "val_df[\"cell_type\"].value_counts()"
   ]
  },
  {
   "cell_type": "code",
   "execution_count": 17,
   "id": "6f71e732",
   "metadata": {
    "execution": {
     "iopub.execute_input": "2022-05-28T19:22:57.309818Z",
     "iopub.status.busy": "2022-05-28T19:22:57.309499Z",
     "iopub.status.idle": "2022-05-28T19:22:57.432101Z",
     "shell.execute_reply": "2022-05-28T19:22:57.431381Z"
    },
    "papermill": {
     "duration": 0.47362,
     "end_time": "2022-05-28T19:22:57.434288",
     "exception": false,
     "start_time": "2022-05-28T19:22:56.960668",
     "status": "completed"
    },
    "tags": []
   },
   "outputs": [],
   "source": [
    "train_df_mark = train_df[train_df[\"cell_type\"] == \"markdown\"].reset_index(drop=True)\n",
    "\n",
    "val_df_mark = val_df[val_df[\"cell_type\"] == \"markdown\"].reset_index(drop=True)"
   ]
  },
  {
   "cell_type": "code",
   "execution_count": 18,
   "id": "69a4a094",
   "metadata": {
    "execution": {
     "iopub.execute_input": "2022-05-28T19:22:58.407113Z",
     "iopub.status.busy": "2022-05-28T19:22:58.406870Z",
     "iopub.status.idle": "2022-05-28T19:22:58.427236Z",
     "shell.execute_reply": "2022-05-28T19:22:58.426555Z"
    },
    "papermill": {
     "duration": 0.454177,
     "end_time": "2022-05-28T19:22:58.429096",
     "exception": false,
     "start_time": "2022-05-28T19:22:57.974919",
     "status": "completed"
    },
    "tags": []
   },
   "outputs": [
    {
     "data": {
      "text/plain": [
       "0.08783961929350827"
      ]
     },
     "execution_count": 18,
     "metadata": {},
     "output_type": "execute_result"
    }
   ],
   "source": [
    "from sklearn.metrics import mean_squared_error\n",
    "\n",
    "mean_squared_error(val_df_mark[\"pct_rank\"], np.ones(val_df_mark.shape[0])*train_df_mark[\"pct_rank\"].mean())"
   ]
  },
  {
   "cell_type": "code",
   "execution_count": 19,
   "id": "a199bc2f",
   "metadata": {
    "execution": {
     "iopub.execute_input": "2022-05-28T19:22:59.439152Z",
     "iopub.status.busy": "2022-05-28T19:22:59.438849Z",
     "iopub.status.idle": "2022-05-28T19:23:06.692990Z",
     "shell.execute_reply": "2022-05-28T19:23:06.692297Z"
    },
    "papermill": {
     "duration": 7.827254,
     "end_time": "2022-05-28T19:23:06.695351",
     "exception": false,
     "start_time": "2022-05-28T19:22:58.868097",
     "status": "completed"
    },
    "tags": []
   },
   "outputs": [],
   "source": [
    "from tqdm import tqdm\n",
    "import sys, os\n",
    "from transformers import DistilBertModel, DistilBertTokenizer\n",
    "import torch.nn.functional as F\n",
    "import torch.nn as nn\n",
    "import torch\n",
    "\n",
    "MAX_LEN = 128\n",
    "\n",
    "class MarkdownModel(nn.Module):\n",
    "    def __init__(self):\n",
    "        super(MarkdownModel, self).__init__()\n",
    "        self.distill_bert = DistilBertModel.from_pretrained(BERT_PATH)\n",
    "        self.top = nn.Linear(768, 1)\n",
    "        \n",
    "    def forward(self, ids, mask):\n",
    "        x = self.distill_bert(ids, mask)[0]\n",
    "        x = self.top(x[:, 0, :])\n",
    "        return x"
   ]
  },
  {
   "cell_type": "code",
   "execution_count": 20,
   "id": "00f51c67",
   "metadata": {
    "execution": {
     "iopub.execute_input": "2022-05-28T19:23:07.423994Z",
     "iopub.status.busy": "2022-05-28T19:23:07.423303Z",
     "iopub.status.idle": "2022-05-28T19:23:07.638120Z",
     "shell.execute_reply": "2022-05-28T19:23:07.637317Z"
    },
    "papermill": {
     "duration": 0.571735,
     "end_time": "2022-05-28T19:23:07.640498",
     "exception": false,
     "start_time": "2022-05-28T19:23:07.068763",
     "status": "completed"
    },
    "tags": []
   },
   "outputs": [
    {
     "data": {
      "text/plain": [
       "(tensor([  101,  2057,  2024,  3024,  2007,  1018,  2364,  4109,  1997,  2951,\n",
       "          1024,  1008,  1036,  3345,  1012, 20116,  2615,  1024,  1036,  1996,\n",
       "         20116,  2615,  5371,  4820,  2035,  1996, 27425,  1997,  1996,  5523,\n",
       "          1010,  2107,  2004,  2037,  2516,  1998,  1996,  2951, 13462,  2027,\n",
       "         16462,  1012,  1008,  1036,  3345,  1024,  1036,  1996, 14176,  4820,\n",
       "          1996,  5025,  5523,  2008,  2024, 14964,  1999,  3345,  1012, 20116,\n",
       "          6371,  1046,  3385,  4289,  1012,  1008,  1036,  3231,  1024,  1036,\n",
       "          1996, 14176,  4820,  1996,  5025,  5523,  2008,  2097,  2022,  2109,\n",
       "          2005,  5604,  5682,  1006,  2947,  1010,  2007,  2053,  2598,  3606,\n",
       "         20116,  2615,  5371,  2800,  1007,  1012,  1008,  1036,  7099,  1035,\n",
       "         12339,  1012, 20116,  2615,  1024,  1036,  1996, 20116,  2615,  5371,\n",
       "          4820,  2035,  1996,  5523,  8909,  2015,  1999,  1996,  3231,  2275,\n",
       "          1010,  2005,  2029,  2057,  1005,  2222,  2031,   102]),\n",
       " tensor([1, 1, 1, 1, 1, 1, 1, 1, 1, 1, 1, 1, 1, 1, 1, 1, 1, 1, 1, 1, 1, 1, 1, 1,\n",
       "         1, 1, 1, 1, 1, 1, 1, 1, 1, 1, 1, 1, 1, 1, 1, 1, 1, 1, 1, 1, 1, 1, 1, 1,\n",
       "         1, 1, 1, 1, 1, 1, 1, 1, 1, 1, 1, 1, 1, 1, 1, 1, 1, 1, 1, 1, 1, 1, 1, 1,\n",
       "         1, 1, 1, 1, 1, 1, 1, 1, 1, 1, 1, 1, 1, 1, 1, 1, 1, 1, 1, 1, 1, 1, 1, 1,\n",
       "         1, 1, 1, 1, 1, 1, 1, 1, 1, 1, 1, 1, 1, 1, 1, 1, 1, 1, 1, 1, 1, 1, 1, 1,\n",
       "         1, 1, 1, 1, 1, 1, 1, 1]),\n",
       " tensor([0.0556]))"
      ]
     },
     "execution_count": 20,
     "metadata": {},
     "output_type": "execute_result"
    }
   ],
   "source": [
    "from torch.utils.data import DataLoader, Dataset\n",
    "\n",
    "\n",
    "\n",
    "class MarkdownDataset(Dataset):\n",
    "    \n",
    "    def __init__(self, df, max_len):\n",
    "        super().__init__()\n",
    "        self.df = df.reset_index(drop=True)\n",
    "        self.max_len = max_len\n",
    "        self.tokenizer = DistilBertTokenizer.from_pretrained(BERT_PATH, do_lower_case=True)\n",
    "\n",
    "    def __getitem__(self, index):\n",
    "        row = self.df.iloc[index]\n",
    "        \n",
    "        inputs = self.tokenizer.encode_plus(\n",
    "            row.source,\n",
    "            None,\n",
    "            add_special_tokens=True,\n",
    "            max_length=self.max_len,\n",
    "            padding=\"max_length\",\n",
    "            return_token_type_ids=True,\n",
    "            truncation=True\n",
    "        )\n",
    "        ids = torch.LongTensor(inputs['input_ids'])\n",
    "        mask = torch.LongTensor(inputs['attention_mask'])\n",
    "\n",
    "        return ids, mask, torch.FloatTensor([row.pct_rank])\n",
    "\n",
    "    def __len__(self):\n",
    "        return self.df.shape[0]\n",
    "    \n",
    "train_ds = MarkdownDataset(train_df_mark, max_len=MAX_LEN)\n",
    "val_ds = MarkdownDataset(val_df_mark, max_len=MAX_LEN)\n",
    "\n",
    "val_ds[0]"
   ]
  },
  {
   "cell_type": "code",
   "execution_count": 21,
   "id": "26c7b817",
   "metadata": {
    "execution": {
     "iopub.execute_input": "2022-05-28T19:23:08.350714Z",
     "iopub.status.busy": "2022-05-28T19:23:08.350320Z",
     "iopub.status.idle": "2022-05-28T19:23:08.357118Z",
     "shell.execute_reply": "2022-05-28T19:23:08.356417Z"
    },
    "papermill": {
     "duration": 0.362501,
     "end_time": "2022-05-28T19:23:08.359388",
     "exception": false,
     "start_time": "2022-05-28T19:23:07.996887",
     "status": "completed"
    },
    "tags": []
   },
   "outputs": [
    {
     "data": {
      "text/plain": [
       "id                                                                                                                      0019c0de64fe80\n",
       "cell_id                                                                                                                       6a2f9600\n",
       "cell_type                                                                                                                     markdown\n",
       "source         We are provided with 4 main pieces of data:\\n\\n* `train.csv:` The CSV file containing all the metadata of the public...\n",
       "rank                                                                                                                                 1\n",
       "ancestor_id                                                                                                                   47566b8b\n",
       "parent_id                                                                                                               8e848ffeededab\n",
       "pct_rank                                                                                                                      0.055556\n",
       "Name: 0, dtype: object"
      ]
     },
     "execution_count": 21,
     "metadata": {},
     "output_type": "execute_result"
    }
   ],
   "source": [
    "val_df_mark.iloc[0]"
   ]
  },
  {
   "cell_type": "code",
   "execution_count": 22,
   "id": "6a5871bc",
   "metadata": {
    "execution": {
     "iopub.execute_input": "2022-05-28T19:23:09.346145Z",
     "iopub.status.busy": "2022-05-28T19:23:09.345892Z",
     "iopub.status.idle": "2022-05-28T19:23:09.352082Z",
     "shell.execute_reply": "2022-05-28T19:23:09.351381Z"
    },
    "papermill": {
     "duration": 0.477736,
     "end_time": "2022-05-28T19:23:09.353874",
     "exception": false,
     "start_time": "2022-05-28T19:23:08.876138",
     "status": "completed"
    },
    "tags": []
   },
   "outputs": [],
   "source": [
    "def adjust_lr(optimizer, epoch):\n",
    "    if epoch < 1:\n",
    "        lr = 5e-5\n",
    "    elif epoch < 2:\n",
    "        lr = 1e-3\n",
    "    elif epoch < 5:\n",
    "        lr = 1e-4\n",
    "    else:\n",
    "        lr = 1e-5\n",
    "\n",
    "    for p in optimizer.param_groups:\n",
    "        p['lr'] = lr\n",
    "    return lr\n",
    "    \n",
    "def get_optimizer(net):\n",
    "    optimizer = torch.optim.Adam(filter(lambda p: p.requires_grad, net.parameters()), lr=3e-4, betas=(0.9, 0.999),\n",
    "                                 eps=1e-08)\n",
    "    return optimizer"
   ]
  },
  {
   "cell_type": "code",
   "execution_count": 23,
   "id": "ea78462c",
   "metadata": {
    "execution": {
     "iopub.execute_input": "2022-05-28T19:23:10.080700Z",
     "iopub.status.busy": "2022-05-28T19:23:10.080415Z",
     "iopub.status.idle": "2022-05-28T19:23:10.088096Z",
     "shell.execute_reply": "2022-05-28T19:23:10.087178Z"
    },
    "papermill": {
     "duration": 0.374096,
     "end_time": "2022-05-28T19:23:10.090633",
     "exception": false,
     "start_time": "2022-05-28T19:23:09.716537",
     "status": "completed"
    },
    "tags": []
   },
   "outputs": [
    {
     "name": "stderr",
     "output_type": "stream",
     "text": [
      "/opt/conda/lib/python3.7/site-packages/torch/utils/data/dataloader.py:481: UserWarning: This DataLoader will create 8 worker processes in total. Our suggested max number of worker in current system is 2, which is smaller than what this DataLoader is going to create. Please be aware that excessive worker creation might get DataLoader running slow or even freeze, lower the worker number to avoid potential slowness/freeze if necessary.\n",
      "  cpuset_checked))\n"
     ]
    }
   ],
   "source": [
    "BS = 32\n",
    "NW = 8\n",
    "\n",
    "train_loader = DataLoader(train_ds, batch_size=BS, shuffle=True, num_workers=NW,\n",
    "                          pin_memory=False, drop_last=True)\n",
    "val_loader = DataLoader(val_ds, batch_size=BS, shuffle=False, num_workers=NW,\n",
    "                          pin_memory=False, drop_last=False)"
   ]
  },
  {
   "cell_type": "code",
   "execution_count": 24,
   "id": "2543ef6c",
   "metadata": {
    "execution": {
     "iopub.execute_input": "2022-05-28T19:23:10.807423Z",
     "iopub.status.busy": "2022-05-28T19:23:10.807171Z",
     "iopub.status.idle": "2022-05-28T19:39:51.619038Z",
     "shell.execute_reply": "2022-05-28T19:39:51.617449Z"
    },
    "papermill": {
     "duration": 1001.17406,
     "end_time": "2022-05-28T19:39:51.622282",
     "exception": false,
     "start_time": "2022-05-28T19:23:10.448222",
     "status": "completed"
    },
    "tags": []
   },
   "outputs": [
    {
     "name": "stderr",
     "output_type": "stream",
     "text": [
      "Some weights of the model checkpoint at ../input/huggingface-bert-variants/distilbert-base-uncased/distilbert-base-uncased were not used when initializing DistilBertModel: ['vocab_layer_norm.weight', 'vocab_projector.weight', 'vocab_layer_norm.bias', 'vocab_transform.weight', 'vocab_transform.bias', 'vocab_projector.bias']\n",
      "- This IS expected if you are initializing DistilBertModel from the checkpoint of a model trained on another task or with another architecture (e.g. initializing a BertForSequenceClassification model from a BertForPreTraining model).\n",
      "- This IS NOT expected if you are initializing DistilBertModel from the checkpoint of a model that you expect to be exactly identical (initializing a BertForSequenceClassification model from a BertForSequenceClassification model).\n"
     ]
    },
    {
     "name": "stdout",
     "output_type": "stream",
     "text": [
      "Epoch 1 Loss: 0.0578 lr: 5e-05: 100%|██████████| 4439/4439 [15:47<00:00,  4.68it/s]\n",
      "100%|██████████| 461/461 [00:43<00:00, 10.49it/s]\n",
      "Validation MSE: 0.0526\n",
      "\n"
     ]
    }
   ],
   "source": [
    "def read_data(data):\n",
    "    return tuple(d.cuda() for d in data[:-1]), data[-1].cuda()\n",
    "\n",
    "\n",
    "def validate(model, val_loader):\n",
    "    model.eval()\n",
    "    \n",
    "    tbar = tqdm(val_loader, file=sys.stdout)\n",
    "    \n",
    "    preds = []\n",
    "    labels = []\n",
    "\n",
    "    with torch.no_grad():\n",
    "        for idx, data in enumerate(tbar):\n",
    "            inputs, target = read_data(data)\n",
    "\n",
    "            pred = model(inputs[0], inputs[1])\n",
    "\n",
    "            preds.append(pred.detach().cpu().numpy().ravel())\n",
    "            labels.append(target.detach().cpu().numpy().ravel())\n",
    "    \n",
    "    return np.concatenate(labels), np.concatenate(preds)\n",
    "\n",
    "def train(model, train_loader, val_loader, epochs):\n",
    "    np.random.seed(0)\n",
    "    \n",
    "    optimizer = get_optimizer(model)\n",
    "\n",
    "    criterion = torch.nn.MSELoss()\n",
    "    \n",
    "    for e in range(epochs):   \n",
    "        model.train()\n",
    "        tbar = tqdm(train_loader, file=sys.stdout)\n",
    "        \n",
    "        lr = adjust_lr(optimizer, e)\n",
    "        \n",
    "        loss_list = []\n",
    "        preds = []\n",
    "        labels = []\n",
    "\n",
    "        for idx, data in enumerate(tbar):\n",
    "            inputs, target = read_data(data)\n",
    "\n",
    "            optimizer.zero_grad()\n",
    "            pred = model(inputs[0], inputs[1])\n",
    "\n",
    "            loss = criterion(pred, target)\n",
    "            loss.backward()\n",
    "            optimizer.step()\n",
    "            \n",
    "            loss_list.append(loss.detach().cpu().item())\n",
    "            preds.append(pred.detach().cpu().numpy().ravel())\n",
    "            labels.append(target.detach().cpu().numpy().ravel())\n",
    "            \n",
    "            avg_loss = np.round(np.mean(loss_list), 4)\n",
    "\n",
    "            tbar.set_description(f\"Epoch {e+1} Loss: {avg_loss} lr: {lr}\")\n",
    "            \n",
    "        y_val, y_pred = validate(model, val_loader)\n",
    "            \n",
    "        print(\"Validation MSE:\", np.round(mean_squared_error(y_val, y_pred), 4))\n",
    "        print()\n",
    "    return model, y_pred\n",
    "\n",
    "model = MarkdownModel()\n",
    "model = model.cuda()\n",
    "model, y_pred = train(model, train_loader, val_loader, epochs=1)"
   ]
  },
  {
   "cell_type": "code",
   "execution_count": 25,
   "id": "f9b9e0ed",
   "metadata": {
    "execution": {
     "iopub.execute_input": "2022-05-28T19:39:58.596645Z",
     "iopub.status.busy": "2022-05-28T19:39:58.596352Z",
     "iopub.status.idle": "2022-05-28T19:39:58.678912Z",
     "shell.execute_reply": "2022-05-28T19:39:58.677923Z"
    },
    "papermill": {
     "duration": 3.619429,
     "end_time": "2022-05-28T19:39:58.681203",
     "exception": false,
     "start_time": "2022-05-28T19:39:55.061774",
     "status": "completed"
    },
    "tags": []
   },
   "outputs": [],
   "source": [
    "val_df[\"pred\"] = val_df.groupby([\"id\", \"cell_type\"])[\"rank\"].rank(pct=True)\n",
    "val_df.loc[val_df[\"cell_type\"] == \"markdown\", \"pred\"] = y_pred"
   ]
  },
  {
   "cell_type": "code",
   "execution_count": 26,
   "id": "045b04b2",
   "metadata": {
    "execution": {
     "iopub.execute_input": "2022-05-28T19:40:06.455025Z",
     "iopub.status.busy": "2022-05-28T19:40:06.454735Z",
     "iopub.status.idle": "2022-05-28T19:40:06.632313Z",
     "shell.execute_reply": "2022-05-28T19:40:06.631578Z"
    },
    "papermill": {
     "duration": 3.633226,
     "end_time": "2022-05-28T19:40:06.634163",
     "exception": false,
     "start_time": "2022-05-28T19:40:03.000937",
     "status": "completed"
    },
    "tags": []
   },
   "outputs": [
    {
     "data": {
      "text/plain": [
       "0.7716774683333303"
      ]
     },
     "execution_count": 26,
     "metadata": {},
     "output_type": "execute_result"
    }
   ],
   "source": [
    "y_dummy = val_df.sort_values(\"pred\").groupby('id')['cell_id'].apply(list)\n",
    "kendall_tau(df_orders.loc[y_dummy.index], y_dummy)"
   ]
  },
  {
   "cell_type": "code",
   "execution_count": 27,
   "id": "52c4901e",
   "metadata": {
    "execution": {
     "iopub.execute_input": "2022-05-28T19:40:14.162136Z",
     "iopub.status.busy": "2022-05-28T19:40:14.161295Z",
     "iopub.status.idle": "2022-05-28T19:40:14.239390Z",
     "shell.execute_reply": "2022-05-28T19:40:14.237500Z"
    },
    "papermill": {
     "duration": 4.098941,
     "end_time": "2022-05-28T19:40:14.241873",
     "exception": false,
     "start_time": "2022-05-28T19:40:10.142932",
     "status": "completed"
    },
    "tags": []
   },
   "outputs": [
    {
     "name": "stderr",
     "output_type": "stream",
     "text": [
      "Test NBs: 100%|██████████| 4/4 [00:00<00:00, 84.00it/s]\n"
     ]
    }
   ],
   "source": [
    "paths_test = list((data_dir / 'test').glob('*.json'))\n",
    "notebooks_test = [\n",
    "    read_notebook(path) for path in tqdm(paths_test, desc='Test NBs')\n",
    "]\n",
    "test_df = (\n",
    "    pd.concat(notebooks_test)\n",
    "    .set_index('id', append=True)\n",
    "    .swaplevel()\n",
    "    .sort_index(level='id', sort_remaining=False)\n",
    ").reset_index()"
   ]
  },
  {
   "cell_type": "code",
   "execution_count": 28,
   "id": "10b778ef",
   "metadata": {
    "execution": {
     "iopub.execute_input": "2022-05-28T19:40:21.583342Z",
     "iopub.status.busy": "2022-05-28T19:40:21.583047Z",
     "iopub.status.idle": "2022-05-28T19:40:21.596413Z",
     "shell.execute_reply": "2022-05-28T19:40:21.595565Z"
    },
    "papermill": {
     "duration": 3.598898,
     "end_time": "2022-05-28T19:40:21.598805",
     "exception": false,
     "start_time": "2022-05-28T19:40:17.999907",
     "status": "completed"
    },
    "tags": []
   },
   "outputs": [],
   "source": [
    "test_df[\"rank\"] = test_df.groupby([\"id\", \"cell_type\"]).cumcount()\n",
    "test_df[\"pred\"] = test_df.groupby([\"id\", \"cell_type\"])[\"rank\"].rank(pct=True)"
   ]
  },
  {
   "cell_type": "code",
   "execution_count": 29,
   "id": "f44172d5",
   "metadata": {
    "execution": {
     "iopub.execute_input": "2022-05-28T19:40:28.917519Z",
     "iopub.status.busy": "2022-05-28T19:40:28.917074Z",
     "iopub.status.idle": "2022-05-28T19:40:28.974480Z",
     "shell.execute_reply": "2022-05-28T19:40:28.973787Z"
    },
    "papermill": {
     "duration": 3.53682,
     "end_time": "2022-05-28T19:40:28.978519",
     "exception": false,
     "start_time": "2022-05-28T19:40:25.441699",
     "status": "completed"
    },
    "tags": []
   },
   "outputs": [
    {
     "name": "stderr",
     "output_type": "stream",
     "text": [
      "/opt/conda/lib/python3.7/site-packages/torch/utils/data/dataloader.py:481: UserWarning: This DataLoader will create 8 worker processes in total. Our suggested max number of worker in current system is 2, which is smaller than what this DataLoader is going to create. Please be aware that excessive worker creation might get DataLoader running slow or even freeze, lower the worker number to avoid potential slowness/freeze if necessary.\n",
      "  cpuset_checked))\n"
     ]
    },
    {
     "data": {
      "text/plain": [
       "(43,\n",
       " (tensor([  101,  1001, 25169,  2951,   100,  2292,  1005,  1055,  4094,  1996,\n",
       "           2951,  2061,  7473,  2050,  2064,  2022,  4162,   102,     0,     0,\n",
       "              0,     0,     0,     0,     0,     0,     0,     0,     0,     0,\n",
       "              0,     0,     0,     0,     0,     0,     0,     0,     0,     0,\n",
       "              0,     0,     0,     0,     0,     0,     0,     0,     0,     0,\n",
       "              0,     0,     0,     0,     0,     0,     0,     0,     0,     0,\n",
       "              0,     0,     0,     0,     0,     0,     0,     0,     0,     0,\n",
       "              0,     0,     0,     0,     0,     0,     0,     0,     0,     0,\n",
       "              0,     0,     0,     0,     0,     0,     0,     0,     0,     0,\n",
       "              0,     0,     0,     0,     0,     0,     0,     0,     0,     0,\n",
       "              0,     0,     0,     0,     0,     0,     0,     0,     0,     0,\n",
       "              0,     0,     0,     0,     0,     0,     0,     0,     0,     0,\n",
       "              0,     0,     0,     0,     0,     0,     0,     0]),\n",
       "  tensor([1, 1, 1, 1, 1, 1, 1, 1, 1, 1, 1, 1, 1, 1, 1, 1, 1, 1, 0, 0, 0, 0, 0, 0,\n",
       "          0, 0, 0, 0, 0, 0, 0, 0, 0, 0, 0, 0, 0, 0, 0, 0, 0, 0, 0, 0, 0, 0, 0, 0,\n",
       "          0, 0, 0, 0, 0, 0, 0, 0, 0, 0, 0, 0, 0, 0, 0, 0, 0, 0, 0, 0, 0, 0, 0, 0,\n",
       "          0, 0, 0, 0, 0, 0, 0, 0, 0, 0, 0, 0, 0, 0, 0, 0, 0, 0, 0, 0, 0, 0, 0, 0,\n",
       "          0, 0, 0, 0, 0, 0, 0, 0, 0, 0, 0, 0, 0, 0, 0, 0, 0, 0, 0, 0, 0, 0, 0, 0,\n",
       "          0, 0, 0, 0, 0, 0, 0, 0]),\n",
       "  tensor([0.])))"
      ]
     },
     "execution_count": 29,
     "metadata": {},
     "output_type": "execute_result"
    }
   ],
   "source": [
    "test_df[\"pct_rank\"] = 0\n",
    "test_ds = MarkdownDataset(test_df[test_df[\"cell_type\"] == \"markdown\"].reset_index(drop=True), max_len=MAX_LEN)\n",
    "test_loader = DataLoader(test_ds, batch_size=BS, shuffle=False, num_workers=NW,\n",
    "                          pin_memory=False, drop_last=False)\n",
    "\n",
    "len(test_ds), test_ds[0]"
   ]
  },
  {
   "cell_type": "code",
   "execution_count": 30,
   "id": "3ae0029b",
   "metadata": {
    "execution": {
     "iopub.execute_input": "2022-05-28T19:40:36.780047Z",
     "iopub.status.busy": "2022-05-28T19:40:36.779771Z",
     "iopub.status.idle": "2022-05-28T19:40:37.522012Z",
     "shell.execute_reply": "2022-05-28T19:40:37.520588Z"
    },
    "papermill": {
     "duration": 5.074974,
     "end_time": "2022-05-28T19:40:37.524533",
     "exception": false,
     "start_time": "2022-05-28T19:40:32.449559",
     "status": "completed"
    },
    "tags": []
   },
   "outputs": [
    {
     "name": "stdout",
     "output_type": "stream",
     "text": [
      "100%|██████████| 2/2 [00:00<00:00,  2.73it/s]\n"
     ]
    }
   ],
   "source": [
    "_, y_test = validate(model, test_loader)"
   ]
  },
  {
   "cell_type": "code",
   "execution_count": 31,
   "id": "4153243c",
   "metadata": {
    "execution": {
     "iopub.execute_input": "2022-05-28T19:40:44.415541Z",
     "iopub.status.busy": "2022-05-28T19:40:44.415216Z",
     "iopub.status.idle": "2022-05-28T19:40:44.421454Z",
     "shell.execute_reply": "2022-05-28T19:40:44.420690Z"
    },
    "papermill": {
     "duration": 3.498413,
     "end_time": "2022-05-28T19:40:44.423247",
     "exception": false,
     "start_time": "2022-05-28T19:40:40.924834",
     "status": "completed"
    },
    "tags": []
   },
   "outputs": [],
   "source": [
    "test_df.loc[test_df[\"cell_type\"] == \"markdown\", \"pred\"] = y_test"
   ]
  },
  {
   "cell_type": "code",
   "execution_count": 32,
   "id": "ae8d4b79",
   "metadata": {
    "execution": {
     "iopub.execute_input": "2022-05-28T19:40:51.623263Z",
     "iopub.status.busy": "2022-05-28T19:40:51.622867Z",
     "iopub.status.idle": "2022-05-28T19:40:51.639529Z",
     "shell.execute_reply": "2022-05-28T19:40:51.638703Z"
    },
    "papermill": {
     "duration": 3.480289,
     "end_time": "2022-05-28T19:40:51.642099",
     "exception": false,
     "start_time": "2022-05-28T19:40:48.161810",
     "status": "completed"
    },
    "tags": []
   },
   "outputs": [
    {
     "data": {
      "text/html": [
       "<div>\n",
       "<style scoped>\n",
       "    .dataframe tbody tr th:only-of-type {\n",
       "        vertical-align: middle;\n",
       "    }\n",
       "\n",
       "    .dataframe tbody tr th {\n",
       "        vertical-align: top;\n",
       "    }\n",
       "\n",
       "    .dataframe thead th {\n",
       "        text-align: right;\n",
       "    }\n",
       "</style>\n",
       "<table border=\"1\" class=\"dataframe\">\n",
       "  <thead>\n",
       "    <tr style=\"text-align: right;\">\n",
       "      <th></th>\n",
       "      <th>id</th>\n",
       "      <th>cell_order</th>\n",
       "    </tr>\n",
       "  </thead>\n",
       "  <tbody>\n",
       "    <tr>\n",
       "      <th>0</th>\n",
       "      <td>0009d135ece78d</td>\n",
       "      <td>0a226b6a 8cb8d28a ddfd239c c6cd22db e25aa9bd 1372ae9b f9893819 90ed07ab ba55e576 39e937ec 7f388a41 2843a25a 06dbf8cf</td>\n",
       "    </tr>\n",
       "    <tr>\n",
       "      <th>1</th>\n",
       "      <td>0010483c12ba9b</td>\n",
       "      <td>54c7cab3 fe66203e 7844d5f8 7f270e34 5ce8863c 4a0777c4 4703bb6d 4a32c095 865ad516 02a0be6d</td>\n",
       "    </tr>\n",
       "    <tr>\n",
       "      <th>2</th>\n",
       "      <td>0010a919d60e4f</td>\n",
       "      <td>23607d04 aafc3d23 b7578789 80e077ec b190ebb4 bbff12d4 ed415c3c 322850af c069ed33 584f6568 8ce62db4 868c4eae d3f5c397...</td>\n",
       "    </tr>\n",
       "    <tr>\n",
       "      <th>3</th>\n",
       "      <td>0028856e09c5b7</td>\n",
       "      <td>eb293dfc 012c9d02 d22526d1 3ae7ece3</td>\n",
       "    </tr>\n",
       "  </tbody>\n",
       "</table>\n",
       "</div>"
      ],
      "text/plain": [
       "               id                                                                                                               cell_order\n",
       "0  0009d135ece78d     0a226b6a 8cb8d28a ddfd239c c6cd22db e25aa9bd 1372ae9b f9893819 90ed07ab ba55e576 39e937ec 7f388a41 2843a25a 06dbf8cf\n",
       "1  0010483c12ba9b                                54c7cab3 fe66203e 7844d5f8 7f270e34 5ce8863c 4a0777c4 4703bb6d 4a32c095 865ad516 02a0be6d\n",
       "2  0010a919d60e4f  23607d04 aafc3d23 b7578789 80e077ec b190ebb4 bbff12d4 ed415c3c 322850af c069ed33 584f6568 8ce62db4 868c4eae d3f5c397...\n",
       "3  0028856e09c5b7                                                                                      eb293dfc 012c9d02 d22526d1 3ae7ece3"
      ]
     },
     "execution_count": 32,
     "metadata": {},
     "output_type": "execute_result"
    }
   ],
   "source": [
    "sub_df = test_df.sort_values(\"pred\").groupby(\"id\")[\"cell_id\"].apply(lambda x: \" \".join(x)).reset_index()\n",
    "sub_df.rename(columns={\"cell_id\": \"cell_order\"}, inplace=True)\n",
    "sub_df.head()"
   ]
  },
  {
   "cell_type": "code",
   "execution_count": 33,
   "id": "12e42e71",
   "metadata": {
    "execution": {
     "iopub.execute_input": "2022-05-28T19:40:58.919988Z",
     "iopub.status.busy": "2022-05-28T19:40:58.919720Z",
     "iopub.status.idle": "2022-05-28T19:40:58.927074Z",
     "shell.execute_reply": "2022-05-28T19:40:58.926397Z"
    },
    "papermill": {
     "duration": 3.732671,
     "end_time": "2022-05-28T19:40:58.928867",
     "exception": false,
     "start_time": "2022-05-28T19:40:55.196196",
     "status": "completed"
    },
    "tags": []
   },
   "outputs": [],
   "source": [
    "sub_df.to_csv(\"submission.csv\", index=False)"
   ]
  },
  {
   "cell_type": "code",
   "execution_count": null,
   "id": "c72a4d26",
   "metadata": {
    "papermill": {
     "duration": 3.413132,
     "end_time": "2022-05-28T19:41:05.823012",
     "exception": false,
     "start_time": "2022-05-28T19:41:02.409880",
     "status": "completed"
    },
    "tags": []
   },
   "outputs": [],
   "source": []
  }
 ],
 "metadata": {
  "kernelspec": {
   "display_name": "Python 3",
   "language": "python",
   "name": "python3"
  },
  "language_info": {
   "codemirror_mode": {
    "name": "ipython",
    "version": 3
   },
   "file_extension": ".py",
   "mimetype": "text/x-python",
   "name": "python",
   "nbconvert_exporter": "python",
   "pygments_lexer": "ipython3",
   "version": "3.7.12"
  },
  "papermill": {
   "default_parameters": {},
   "duration": 1237.040319,
   "end_time": "2022-05-28T19:41:13.435101",
   "environment_variables": {},
   "exception": null,
   "input_path": "__notebook__.ipynb",
   "output_path": "__notebook__.ipynb",
   "parameters": {},
   "start_time": "2022-05-28T19:20:36.394782",
   "version": "2.3.4"
  }
 },
 "nbformat": 4,
 "nbformat_minor": 5
}
