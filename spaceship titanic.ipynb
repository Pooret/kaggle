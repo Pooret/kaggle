{
 "cells": [
  {
   "cell_type": "markdown",
   "id": "7146c0e1",
   "metadata": {},
   "source": [
    "In this competition your task is to predict whether a passenger was transported to an alternate dimension during the Spaceship Titanic's collision with the spacetime anomaly. To help you make these predictions, you're given a set of personal records recovered from the ship's damaged computer system."
   ]
  },
  {
   "cell_type": "markdown",
   "id": "78581506",
   "metadata": {},
   "source": [
    "# 1. Imports"
   ]
  },
  {
   "cell_type": "code",
   "execution_count": 1,
   "id": "9b04dc0f",
   "metadata": {},
   "outputs": [],
   "source": [
    "# data wrangling\n",
    "import pandas as pd\n",
    "import numpy as np\n",
    "\n",
    "# data visualization\n",
    "import matplotlib.pyplot as plt\n",
    "import seaborn as sns\n",
    "plt.style.use('fivethirtyeight')\n",
    "\n",
    "# data preprocessing\n",
    "from sklearn.preprocessing import Normalizer\n",
    "from sklearn.model_selection import train_test_split\n",
    "\n",
    "# Models\n",
    "from sklearn.linear_model import LogisticRegression, Perceptron, SGDClassifier\n",
    "from sklearn.svm import SVC\n",
    "from sklearn.ensemble import RandomForestClassifier\n",
    "from sklearn.neighbors import KNeighborsClassifier\n",
    "from sklearn.naive_bayes import GaussianNB\n",
    "from sklearn.tree import DecisionTreeClassifier\n",
    "from catboost import CatBoostClassifier\n",
    "\n",
    "# DL\n",
    "import tensorflow as tf\n",
    "from tensorflow import keras\n",
    "\n",
    "# Model Metrics and Evaluation \n",
    "from sklearn.metrics import accuracy_score\n",
    "from sklearn.model_selection import cross_val_score\n",
    "from sklearn.model_selection import GridSearchCV\n",
    "\n",
    "# Model Saving\n",
    "import pathlib\n",
    "import shutil\n",
    "import tempfile\n",
    "logdir = pathlib.Path(tempfile.mktemp())/\"tensorboard_logs\"\n",
    "shutil.rmtree(logdir, ignore_errors=True)\n",
    "\n",
    "# ignore warnings\n",
    "import warnings\n",
    "warnings.filterwarnings('ignore')\n",
    "\n",
    "# tensorboard\n",
    "import os\n",
    "root_logdir = os.path.join(os.curdir, 'my_logs')\n",
    "\n",
    "def get_run_logdir():\n",
    "    import time\n",
    "    run_id = time.strftime('run_%Y_%m_%d-%H_%M_%S')\n",
    "    return os.path.join(root_logdir, run_id)\n",
    "\n",
    "run_logdir = get_run_logdir()"
   ]
  },
  {
   "cell_type": "markdown",
   "id": "f13ed7be",
   "metadata": {},
   "source": [
    "# 2. Import and Read Data"
   ]
  },
  {
   "cell_type": "code",
   "execution_count": 2,
   "id": "f4796724",
   "metadata": {},
   "outputs": [
    {
     "data": {
      "text/html": [
       "<div>\n",
       "<style scoped>\n",
       "    .dataframe tbody tr th:only-of-type {\n",
       "        vertical-align: middle;\n",
       "    }\n",
       "\n",
       "    .dataframe tbody tr th {\n",
       "        vertical-align: top;\n",
       "    }\n",
       "\n",
       "    .dataframe thead th {\n",
       "        text-align: right;\n",
       "    }\n",
       "</style>\n",
       "<table border=\"1\" class=\"dataframe\">\n",
       "  <thead>\n",
       "    <tr style=\"text-align: right;\">\n",
       "      <th></th>\n",
       "      <th>PassengerId</th>\n",
       "      <th>HomePlanet</th>\n",
       "      <th>CryoSleep</th>\n",
       "      <th>Cabin</th>\n",
       "      <th>Destination</th>\n",
       "      <th>Age</th>\n",
       "      <th>VIP</th>\n",
       "      <th>RoomService</th>\n",
       "      <th>FoodCourt</th>\n",
       "      <th>ShoppingMall</th>\n",
       "      <th>Spa</th>\n",
       "      <th>VRDeck</th>\n",
       "      <th>Name</th>\n",
       "      <th>Transported</th>\n",
       "    </tr>\n",
       "  </thead>\n",
       "  <tbody>\n",
       "    <tr>\n",
       "      <th>0</th>\n",
       "      <td>0001_01</td>\n",
       "      <td>Europa</td>\n",
       "      <td>False</td>\n",
       "      <td>B/0/P</td>\n",
       "      <td>TRAPPIST-1e</td>\n",
       "      <td>39.0</td>\n",
       "      <td>False</td>\n",
       "      <td>0.0</td>\n",
       "      <td>0.0</td>\n",
       "      <td>0.0</td>\n",
       "      <td>0.0</td>\n",
       "      <td>0.0</td>\n",
       "      <td>Maham Ofracculy</td>\n",
       "      <td>False</td>\n",
       "    </tr>\n",
       "    <tr>\n",
       "      <th>1</th>\n",
       "      <td>0002_01</td>\n",
       "      <td>Earth</td>\n",
       "      <td>False</td>\n",
       "      <td>F/0/S</td>\n",
       "      <td>TRAPPIST-1e</td>\n",
       "      <td>24.0</td>\n",
       "      <td>False</td>\n",
       "      <td>109.0</td>\n",
       "      <td>9.0</td>\n",
       "      <td>25.0</td>\n",
       "      <td>549.0</td>\n",
       "      <td>44.0</td>\n",
       "      <td>Juanna Vines</td>\n",
       "      <td>True</td>\n",
       "    </tr>\n",
       "    <tr>\n",
       "      <th>2</th>\n",
       "      <td>0003_01</td>\n",
       "      <td>Europa</td>\n",
       "      <td>False</td>\n",
       "      <td>A/0/S</td>\n",
       "      <td>TRAPPIST-1e</td>\n",
       "      <td>58.0</td>\n",
       "      <td>True</td>\n",
       "      <td>43.0</td>\n",
       "      <td>3576.0</td>\n",
       "      <td>0.0</td>\n",
       "      <td>6715.0</td>\n",
       "      <td>49.0</td>\n",
       "      <td>Altark Susent</td>\n",
       "      <td>False</td>\n",
       "    </tr>\n",
       "    <tr>\n",
       "      <th>3</th>\n",
       "      <td>0003_02</td>\n",
       "      <td>Europa</td>\n",
       "      <td>False</td>\n",
       "      <td>A/0/S</td>\n",
       "      <td>TRAPPIST-1e</td>\n",
       "      <td>33.0</td>\n",
       "      <td>False</td>\n",
       "      <td>0.0</td>\n",
       "      <td>1283.0</td>\n",
       "      <td>371.0</td>\n",
       "      <td>3329.0</td>\n",
       "      <td>193.0</td>\n",
       "      <td>Solam Susent</td>\n",
       "      <td>False</td>\n",
       "    </tr>\n",
       "    <tr>\n",
       "      <th>4</th>\n",
       "      <td>0004_01</td>\n",
       "      <td>Earth</td>\n",
       "      <td>False</td>\n",
       "      <td>F/1/S</td>\n",
       "      <td>TRAPPIST-1e</td>\n",
       "      <td>16.0</td>\n",
       "      <td>False</td>\n",
       "      <td>303.0</td>\n",
       "      <td>70.0</td>\n",
       "      <td>151.0</td>\n",
       "      <td>565.0</td>\n",
       "      <td>2.0</td>\n",
       "      <td>Willy Santantines</td>\n",
       "      <td>True</td>\n",
       "    </tr>\n",
       "  </tbody>\n",
       "</table>\n",
       "</div>"
      ],
      "text/plain": [
       "  PassengerId HomePlanet CryoSleep  Cabin  Destination   Age    VIP  \\\n",
       "0     0001_01     Europa     False  B/0/P  TRAPPIST-1e  39.0  False   \n",
       "1     0002_01      Earth     False  F/0/S  TRAPPIST-1e  24.0  False   \n",
       "2     0003_01     Europa     False  A/0/S  TRAPPIST-1e  58.0   True   \n",
       "3     0003_02     Europa     False  A/0/S  TRAPPIST-1e  33.0  False   \n",
       "4     0004_01      Earth     False  F/1/S  TRAPPIST-1e  16.0  False   \n",
       "\n",
       "   RoomService  FoodCourt  ShoppingMall     Spa  VRDeck               Name  \\\n",
       "0          0.0        0.0           0.0     0.0     0.0    Maham Ofracculy   \n",
       "1        109.0        9.0          25.0   549.0    44.0       Juanna Vines   \n",
       "2         43.0     3576.0           0.0  6715.0    49.0      Altark Susent   \n",
       "3          0.0     1283.0         371.0  3329.0   193.0       Solam Susent   \n",
       "4        303.0       70.0         151.0   565.0     2.0  Willy Santantines   \n",
       "\n",
       "   Transported  \n",
       "0        False  \n",
       "1         True  \n",
       "2        False  \n",
       "3        False  \n",
       "4         True  "
      ]
     },
     "execution_count": 2,
     "metadata": {},
     "output_type": "execute_result"
    }
   ],
   "source": [
    "train = pd.read_csv('./data/spaceship-titanic/train.csv')\n",
    "test = pd.read_csv('./data/spaceship-titanic/test.csv')\n",
    "ss = pd.read_csv('./data/spaceship-titanic/sample_submission.csv')\n",
    "train.head()"
   ]
  },
  {
   "cell_type": "code",
   "execution_count": 3,
   "id": "cf6d67c2",
   "metadata": {},
   "outputs": [
    {
     "data": {
      "text/plain": [
       "(8693, 14)"
      ]
     },
     "execution_count": 3,
     "metadata": {},
     "output_type": "execute_result"
    }
   ],
   "source": [
    "train.shape"
   ]
  },
  {
   "cell_type": "code",
   "execution_count": 4,
   "id": "f422df0a",
   "metadata": {},
   "outputs": [
    {
     "data": {
      "text/html": [
       "<div>\n",
       "<style scoped>\n",
       "    .dataframe tbody tr th:only-of-type {\n",
       "        vertical-align: middle;\n",
       "    }\n",
       "\n",
       "    .dataframe tbody tr th {\n",
       "        vertical-align: top;\n",
       "    }\n",
       "\n",
       "    .dataframe thead th {\n",
       "        text-align: right;\n",
       "    }\n",
       "</style>\n",
       "<table border=\"1\" class=\"dataframe\">\n",
       "  <thead>\n",
       "    <tr style=\"text-align: right;\">\n",
       "      <th></th>\n",
       "      <th>PassengerId</th>\n",
       "      <th>HomePlanet</th>\n",
       "      <th>CryoSleep</th>\n",
       "      <th>Cabin</th>\n",
       "      <th>Destination</th>\n",
       "      <th>Age</th>\n",
       "      <th>VIP</th>\n",
       "      <th>RoomService</th>\n",
       "      <th>FoodCourt</th>\n",
       "      <th>ShoppingMall</th>\n",
       "      <th>Spa</th>\n",
       "      <th>VRDeck</th>\n",
       "      <th>Name</th>\n",
       "    </tr>\n",
       "  </thead>\n",
       "  <tbody>\n",
       "    <tr>\n",
       "      <th>0</th>\n",
       "      <td>0013_01</td>\n",
       "      <td>Earth</td>\n",
       "      <td>True</td>\n",
       "      <td>G/3/S</td>\n",
       "      <td>TRAPPIST-1e</td>\n",
       "      <td>27.0</td>\n",
       "      <td>False</td>\n",
       "      <td>0.0</td>\n",
       "      <td>0.0</td>\n",
       "      <td>0.0</td>\n",
       "      <td>0.0</td>\n",
       "      <td>0.0</td>\n",
       "      <td>Nelly Carsoning</td>\n",
       "    </tr>\n",
       "    <tr>\n",
       "      <th>1</th>\n",
       "      <td>0018_01</td>\n",
       "      <td>Earth</td>\n",
       "      <td>False</td>\n",
       "      <td>F/4/S</td>\n",
       "      <td>TRAPPIST-1e</td>\n",
       "      <td>19.0</td>\n",
       "      <td>False</td>\n",
       "      <td>0.0</td>\n",
       "      <td>9.0</td>\n",
       "      <td>0.0</td>\n",
       "      <td>2823.0</td>\n",
       "      <td>0.0</td>\n",
       "      <td>Lerome Peckers</td>\n",
       "    </tr>\n",
       "    <tr>\n",
       "      <th>2</th>\n",
       "      <td>0019_01</td>\n",
       "      <td>Europa</td>\n",
       "      <td>True</td>\n",
       "      <td>C/0/S</td>\n",
       "      <td>55 Cancri e</td>\n",
       "      <td>31.0</td>\n",
       "      <td>False</td>\n",
       "      <td>0.0</td>\n",
       "      <td>0.0</td>\n",
       "      <td>0.0</td>\n",
       "      <td>0.0</td>\n",
       "      <td>0.0</td>\n",
       "      <td>Sabih Unhearfus</td>\n",
       "    </tr>\n",
       "    <tr>\n",
       "      <th>3</th>\n",
       "      <td>0021_01</td>\n",
       "      <td>Europa</td>\n",
       "      <td>False</td>\n",
       "      <td>C/1/S</td>\n",
       "      <td>TRAPPIST-1e</td>\n",
       "      <td>38.0</td>\n",
       "      <td>False</td>\n",
       "      <td>0.0</td>\n",
       "      <td>6652.0</td>\n",
       "      <td>0.0</td>\n",
       "      <td>181.0</td>\n",
       "      <td>585.0</td>\n",
       "      <td>Meratz Caltilter</td>\n",
       "    </tr>\n",
       "    <tr>\n",
       "      <th>4</th>\n",
       "      <td>0023_01</td>\n",
       "      <td>Earth</td>\n",
       "      <td>False</td>\n",
       "      <td>F/5/S</td>\n",
       "      <td>TRAPPIST-1e</td>\n",
       "      <td>20.0</td>\n",
       "      <td>False</td>\n",
       "      <td>10.0</td>\n",
       "      <td>0.0</td>\n",
       "      <td>635.0</td>\n",
       "      <td>0.0</td>\n",
       "      <td>0.0</td>\n",
       "      <td>Brence Harperez</td>\n",
       "    </tr>\n",
       "  </tbody>\n",
       "</table>\n",
       "</div>"
      ],
      "text/plain": [
       "  PassengerId HomePlanet CryoSleep  Cabin  Destination   Age    VIP  \\\n",
       "0     0013_01      Earth      True  G/3/S  TRAPPIST-1e  27.0  False   \n",
       "1     0018_01      Earth     False  F/4/S  TRAPPIST-1e  19.0  False   \n",
       "2     0019_01     Europa      True  C/0/S  55 Cancri e  31.0  False   \n",
       "3     0021_01     Europa     False  C/1/S  TRAPPIST-1e  38.0  False   \n",
       "4     0023_01      Earth     False  F/5/S  TRAPPIST-1e  20.0  False   \n",
       "\n",
       "   RoomService  FoodCourt  ShoppingMall     Spa  VRDeck              Name  \n",
       "0          0.0        0.0           0.0     0.0     0.0   Nelly Carsoning  \n",
       "1          0.0        9.0           0.0  2823.0     0.0    Lerome Peckers  \n",
       "2          0.0        0.0           0.0     0.0     0.0   Sabih Unhearfus  \n",
       "3          0.0     6652.0           0.0   181.0   585.0  Meratz Caltilter  \n",
       "4         10.0        0.0         635.0     0.0     0.0   Brence Harperez  "
      ]
     },
     "execution_count": 4,
     "metadata": {},
     "output_type": "execute_result"
    }
   ],
   "source": [
    "test.head()"
   ]
  },
  {
   "cell_type": "code",
   "execution_count": 5,
   "id": "65e61d8b",
   "metadata": {},
   "outputs": [
    {
     "data": {
      "text/plain": [
       "(4277, 13)"
      ]
     },
     "execution_count": 5,
     "metadata": {},
     "output_type": "execute_result"
    }
   ],
   "source": [
    "test.shape"
   ]
  },
  {
   "cell_type": "markdown",
   "id": "36fa6d3c",
   "metadata": {},
   "source": [
    "# 3. Data Descriptions"
   ]
  },
  {
   "cell_type": "markdown",
   "id": "2e91bfb6",
   "metadata": {},
   "source": [
    "    PassengerId - A unique Id for each passenger. Each Id takes the form gggg_pp where gggg indicates a group the passenger is travelling with and pp is their number within the group. People in a group are often family members, but not always.\n",
    "    HomePlanet - The planet the passenger departed from, typically their planet of permanent residence.\n",
    "    CryoSleep - Indicates whether the passenger elected to be put into suspended animation for the duration of the voyage. Passengers in cryosleep are confined to their cabins.\n",
    "    Cabin - The cabin number where the passenger is staying. Takes the form deck/num/side, where side can be either P for Port or S for Starboard.\n",
    "    Destination - The planet the passenger will be debarking to.\n",
    "    Age - The age of the passenger.\n",
    "    VIP - Whether the passenger has paid for special VIP service during the voyage.\n",
    "    RoomService, FoodCourt, ShoppingMall, Spa, VRDeck - Amount the passenger has billed at each of the Spaceship Titanic's many luxury amenities.\n",
    "    Name - The first and last names of the passenger.\n",
    "    Transported - Whether the passenger was transported to another dimension. This is the target, the column you are trying to predict."
   ]
  },
  {
   "cell_type": "markdown",
   "id": "88f9831e",
   "metadata": {},
   "source": [
    "# 4. Exploratory Data Analysis"
   ]
  },
  {
   "cell_type": "markdown",
   "id": "2fc96432",
   "metadata": {},
   "source": [
    "## 4.1 Data Types,  Missing Data, Summary Stats"
   ]
  },
  {
   "cell_type": "code",
   "execution_count": 6,
   "id": "c2369733",
   "metadata": {},
   "outputs": [
    {
     "name": "stdout",
     "output_type": "stream",
     "text": [
      "<class 'pandas.core.frame.DataFrame'>\n",
      "RangeIndex: 8693 entries, 0 to 8692\n",
      "Data columns (total 14 columns):\n",
      " #   Column        Non-Null Count  Dtype  \n",
      "---  ------        --------------  -----  \n",
      " 0   PassengerId   8693 non-null   object \n",
      " 1   HomePlanet    8492 non-null   object \n",
      " 2   CryoSleep     8476 non-null   object \n",
      " 3   Cabin         8494 non-null   object \n",
      " 4   Destination   8511 non-null   object \n",
      " 5   Age           8514 non-null   float64\n",
      " 6   VIP           8490 non-null   object \n",
      " 7   RoomService   8512 non-null   float64\n",
      " 8   FoodCourt     8510 non-null   float64\n",
      " 9   ShoppingMall  8485 non-null   float64\n",
      " 10  Spa           8510 non-null   float64\n",
      " 11  VRDeck        8505 non-null   float64\n",
      " 12  Name          8493 non-null   object \n",
      " 13  Transported   8693 non-null   bool   \n",
      "dtypes: bool(1), float64(6), object(7)\n",
      "memory usage: 891.5+ KB\n",
      "----------------------------------------\n",
      "<class 'pandas.core.frame.DataFrame'>\n",
      "RangeIndex: 4277 entries, 0 to 4276\n",
      "Data columns (total 13 columns):\n",
      " #   Column        Non-Null Count  Dtype  \n",
      "---  ------        --------------  -----  \n",
      " 0   PassengerId   4277 non-null   object \n",
      " 1   HomePlanet    4190 non-null   object \n",
      " 2   CryoSleep     4184 non-null   object \n",
      " 3   Cabin         4177 non-null   object \n",
      " 4   Destination   4185 non-null   object \n",
      " 5   Age           4186 non-null   float64\n",
      " 6   VIP           4184 non-null   object \n",
      " 7   RoomService   4195 non-null   float64\n",
      " 8   FoodCourt     4171 non-null   float64\n",
      " 9   ShoppingMall  4179 non-null   float64\n",
      " 10  Spa           4176 non-null   float64\n",
      " 11  VRDeck        4197 non-null   float64\n",
      " 12  Name          4183 non-null   object \n",
      "dtypes: float64(6), object(7)\n",
      "memory usage: 434.5+ KB\n"
     ]
    }
   ],
   "source": [
    "train.info()\n",
    "print('-'*40)\n",
    "test.info()"
   ]
  },
  {
   "cell_type": "code",
   "execution_count": 7,
   "id": "2b178793",
   "metadata": {},
   "outputs": [
    {
     "data": {
      "text/plain": [
       "PassengerId     8693\n",
       "HomePlanet         3\n",
       "CryoSleep          2\n",
       "Cabin           6560\n",
       "Destination        3\n",
       "Age               80\n",
       "VIP                2\n",
       "RoomService     1273\n",
       "FoodCourt       1507\n",
       "ShoppingMall    1115\n",
       "Spa             1327\n",
       "VRDeck          1306\n",
       "Name            8473\n",
       "Transported        2\n",
       "dtype: int64"
      ]
     },
     "execution_count": 7,
     "metadata": {},
     "output_type": "execute_result"
    }
   ],
   "source": [
    "train.nunique()"
   ]
  },
  {
   "cell_type": "code",
   "execution_count": 8,
   "id": "e1f05273",
   "metadata": {},
   "outputs": [
    {
     "data": {
      "text/plain": [
       "PassengerId     4277\n",
       "HomePlanet         3\n",
       "CryoSleep          2\n",
       "Cabin           3265\n",
       "Destination        3\n",
       "Age               79\n",
       "VIP                2\n",
       "RoomService      842\n",
       "FoodCourt        902\n",
       "ShoppingMall     715\n",
       "Spa              833\n",
       "VRDeck           796\n",
       "Name            4176\n",
       "dtype: int64"
      ]
     },
     "execution_count": 8,
     "metadata": {},
     "output_type": "execute_result"
    }
   ],
   "source": [
    "test.nunique()"
   ]
  },
  {
   "cell_type": "code",
   "execution_count": 9,
   "id": "6c588ed4",
   "metadata": {
    "scrolled": true
   },
   "outputs": [
    {
     "data": {
      "text/plain": [
       "PassengerId     0.000000\n",
       "HomePlanet      2.312205\n",
       "CryoSleep       2.496261\n",
       "Cabin           2.289198\n",
       "Destination     2.093639\n",
       "Age             2.059128\n",
       "VIP             2.335212\n",
       "RoomService     2.082135\n",
       "FoodCourt       2.105142\n",
       "ShoppingMall    2.392730\n",
       "Spa             2.105142\n",
       "VRDeck          2.162660\n",
       "Name            2.300702\n",
       "Transported     0.000000\n",
       "dtype: float64"
      ]
     },
     "execution_count": 9,
     "metadata": {},
     "output_type": "execute_result"
    }
   ],
   "source": [
    "train.isnull().sum() / len(train) * 100"
   ]
  },
  {
   "cell_type": "code",
   "execution_count": 10,
   "id": "9949d2ba",
   "metadata": {
    "scrolled": true
   },
   "outputs": [
    {
     "data": {
      "text/plain": [
       "PassengerId     0.000000\n",
       "HomePlanet      2.034136\n",
       "CryoSleep       2.174421\n",
       "Cabin           2.338087\n",
       "Destination     2.151040\n",
       "Age             2.127660\n",
       "VIP             2.174421\n",
       "RoomService     1.917232\n",
       "FoodCourt       2.478373\n",
       "ShoppingMall    2.291326\n",
       "Spa             2.361468\n",
       "VRDeck          1.870470\n",
       "Name            2.197802\n",
       "dtype: float64"
      ]
     },
     "execution_count": 10,
     "metadata": {},
     "output_type": "execute_result"
    }
   ],
   "source": [
    "test.isnull().sum() / len(test) * 100"
   ]
  },
  {
   "cell_type": "code",
   "execution_count": 12,
   "id": "faf94f8a",
   "metadata": {},
   "outputs": [],
   "source": [
    "# remove null values\n",
    "train = train.fillna(method='pad')\n",
    "test = test.fillna(method='pad')"
   ]
  },
  {
   "cell_type": "code",
   "execution_count": 13,
   "id": "c10434ae",
   "metadata": {},
   "outputs": [
    {
     "data": {
      "text/plain": [
       "(8693, 14)"
      ]
     },
     "execution_count": 13,
     "metadata": {},
     "output_type": "execute_result"
    }
   ],
   "source": [
    "train.shape"
   ]
  },
  {
   "cell_type": "code",
   "execution_count": 14,
   "id": "9977bbd4",
   "metadata": {},
   "outputs": [
    {
     "data": {
      "text/plain": [
       "(4277, 13)"
      ]
     },
     "execution_count": 14,
     "metadata": {},
     "output_type": "execute_result"
    }
   ],
   "source": [
    "test.shape"
   ]
  },
  {
   "cell_type": "markdown",
   "id": "e065873f",
   "metadata": {},
   "source": [
    "## 4.2 Feature Analysis\n",
    "### 4.2.1 Categorical Features"
   ]
  },
  {
   "cell_type": "code",
   "execution_count": 15,
   "id": "a282f2d2",
   "metadata": {},
   "outputs": [
    {
     "data": {
      "text/plain": [
       "Index(['HomePlanet', 'CryoSleep', 'Destination', 'VIP'], dtype='object')"
      ]
     },
     "execution_count": 15,
     "metadata": {},
     "output_type": "execute_result"
    }
   ],
   "source": [
    "categorical_features = train.nunique()[train.nunique() < 10].index[:-1] # avoid including target variable\n",
    "categorical_features"
   ]
  },
  {
   "cell_type": "markdown",
   "id": "df52a64f",
   "metadata": {},
   "source": [
    "### Home Planet"
   ]
  },
  {
   "cell_type": "code",
   "execution_count": 16,
   "id": "31696d16",
   "metadata": {},
   "outputs": [
    {
     "data": {
      "text/plain": [
       "Earth     4720\n",
       "Europa    2177\n",
       "Mars      1796\n",
       "Name: HomePlanet, dtype: int64"
      ]
     },
     "execution_count": 16,
     "metadata": {},
     "output_type": "execute_result"
    }
   ],
   "source": [
    "train['HomePlanet'].value_counts()"
   ]
  },
  {
   "cell_type": "code",
   "execution_count": 17,
   "id": "4c39e48f",
   "metadata": {},
   "outputs": [
    {
     "data": {
      "text/html": [
       "<div>\n",
       "<style scoped>\n",
       "    .dataframe tbody tr th:only-of-type {\n",
       "        vertical-align: middle;\n",
       "    }\n",
       "\n",
       "    .dataframe tbody tr th {\n",
       "        vertical-align: top;\n",
       "    }\n",
       "\n",
       "    .dataframe thead th {\n",
       "        text-align: right;\n",
       "    }\n",
       "</style>\n",
       "<table border=\"1\" class=\"dataframe\">\n",
       "  <thead>\n",
       "    <tr style=\"text-align: right;\">\n",
       "      <th></th>\n",
       "      <th>HomePlanet</th>\n",
       "      <th>Transported</th>\n",
       "    </tr>\n",
       "  </thead>\n",
       "  <tbody>\n",
       "    <tr>\n",
       "      <th>1</th>\n",
       "      <td>Europa</td>\n",
       "      <td>0.659164</td>\n",
       "    </tr>\n",
       "    <tr>\n",
       "      <th>2</th>\n",
       "      <td>Mars</td>\n",
       "      <td>0.522829</td>\n",
       "    </tr>\n",
       "    <tr>\n",
       "      <th>0</th>\n",
       "      <td>Earth</td>\n",
       "      <td>0.424576</td>\n",
       "    </tr>\n",
       "  </tbody>\n",
       "</table>\n",
       "</div>"
      ],
      "text/plain": [
       "  HomePlanet  Transported\n",
       "1     Europa     0.659164\n",
       "2       Mars     0.522829\n",
       "0      Earth     0.424576"
      ]
     },
     "execution_count": 17,
     "metadata": {},
     "output_type": "execute_result"
    }
   ],
   "source": [
    "train[['HomePlanet', 'Transported']].groupby('HomePlanet', as_index=False).mean().sort_values(by='Transported', ascending=False)"
   ]
  },
  {
   "cell_type": "code",
   "execution_count": 18,
   "id": "7edc7880",
   "metadata": {},
   "outputs": [
    {
     "data": {
      "text/plain": [
       "Text(0.5, 1.0, 'Transported Probability by Home Planet')"
      ]
     },
     "execution_count": 18,
     "metadata": {},
     "output_type": "execute_result"
    },
    {
     "data": {
      "image/png": "[encoded data removed]",
      "text/plain": [
       "<Figure size 432x288 with 1 Axes>"
      ]
     },
     "metadata": {},
     "output_type": "display_data"
    }
   ],
   "source": [
    "sns.barplot(x='HomePlanet', y='Transported', data=train)\n",
    "plt.title('Transported Probability by Home Planet')"
   ]
  },
  {
   "cell_type": "markdown",
   "id": "782e2757",
   "metadata": {},
   "source": [
    "#### Notes:\n",
    "Possible reasons for Europa having the highest tranportation risk are it is farthest from the sun, smallest, and  exists in a more turbulent environent (being a moon of Jupiter)."
   ]
  },
  {
   "cell_type": "markdown",
   "id": "88a1045c",
   "metadata": {},
   "source": [
    "### Cryo Sleep"
   ]
  },
  {
   "cell_type": "code",
   "execution_count": 19,
   "id": "091f27a0",
   "metadata": {},
   "outputs": [
    {
     "data": {
      "text/plain": [
       "False    5582\n",
       "True     3111\n",
       "Name: CryoSleep, dtype: int64"
      ]
     },
     "execution_count": 19,
     "metadata": {},
     "output_type": "execute_result"
    }
   ],
   "source": [
    "train['CryoSleep'].value_counts()"
   ]
  },
  {
   "cell_type": "code",
   "execution_count": 20,
   "id": "eb2662d8",
   "metadata": {},
   "outputs": [
    {
     "data": {
      "text/html": [
       "<div>\n",
       "<style scoped>\n",
       "    .dataframe tbody tr th:only-of-type {\n",
       "        vertical-align: middle;\n",
       "    }\n",
       "\n",
       "    .dataframe tbody tr th {\n",
       "        vertical-align: top;\n",
       "    }\n",
       "\n",
       "    .dataframe thead th {\n",
       "        text-align: right;\n",
       "    }\n",
       "</style>\n",
       "<table border=\"1\" class=\"dataframe\">\n",
       "  <thead>\n",
       "    <tr style=\"text-align: right;\">\n",
       "      <th></th>\n",
       "      <th>CryoSleep</th>\n",
       "      <th>Transported</th>\n",
       "    </tr>\n",
       "  </thead>\n",
       "  <tbody>\n",
       "    <tr>\n",
       "      <th>1</th>\n",
       "      <td>True</td>\n",
       "      <td>0.809065</td>\n",
       "    </tr>\n",
       "    <tr>\n",
       "      <th>0</th>\n",
       "      <td>False</td>\n",
       "      <td>0.333393</td>\n",
       "    </tr>\n",
       "  </tbody>\n",
       "</table>\n",
       "</div>"
      ],
      "text/plain": [
       "   CryoSleep  Transported\n",
       "1       True     0.809065\n",
       "0      False     0.333393"
      ]
     },
     "execution_count": 20,
     "metadata": {},
     "output_type": "execute_result"
    }
   ],
   "source": [
    "train[['CryoSleep', 'Transported']].groupby('CryoSleep', as_index=False).mean().sort_values(by='Transported', ascending=False)"
   ]
  },
  {
   "cell_type": "markdown",
   "id": "89d41c72",
   "metadata": {},
   "source": [
    "This is obviously a big difference in whether or not a Tranportation disaster took place."
   ]
  },
  {
   "cell_type": "code",
   "execution_count": 21,
   "id": "c7f2a55e",
   "metadata": {},
   "outputs": [
    {
     "data": {
      "text/plain": [
       "<seaborn.axisgrid.FacetGrid at 0x7f922ca32370>"
      ]
     },
     "execution_count": 21,
     "metadata": {},
     "output_type": "execute_result"
    },
    {
     "data": {
      "image/png": "[encoded data removed]",
      "text/plain": [
       "<Figure size 459.65x360 with 1 Axes>"
      ]
     },
     "metadata": {},
     "output_type": "display_data"
    }
   ],
   "source": [
    "sns.catplot(x='CryoSleep', y='Transported', hue='HomePlanet', data=train, kind='bar')"
   ]
  },
  {
   "cell_type": "code",
   "execution_count": 22,
   "id": "d398cdf4",
   "metadata": {},
   "outputs": [
    {
     "data": {
      "text/plain": [
       "True     0.809065\n",
       "False    0.190935\n",
       "Name: Transported, dtype: float64"
      ]
     },
     "execution_count": 22,
     "metadata": {},
     "output_type": "execute_result"
    }
   ],
   "source": [
    "train[train['CryoSleep'] == True]['Transported'].value_counts() / len(train[train['CryoSleep'] == True])"
   ]
  },
  {
   "cell_type": "markdown",
   "id": "f7325c7e",
   "metadata": {},
   "source": [
    "#### Note:\n",
    "Cryosleep seems to be a huge factor in determining if someone was transported. Cryosleep passengers **are confined to their rooms** so it's important to get an idea if the event were localized in some way."
   ]
  },
  {
   "cell_type": "markdown",
   "id": "a9f41058",
   "metadata": {},
   "source": [
    "### Destination"
   ]
  },
  {
   "cell_type": "code",
   "execution_count": 23,
   "id": "d3963a2f",
   "metadata": {},
   "outputs": [
    {
     "data": {
      "text/plain": [
       "TRAPPIST-1e      6037\n",
       "55 Cancri e      1840\n",
       "PSO J318.5-22     816\n",
       "Name: Destination, dtype: int64"
      ]
     },
     "execution_count": 23,
     "metadata": {},
     "output_type": "execute_result"
    }
   ],
   "source": [
    "train['Destination'].value_counts()"
   ]
  },
  {
   "cell_type": "code",
   "execution_count": 24,
   "id": "da0e7c91",
   "metadata": {
    "scrolled": true
   },
   "outputs": [
    {
     "data": {
      "text/html": [
       "<div>\n",
       "<style scoped>\n",
       "    .dataframe tbody tr th:only-of-type {\n",
       "        vertical-align: middle;\n",
       "    }\n",
       "\n",
       "    .dataframe tbody tr th {\n",
       "        vertical-align: top;\n",
       "    }\n",
       "\n",
       "    .dataframe thead th {\n",
       "        text-align: right;\n",
       "    }\n",
       "</style>\n",
       "<table border=\"1\" class=\"dataframe\">\n",
       "  <thead>\n",
       "    <tr style=\"text-align: right;\">\n",
       "      <th></th>\n",
       "      <th>Destination</th>\n",
       "      <th>Transported</th>\n",
       "    </tr>\n",
       "  </thead>\n",
       "  <tbody>\n",
       "    <tr>\n",
       "      <th>0</th>\n",
       "      <td>55 Cancri e</td>\n",
       "      <td>0.609239</td>\n",
       "    </tr>\n",
       "    <tr>\n",
       "      <th>1</th>\n",
       "      <td>PSO J318.5-22</td>\n",
       "      <td>0.502451</td>\n",
       "    </tr>\n",
       "    <tr>\n",
       "      <th>2</th>\n",
       "      <td>TRAPPIST-1e</td>\n",
       "      <td>0.471592</td>\n",
       "    </tr>\n",
       "  </tbody>\n",
       "</table>\n",
       "</div>"
      ],
      "text/plain": [
       "     Destination  Transported\n",
       "0    55 Cancri e     0.609239\n",
       "1  PSO J318.5-22     0.502451\n",
       "2    TRAPPIST-1e     0.471592"
      ]
     },
     "execution_count": 24,
     "metadata": {},
     "output_type": "execute_result"
    }
   ],
   "source": [
    "train[['Destination', 'Transported']].groupby('Destination', as_index=False).mean().sort_values(by='Transported', ascending=False)"
   ]
  },
  {
   "cell_type": "code",
   "execution_count": 25,
   "id": "224fa2f6",
   "metadata": {},
   "outputs": [
    {
     "data": {
      "text/plain": [
       "Text(0.5, 1.0, 'Transported Probability by Destination')"
      ]
     },
     "execution_count": 25,
     "metadata": {},
     "output_type": "execute_result"
    },
    {
     "data": {
      "image/png": "[encoded data removed]",
      "text/plain": [
       "<Figure size 432x288 with 1 Axes>"
      ]
     },
     "metadata": {},
     "output_type": "display_data"
    }
   ],
   "source": [
    "sns.barplot(x='Destination', y='Transported', data=train)\n",
    "plt.title('Transported Probability by Destination')"
   ]
  },
  {
   "cell_type": "code",
   "execution_count": 26,
   "id": "5471ef22",
   "metadata": {},
   "outputs": [
    {
     "data": {
      "text/plain": [
       "<seaborn.axisgrid.FacetGrid at 0x7f92366fa760>"
      ]
     },
     "execution_count": 26,
     "metadata": {},
     "output_type": "execute_result"
    },
    {
     "data": {
      "image/png": "[encoded data removed]",
      "text/plain": [
       "<Figure size 510.025x360 with 1 Axes>"
      ]
     },
     "metadata": {},
     "output_type": "display_data"
    }
   ],
   "source": [
    "sns.catplot(x='CryoSleep', y='Transported', hue='Destination', data=train, kind='bar')"
   ]
  },
  {
   "cell_type": "code",
   "execution_count": 27,
   "id": "de818285",
   "metadata": {},
   "outputs": [
    {
     "data": {
      "text/plain": [
       "<seaborn.axisgrid.FacetGrid at 0x7f9236681520>"
      ]
     },
     "execution_count": 27,
     "metadata": {},
     "output_type": "execute_result"
    },
    {
     "data": {
      "image/png": "[encoded data removed]",
      "text/plain": [
       "<Figure size 949.775x288 with 3 Axes>"
      ]
     },
     "metadata": {},
     "output_type": "display_data"
    }
   ],
   "source": [
    "grid = sns.FacetGrid(train, col='Destination', size=4, aspect=1, )\n",
    "grid.map(sns.pointplot, 'HomePlanet', 'Transported', 'CryoSleep', scale=0.4)\n",
    "grid.add_legend(title='CryoSleep')"
   ]
  },
  {
   "cell_type": "markdown",
   "id": "ba6a8824",
   "metadata": {},
   "source": [
    "#### Note:\n",
    "Destination may not play that important of a role."
   ]
  },
  {
   "cell_type": "markdown",
   "id": "0c1befc3",
   "metadata": {},
   "source": [
    "### VIP"
   ]
  },
  {
   "cell_type": "code",
   "execution_count": 28,
   "id": "775b7fb9",
   "metadata": {},
   "outputs": [
    {
     "data": {
      "text/plain": [
       "False    8489\n",
       "True      204\n",
       "Name: VIP, dtype: int64"
      ]
     },
     "execution_count": 28,
     "metadata": {},
     "output_type": "execute_result"
    }
   ],
   "source": [
    "train['VIP'].value_counts()"
   ]
  },
  {
   "cell_type": "code",
   "execution_count": 29,
   "id": "a4891ee6",
   "metadata": {},
   "outputs": [
    {
     "data": {
      "text/html": [
       "<div>\n",
       "<style scoped>\n",
       "    .dataframe tbody tr th:only-of-type {\n",
       "        vertical-align: middle;\n",
       "    }\n",
       "\n",
       "    .dataframe tbody tr th {\n",
       "        vertical-align: top;\n",
       "    }\n",
       "\n",
       "    .dataframe thead th {\n",
       "        text-align: right;\n",
       "    }\n",
       "</style>\n",
       "<table border=\"1\" class=\"dataframe\">\n",
       "  <thead>\n",
       "    <tr style=\"text-align: right;\">\n",
       "      <th></th>\n",
       "      <th>VIP</th>\n",
       "      <th>Transported</th>\n",
       "    </tr>\n",
       "  </thead>\n",
       "  <tbody>\n",
       "    <tr>\n",
       "      <th>0</th>\n",
       "      <td>False</td>\n",
       "      <td>0.506302</td>\n",
       "    </tr>\n",
       "    <tr>\n",
       "      <th>1</th>\n",
       "      <td>True</td>\n",
       "      <td>0.392157</td>\n",
       "    </tr>\n",
       "  </tbody>\n",
       "</table>\n",
       "</div>"
      ],
      "text/plain": [
       "     VIP  Transported\n",
       "0  False     0.506302\n",
       "1   True     0.392157"
      ]
     },
     "execution_count": 29,
     "metadata": {},
     "output_type": "execute_result"
    }
   ],
   "source": [
    "train[['VIP', 'Transported']].groupby('VIP', as_index=False).mean().sort_values(by='Transported', ascending=False)"
   ]
  },
  {
   "cell_type": "code",
   "execution_count": 30,
   "id": "53a31096",
   "metadata": {},
   "outputs": [
    {
     "data": {
      "text/plain": [
       "<seaborn.axisgrid.FacetGrid at 0x7f922ca72f40>"
      ]
     },
     "execution_count": 30,
     "metadata": {},
     "output_type": "execute_result"
    },
    {
     "data": {
      "image/png": "[encoded data removed]",
      "text/plain": [
       "<Figure size 445.775x360 with 1 Axes>"
      ]
     },
     "metadata": {},
     "output_type": "display_data"
    }
   ],
   "source": [
    "sns.catplot(x='CryoSleep', y='Transported', hue='VIP', data=train, kind='bar')"
   ]
  },
  {
   "cell_type": "markdown",
   "id": "75c4d58c",
   "metadata": {},
   "source": [
    "#### Note:\n",
    "This seems to indicate the VIP is not that important to whether or not someone was tranported into another dimension."
   ]
  },
  {
   "cell_type": "markdown",
   "id": "b2fea50c",
   "metadata": {},
   "source": [
    "### 4.2.2 Numerical Variables"
   ]
  },
  {
   "cell_type": "code",
   "execution_count": 31,
   "id": "3299f9c5",
   "metadata": {},
   "outputs": [],
   "source": [
    "numerical_features = ['Age', 'RoomService', 'FoodCourt', 'ShoppingMall', 'Spa', 'VRDeck']"
   ]
  },
  {
   "cell_type": "markdown",
   "id": "1262e2f5",
   "metadata": {},
   "source": [
    "### Age"
   ]
  },
  {
   "cell_type": "code",
   "execution_count": 32,
   "id": "771e5c36",
   "metadata": {
    "scrolled": false
   },
   "outputs": [
    {
     "data": {
      "text/plain": [
       "Text(0.5, 1.0, 'Passenger Age Distribution by Tranported')"
      ]
     },
     "execution_count": 32,
     "metadata": {},
     "output_type": "execute_result"
    },
    {
     "data": {
      "image/png": "[encoded data removed]",
      "text/plain": [
       "<Figure size 432x288 with 1 Axes>"
      ]
     },
     "metadata": {},
     "output_type": "display_data"
    }
   ],
   "source": [
    "sns.kdeplot(train['Age'][train['Transported']==False], label='False', c='blue')\n",
    "sns.kdeplot(train['Age'][train['Transported']==True], label='True', c='red')\n",
    "plt.xlabel('Age')\n",
    "plt.legend(title='Transported')\n",
    "plt.title('Passenger Age Distribution by Tranported')"
   ]
  },
  {
   "cell_type": "code",
   "execution_count": 33,
   "id": "b9cac0e2",
   "metadata": {},
   "outputs": [
    {
     "data": {
      "text/plain": [
       "Text(0.5, 1.0, 'Average Ages of Tranported and\\n Non-Transported Individuals by Home Planet')"
      ]
     },
     "execution_count": 33,
     "metadata": {},
     "output_type": "execute_result"
    },
    {
     "data": {
      "image/png": "[encoded data removed]",
      "text/plain": [
       "<Figure size 432x288 with 1 Axes>"
      ]
     },
     "metadata": {},
     "output_type": "display_data"
    }
   ],
   "source": [
    "sns.pointplot(x='HomePlanet', y='Age', hue='Transported', data=train, scale=0.2)\n",
    "plt.title('Average Ages of Tranported and\\n Non-Transported Individuals by Home Planet')"
   ]
  },
  {
   "cell_type": "code",
   "execution_count": 34,
   "id": "ec8f8d84",
   "metadata": {},
   "outputs": [
    {
     "data": {
      "text/plain": [
       "Text(0.5, 1.0, 'Average Ages of Tranported and\\n Non-Transported Individuals by Destination')"
      ]
     },
     "execution_count": 34,
     "metadata": {},
     "output_type": "execute_result"
    },
    {
     "data": {
      "image/png": "[encoded data removed]",
      "text/plain": [
       "<Figure size 432x288 with 1 Axes>"
      ]
     },
     "metadata": {},
     "output_type": "display_data"
    }
   ],
   "source": [
    "sns.pointplot(x='Destination', y='Age', hue='Transported', data=train, scale=0.2)\n",
    "plt.title('Average Ages of Tranported and\\n Non-Transported Individuals by Destination')"
   ]
  },
  {
   "cell_type": "code",
   "execution_count": 35,
   "id": "70570d76",
   "metadata": {},
   "outputs": [
    {
     "data": {
      "text/plain": [
       "Text(0.5, 1.0, 'Average Ages of Tranported and\\n Non-Transported Individuals by Cryo Sleep')"
      ]
     },
     "execution_count": 35,
     "metadata": {},
     "output_type": "execute_result"
    },
    {
     "data": {
      "image/png": "[encoded data removed]",
      "text/plain": [
       "<Figure size 432x288 with 1 Axes>"
      ]
     },
     "metadata": {},
     "output_type": "display_data"
    }
   ],
   "source": [
    "sns.pointplot(x='CryoSleep', y='Age', hue='Transported', data=train, scale=0.2)\n",
    "plt.title('Average Ages of Tranported and\\n Non-Transported Individuals by Cryo Sleep')"
   ]
  },
  {
   "cell_type": "markdown",
   "id": "4c3d7972",
   "metadata": {},
   "source": [
    "#### Note:\n",
    "Even though the average age of those transported is younger, the average age of those who were tranported and in cryosleep is older. "
   ]
  },
  {
   "cell_type": "code",
   "execution_count": 36,
   "id": "9a18846e",
   "metadata": {
    "scrolled": true
   },
   "outputs": [
    {
     "data": {
      "text/plain": [
       "<matplotlib.legend.Legend at 0x7f92189e7e20>"
      ]
     },
     "execution_count": 36,
     "metadata": {},
     "output_type": "execute_result"
    },
    {
     "data": {
      "image/png": "[encoded data removed]",
      "text/plain": [
       "<Figure size 432x288 with 1 Axes>"
      ]
     },
     "metadata": {},
     "output_type": "display_data"
    }
   ],
   "source": [
    "sns.kdeplot(x='Age', data = train[train['CryoSleep'] == True], label='CryoSleep')\n",
    "sns.kdeplot(x='Age', data = train[train['CryoSleep'] == False], label='No CryoSleep')\n",
    "plt.title('Distribution of Ages by CryoSleep')\n",
    "plt.legend()"
   ]
  },
  {
   "cell_type": "markdown",
   "id": "48cc04a4",
   "metadata": {},
   "source": [
    "### Additional Costs"
   ]
  },
  {
   "cell_type": "code",
   "execution_count": 37,
   "id": "5ea0d1b1",
   "metadata": {},
   "outputs": [
    {
     "data": {
      "text/plain": [
       "Text(0.5, 1.0, 'heatmap of expenses and transported for non-cryosleeping passengers')"
      ]
     },
     "execution_count": 37,
     "metadata": {},
     "output_type": "execute_result"
    },
    {
     "data": {
      "image/png": "[encoded data removed]",
      "text/plain": [
       "<Figure size 432x288 with 2 Axes>"
      ]
     },
     "metadata": {},
     "output_type": "display_data"
    }
   ],
   "source": [
    "# remove cryolseeping passengers \n",
    "\n",
    "no_cryosleep = train[train['CryoSleep']==False] \n",
    "sns.heatmap(no_cryosleep[numerical_features + ['Transported']].corr(), annot=True, fmt='.2f', cmap='coolwarm')\n",
    "plt.title('heatmap of expenses and transported for non-cryosleeping passengers')"
   ]
  },
  {
   "cell_type": "code",
   "execution_count": 38,
   "id": "c4227b10",
   "metadata": {},
   "outputs": [],
   "source": [
    "purchases_encoded = no_cryosleep[numerical_features].applymap(lambda x: 1 if x > 0 else 0).drop('Age', axis=1)\n",
    "summed_costs = no_cryosleep[numerical_features].drop('Age', axis=1).sum(axis=1)"
   ]
  },
  {
   "cell_type": "markdown",
   "id": "448c02a7",
   "metadata": {},
   "source": [
    "#### Note:\n",
    "Given that there is a weak correlation between where money was spent and when tranportation happened, it makes me wonder if the event has something to do with proximity. This would be difficult to text, but looking into the cabins a bit more may help reveal a stronger correlation for this."
   ]
  },
  {
   "cell_type": "code",
   "execution_count": 39,
   "id": "94708000",
   "metadata": {},
   "outputs": [],
   "source": [
    "was_transported = train[train['Transported'] == True]\n",
    "not_transported = train[train['Transported'] == False]"
   ]
  },
  {
   "cell_type": "code",
   "execution_count": 40,
   "id": "cace43ca",
   "metadata": {},
   "outputs": [
    {
     "data": {
      "text/html": [
       "<div>\n",
       "<style scoped>\n",
       "    .dataframe tbody tr th:only-of-type {\n",
       "        vertical-align: middle;\n",
       "    }\n",
       "\n",
       "    .dataframe tbody tr th {\n",
       "        vertical-align: top;\n",
       "    }\n",
       "\n",
       "    .dataframe thead th {\n",
       "        text-align: right;\n",
       "    }\n",
       "</style>\n",
       "<table border=\"1\" class=\"dataframe\">\n",
       "  <thead>\n",
       "    <tr style=\"text-align: right;\">\n",
       "      <th></th>\n",
       "      <th>CryoSleep</th>\n",
       "      <th>Age</th>\n",
       "      <th>VIP</th>\n",
       "      <th>RoomService</th>\n",
       "      <th>FoodCourt</th>\n",
       "      <th>ShoppingMall</th>\n",
       "      <th>Spa</th>\n",
       "      <th>VRDeck</th>\n",
       "      <th>Transported</th>\n",
       "    </tr>\n",
       "  </thead>\n",
       "  <tbody>\n",
       "    <tr>\n",
       "      <th>CryoSleep</th>\n",
       "      <td>NaN</td>\n",
       "      <td>NaN</td>\n",
       "      <td>NaN</td>\n",
       "      <td>NaN</td>\n",
       "      <td>NaN</td>\n",
       "      <td>NaN</td>\n",
       "      <td>NaN</td>\n",
       "      <td>NaN</td>\n",
       "      <td>NaN</td>\n",
       "    </tr>\n",
       "    <tr>\n",
       "      <th>Age</th>\n",
       "      <td>NaN</td>\n",
       "      <td>1.000000</td>\n",
       "      <td>0.098292</td>\n",
       "      <td>0.094529</td>\n",
       "      <td>0.210928</td>\n",
       "      <td>0.057860</td>\n",
       "      <td>0.174122</td>\n",
       "      <td>0.160167</td>\n",
       "      <td>NaN</td>\n",
       "    </tr>\n",
       "    <tr>\n",
       "      <th>VIP</th>\n",
       "      <td>NaN</td>\n",
       "      <td>0.098292</td>\n",
       "      <td>1.000000</td>\n",
       "      <td>-0.025896</td>\n",
       "      <td>0.175572</td>\n",
       "      <td>-0.016392</td>\n",
       "      <td>0.140179</td>\n",
       "      <td>0.087263</td>\n",
       "      <td>NaN</td>\n",
       "    </tr>\n",
       "    <tr>\n",
       "      <th>RoomService</th>\n",
       "      <td>NaN</td>\n",
       "      <td>0.094529</td>\n",
       "      <td>-0.025896</td>\n",
       "      <td>1.000000</td>\n",
       "      <td>-0.038105</td>\n",
       "      <td>0.022296</td>\n",
       "      <td>-0.005652</td>\n",
       "      <td>-0.045482</td>\n",
       "      <td>NaN</td>\n",
       "    </tr>\n",
       "    <tr>\n",
       "      <th>FoodCourt</th>\n",
       "      <td>NaN</td>\n",
       "      <td>0.210928</td>\n",
       "      <td>0.175572</td>\n",
       "      <td>-0.038105</td>\n",
       "      <td>1.000000</td>\n",
       "      <td>-0.099072</td>\n",
       "      <td>0.233321</td>\n",
       "      <td>0.324332</td>\n",
       "      <td>NaN</td>\n",
       "    </tr>\n",
       "    <tr>\n",
       "      <th>ShoppingMall</th>\n",
       "      <td>NaN</td>\n",
       "      <td>0.057860</td>\n",
       "      <td>-0.016392</td>\n",
       "      <td>0.022296</td>\n",
       "      <td>-0.099072</td>\n",
       "      <td>1.000000</td>\n",
       "      <td>-0.015011</td>\n",
       "      <td>-0.053168</td>\n",
       "      <td>NaN</td>\n",
       "    </tr>\n",
       "    <tr>\n",
       "      <th>Spa</th>\n",
       "      <td>NaN</td>\n",
       "      <td>0.174122</td>\n",
       "      <td>0.140179</td>\n",
       "      <td>-0.005652</td>\n",
       "      <td>0.233321</td>\n",
       "      <td>-0.015011</td>\n",
       "      <td>1.000000</td>\n",
       "      <td>0.118193</td>\n",
       "      <td>NaN</td>\n",
       "    </tr>\n",
       "    <tr>\n",
       "      <th>VRDeck</th>\n",
       "      <td>NaN</td>\n",
       "      <td>0.160167</td>\n",
       "      <td>0.087263</td>\n",
       "      <td>-0.045482</td>\n",
       "      <td>0.324332</td>\n",
       "      <td>-0.053168</td>\n",
       "      <td>0.118193</td>\n",
       "      <td>1.000000</td>\n",
       "      <td>NaN</td>\n",
       "    </tr>\n",
       "    <tr>\n",
       "      <th>Transported</th>\n",
       "      <td>NaN</td>\n",
       "      <td>NaN</td>\n",
       "      <td>NaN</td>\n",
       "      <td>NaN</td>\n",
       "      <td>NaN</td>\n",
       "      <td>NaN</td>\n",
       "      <td>NaN</td>\n",
       "      <td>NaN</td>\n",
       "      <td>NaN</td>\n",
       "    </tr>\n",
       "  </tbody>\n",
       "</table>\n",
       "</div>"
      ],
      "text/plain": [
       "              CryoSleep       Age       VIP  RoomService  FoodCourt  \\\n",
       "CryoSleep           NaN       NaN       NaN          NaN        NaN   \n",
       "Age                 NaN  1.000000  0.098292     0.094529   0.210928   \n",
       "VIP                 NaN  0.098292  1.000000    -0.025896   0.175572   \n",
       "RoomService         NaN  0.094529 -0.025896     1.000000  -0.038105   \n",
       "FoodCourt           NaN  0.210928  0.175572    -0.038105   1.000000   \n",
       "ShoppingMall        NaN  0.057860 -0.016392     0.022296  -0.099072   \n",
       "Spa                 NaN  0.174122  0.140179    -0.005652   0.233321   \n",
       "VRDeck              NaN  0.160167  0.087263    -0.045482   0.324332   \n",
       "Transported         NaN       NaN       NaN          NaN        NaN   \n",
       "\n",
       "              ShoppingMall       Spa    VRDeck  Transported  \n",
       "CryoSleep              NaN       NaN       NaN          NaN  \n",
       "Age               0.057860  0.174122  0.160167          NaN  \n",
       "VIP              -0.016392  0.140179  0.087263          NaN  \n",
       "RoomService       0.022296 -0.005652 -0.045482          NaN  \n",
       "FoodCourt        -0.099072  0.233321  0.324332          NaN  \n",
       "ShoppingMall      1.000000 -0.015011 -0.053168          NaN  \n",
       "Spa              -0.015011  1.000000  0.118193          NaN  \n",
       "VRDeck           -0.053168  0.118193  1.000000          NaN  \n",
       "Transported            NaN       NaN       NaN          NaN  "
      ]
     },
     "execution_count": 40,
     "metadata": {},
     "output_type": "execute_result"
    }
   ],
   "source": [
    "was_transported[was_transported['CryoSleep'] == False].corr()"
   ]
  },
  {
   "cell_type": "code",
   "execution_count": 41,
   "id": "1de3e090",
   "metadata": {},
   "outputs": [
    {
     "data": {
      "text/html": [
       "<div>\n",
       "<style scoped>\n",
       "    .dataframe tbody tr th:only-of-type {\n",
       "        vertical-align: middle;\n",
       "    }\n",
       "\n",
       "    .dataframe tbody tr th {\n",
       "        vertical-align: top;\n",
       "    }\n",
       "\n",
       "    .dataframe thead th {\n",
       "        text-align: right;\n",
       "    }\n",
       "</style>\n",
       "<table border=\"1\" class=\"dataframe\">\n",
       "  <thead>\n",
       "    <tr style=\"text-align: right;\">\n",
       "      <th></th>\n",
       "      <th>PassengerId</th>\n",
       "      <th>HomePlanet</th>\n",
       "      <th>CryoSleep</th>\n",
       "      <th>Cabin</th>\n",
       "      <th>Destination</th>\n",
       "      <th>Age</th>\n",
       "      <th>VIP</th>\n",
       "      <th>RoomService</th>\n",
       "      <th>FoodCourt</th>\n",
       "      <th>ShoppingMall</th>\n",
       "      <th>Spa</th>\n",
       "      <th>VRDeck</th>\n",
       "      <th>Name</th>\n",
       "      <th>Transported</th>\n",
       "    </tr>\n",
       "  </thead>\n",
       "  <tbody>\n",
       "    <tr>\n",
       "      <th>0</th>\n",
       "      <td>0001_01</td>\n",
       "      <td>Europa</td>\n",
       "      <td>False</td>\n",
       "      <td>B/0/P</td>\n",
       "      <td>TRAPPIST-1e</td>\n",
       "      <td>39.0</td>\n",
       "      <td>False</td>\n",
       "      <td>0.0</td>\n",
       "      <td>0.0</td>\n",
       "      <td>0.0</td>\n",
       "      <td>0.0</td>\n",
       "      <td>0.0</td>\n",
       "      <td>Maham Ofracculy</td>\n",
       "      <td>False</td>\n",
       "    </tr>\n",
       "    <tr>\n",
       "      <th>2</th>\n",
       "      <td>0003_01</td>\n",
       "      <td>Europa</td>\n",
       "      <td>False</td>\n",
       "      <td>A/0/S</td>\n",
       "      <td>TRAPPIST-1e</td>\n",
       "      <td>58.0</td>\n",
       "      <td>True</td>\n",
       "      <td>43.0</td>\n",
       "      <td>3576.0</td>\n",
       "      <td>0.0</td>\n",
       "      <td>6715.0</td>\n",
       "      <td>49.0</td>\n",
       "      <td>Altark Susent</td>\n",
       "      <td>False</td>\n",
       "    </tr>\n",
       "    <tr>\n",
       "      <th>3</th>\n",
       "      <td>0003_02</td>\n",
       "      <td>Europa</td>\n",
       "      <td>False</td>\n",
       "      <td>A/0/S</td>\n",
       "      <td>TRAPPIST-1e</td>\n",
       "      <td>33.0</td>\n",
       "      <td>False</td>\n",
       "      <td>0.0</td>\n",
       "      <td>1283.0</td>\n",
       "      <td>371.0</td>\n",
       "      <td>3329.0</td>\n",
       "      <td>193.0</td>\n",
       "      <td>Solam Susent</td>\n",
       "      <td>False</td>\n",
       "    </tr>\n",
       "    <tr>\n",
       "      <th>13</th>\n",
       "      <td>0010_01</td>\n",
       "      <td>Earth</td>\n",
       "      <td>False</td>\n",
       "      <td>G/1/S</td>\n",
       "      <td>TRAPPIST-1e</td>\n",
       "      <td>48.0</td>\n",
       "      <td>False</td>\n",
       "      <td>719.0</td>\n",
       "      <td>1.0</td>\n",
       "      <td>65.0</td>\n",
       "      <td>0.0</td>\n",
       "      <td>24.0</td>\n",
       "      <td>Reney Baketton</td>\n",
       "      <td>False</td>\n",
       "    </tr>\n",
       "    <tr>\n",
       "      <th>15</th>\n",
       "      <td>0012_01</td>\n",
       "      <td>Earth</td>\n",
       "      <td>False</td>\n",
       "      <td>F/2/P</td>\n",
       "      <td>TRAPPIST-1e</td>\n",
       "      <td>31.0</td>\n",
       "      <td>False</td>\n",
       "      <td>32.0</td>\n",
       "      <td>0.0</td>\n",
       "      <td>876.0</td>\n",
       "      <td>0.0</td>\n",
       "      <td>0.0</td>\n",
       "      <td>Justie Pooles</td>\n",
       "      <td>False</td>\n",
       "    </tr>\n",
       "    <tr>\n",
       "      <th>...</th>\n",
       "      <td>...</td>\n",
       "      <td>...</td>\n",
       "      <td>...</td>\n",
       "      <td>...</td>\n",
       "      <td>...</td>\n",
       "      <td>...</td>\n",
       "      <td>...</td>\n",
       "      <td>...</td>\n",
       "      <td>...</td>\n",
       "      <td>...</td>\n",
       "      <td>...</td>\n",
       "      <td>...</td>\n",
       "      <td>...</td>\n",
       "      <td>...</td>\n",
       "    </tr>\n",
       "    <tr>\n",
       "      <th>8674</th>\n",
       "      <td>9257_01</td>\n",
       "      <td>Earth</td>\n",
       "      <td>False</td>\n",
       "      <td>F/1892/P</td>\n",
       "      <td>TRAPPIST-1e</td>\n",
       "      <td>13.0</td>\n",
       "      <td>False</td>\n",
       "      <td>39.0</td>\n",
       "      <td>0.0</td>\n",
       "      <td>1085.0</td>\n",
       "      <td>24.0</td>\n",
       "      <td>0.0</td>\n",
       "      <td>Ties Apple</td>\n",
       "      <td>False</td>\n",
       "    </tr>\n",
       "    <tr>\n",
       "      <th>8683</th>\n",
       "      <td>9272_02</td>\n",
       "      <td>Earth</td>\n",
       "      <td>False</td>\n",
       "      <td>F/1894/P</td>\n",
       "      <td>TRAPPIST-1e</td>\n",
       "      <td>21.0</td>\n",
       "      <td>False</td>\n",
       "      <td>86.0</td>\n",
       "      <td>3.0</td>\n",
       "      <td>149.0</td>\n",
       "      <td>208.0</td>\n",
       "      <td>329.0</td>\n",
       "      <td>Gordo Simson</td>\n",
       "      <td>False</td>\n",
       "    </tr>\n",
       "    <tr>\n",
       "      <th>8686</th>\n",
       "      <td>9275_02</td>\n",
       "      <td>Europa</td>\n",
       "      <td>False</td>\n",
       "      <td>A/97/P</td>\n",
       "      <td>TRAPPIST-1e</td>\n",
       "      <td>32.0</td>\n",
       "      <td>False</td>\n",
       "      <td>1.0</td>\n",
       "      <td>1146.0</td>\n",
       "      <td>0.0</td>\n",
       "      <td>50.0</td>\n",
       "      <td>34.0</td>\n",
       "      <td>Diram Conable</td>\n",
       "      <td>False</td>\n",
       "    </tr>\n",
       "    <tr>\n",
       "      <th>8688</th>\n",
       "      <td>9276_01</td>\n",
       "      <td>Europa</td>\n",
       "      <td>False</td>\n",
       "      <td>A/98/P</td>\n",
       "      <td>55 Cancri e</td>\n",
       "      <td>41.0</td>\n",
       "      <td>True</td>\n",
       "      <td>0.0</td>\n",
       "      <td>6819.0</td>\n",
       "      <td>0.0</td>\n",
       "      <td>1643.0</td>\n",
       "      <td>74.0</td>\n",
       "      <td>Gravior Noxnuther</td>\n",
       "      <td>False</td>\n",
       "    </tr>\n",
       "    <tr>\n",
       "      <th>8691</th>\n",
       "      <td>9280_01</td>\n",
       "      <td>Europa</td>\n",
       "      <td>False</td>\n",
       "      <td>E/608/S</td>\n",
       "      <td>55 Cancri e</td>\n",
       "      <td>32.0</td>\n",
       "      <td>False</td>\n",
       "      <td>0.0</td>\n",
       "      <td>1049.0</td>\n",
       "      <td>0.0</td>\n",
       "      <td>353.0</td>\n",
       "      <td>3235.0</td>\n",
       "      <td>Celeon Hontichre</td>\n",
       "      <td>False</td>\n",
       "    </tr>\n",
       "  </tbody>\n",
       "</table>\n",
       "<p>3721 rows × 14 columns</p>\n",
       "</div>"
      ],
      "text/plain": [
       "     PassengerId HomePlanet  CryoSleep     Cabin  Destination   Age    VIP  \\\n",
       "0        0001_01     Europa      False     B/0/P  TRAPPIST-1e  39.0  False   \n",
       "2        0003_01     Europa      False     A/0/S  TRAPPIST-1e  58.0   True   \n",
       "3        0003_02     Europa      False     A/0/S  TRAPPIST-1e  33.0  False   \n",
       "13       0010_01      Earth      False     G/1/S  TRAPPIST-1e  48.0  False   \n",
       "15       0012_01      Earth      False     F/2/P  TRAPPIST-1e  31.0  False   \n",
       "...          ...        ...        ...       ...          ...   ...    ...   \n",
       "8674     9257_01      Earth      False  F/1892/P  TRAPPIST-1e  13.0  False   \n",
       "8683     9272_02      Earth      False  F/1894/P  TRAPPIST-1e  21.0  False   \n",
       "8686     9275_02     Europa      False    A/97/P  TRAPPIST-1e  32.0  False   \n",
       "8688     9276_01     Europa      False    A/98/P  55 Cancri e  41.0   True   \n",
       "8691     9280_01     Europa      False   E/608/S  55 Cancri e  32.0  False   \n",
       "\n",
       "      RoomService  FoodCourt  ShoppingMall     Spa  VRDeck               Name  \\\n",
       "0             0.0        0.0           0.0     0.0     0.0    Maham Ofracculy   \n",
       "2            43.0     3576.0           0.0  6715.0    49.0      Altark Susent   \n",
       "3             0.0     1283.0         371.0  3329.0   193.0       Solam Susent   \n",
       "13          719.0        1.0          65.0     0.0    24.0     Reney Baketton   \n",
       "15           32.0        0.0         876.0     0.0     0.0      Justie Pooles   \n",
       "...           ...        ...           ...     ...     ...                ...   \n",
       "8674         39.0        0.0        1085.0    24.0     0.0         Ties Apple   \n",
       "8683         86.0        3.0         149.0   208.0   329.0       Gordo Simson   \n",
       "8686          1.0     1146.0           0.0    50.0    34.0      Diram Conable   \n",
       "8688          0.0     6819.0           0.0  1643.0    74.0  Gravior Noxnuther   \n",
       "8691          0.0     1049.0           0.0   353.0  3235.0   Celeon Hontichre   \n",
       "\n",
       "      Transported  \n",
       "0           False  \n",
       "2           False  \n",
       "3           False  \n",
       "13          False  \n",
       "15          False  \n",
       "...           ...  \n",
       "8674        False  \n",
       "8683        False  \n",
       "8686        False  \n",
       "8688        False  \n",
       "8691        False  \n",
       "\n",
       "[3721 rows x 14 columns]"
      ]
     },
     "execution_count": 41,
     "metadata": {},
     "output_type": "execute_result"
    }
   ],
   "source": [
    "not_transported[not_transported['CryoSleep'] == False]"
   ]
  },
  {
   "cell_type": "markdown",
   "id": "02c73682",
   "metadata": {},
   "source": [
    "What is known is that there are a larger number of passengers that were transported during cryosleep. Assuming that the event is localized to a certain location, and noting that the cryosleep passengers are confided to their cabins, it is worth looking into the locations of the cabins before moving onto the passenger ID's to see if there are any identifiable patterns of interest."
   ]
  },
  {
   "cell_type": "markdown",
   "id": "c73aec2d",
   "metadata": {},
   "source": [
    "# 5. Feature Engineering\n",
    "1. From Cabin, can isolate 3 additional features: Cabin Deck, Cabin Number, and Cabin Side. \n",
    "2. From Passenger ID, can determine if passenger is alone or not."
   ]
  },
  {
   "cell_type": "markdown",
   "id": "8726aff6",
   "metadata": {},
   "source": [
    "### Cabins"
   ]
  },
  {
   "cell_type": "code",
   "execution_count": 42,
   "id": "7db08c9e",
   "metadata": {},
   "outputs": [],
   "source": [
    "train['CabinList'] = train['Cabin'].apply(lambda x: x.split('/'))\n",
    "train = pd.concat([train, pd.DataFrame(train['CabinList'].to_list(), columns=['CabinDeck', 'CabinNum', 'CabinSide'])], axis=1)\n",
    "train = train.drop(['Cabin', 'CabinList'], axis=1)"
   ]
  },
  {
   "cell_type": "code",
   "execution_count": 43,
   "id": "8d2c9ddf",
   "metadata": {},
   "outputs": [
    {
     "data": {
      "text/html": [
       "<div>\n",
       "<style scoped>\n",
       "    .dataframe tbody tr th:only-of-type {\n",
       "        vertical-align: middle;\n",
       "    }\n",
       "\n",
       "    .dataframe tbody tr th {\n",
       "        vertical-align: top;\n",
       "    }\n",
       "\n",
       "    .dataframe thead th {\n",
       "        text-align: right;\n",
       "    }\n",
       "</style>\n",
       "<table border=\"1\" class=\"dataframe\">\n",
       "  <thead>\n",
       "    <tr style=\"text-align: right;\">\n",
       "      <th></th>\n",
       "      <th>Transported</th>\n",
       "    </tr>\n",
       "    <tr>\n",
       "      <th>CabinSide</th>\n",
       "      <th></th>\n",
       "    </tr>\n",
       "  </thead>\n",
       "  <tbody>\n",
       "    <tr>\n",
       "      <th>P</th>\n",
       "      <td>0.451703</td>\n",
       "    </tr>\n",
       "    <tr>\n",
       "      <th>S</th>\n",
       "      <td>0.554845</td>\n",
       "    </tr>\n",
       "  </tbody>\n",
       "</table>\n",
       "</div>"
      ],
      "text/plain": [
       "           Transported\n",
       "CabinSide             \n",
       "P             0.451703\n",
       "S             0.554845"
      ]
     },
     "execution_count": 43,
     "metadata": {},
     "output_type": "execute_result"
    }
   ],
   "source": [
    "train[['CabinSide', 'Transported']].groupby('CabinSide').mean()"
   ]
  },
  {
   "cell_type": "code",
   "execution_count": 44,
   "id": "499c8362",
   "metadata": {
    "scrolled": true
   },
   "outputs": [
    {
     "data": {
      "text/html": [
       "<div>\n",
       "<style scoped>\n",
       "    .dataframe tbody tr th:only-of-type {\n",
       "        vertical-align: middle;\n",
       "    }\n",
       "\n",
       "    .dataframe tbody tr th {\n",
       "        vertical-align: top;\n",
       "    }\n",
       "\n",
       "    .dataframe thead th {\n",
       "        text-align: right;\n",
       "    }\n",
       "</style>\n",
       "<table border=\"1\" class=\"dataframe\">\n",
       "  <thead>\n",
       "    <tr style=\"text-align: right;\">\n",
       "      <th></th>\n",
       "      <th>Transported</th>\n",
       "    </tr>\n",
       "    <tr>\n",
       "      <th>CabinDeck</th>\n",
       "      <th></th>\n",
       "    </tr>\n",
       "  </thead>\n",
       "  <tbody>\n",
       "    <tr>\n",
       "      <th>A</th>\n",
       "      <td>0.500000</td>\n",
       "    </tr>\n",
       "    <tr>\n",
       "      <th>B</th>\n",
       "      <td>0.729763</td>\n",
       "    </tr>\n",
       "    <tr>\n",
       "      <th>C</th>\n",
       "      <td>0.676702</td>\n",
       "    </tr>\n",
       "    <tr>\n",
       "      <th>D</th>\n",
       "      <td>0.432990</td>\n",
       "    </tr>\n",
       "    <tr>\n",
       "      <th>E</th>\n",
       "      <td>0.361204</td>\n",
       "    </tr>\n",
       "    <tr>\n",
       "      <th>F</th>\n",
       "      <td>0.439059</td>\n",
       "    </tr>\n",
       "    <tr>\n",
       "      <th>G</th>\n",
       "      <td>0.516756</td>\n",
       "    </tr>\n",
       "    <tr>\n",
       "      <th>T</th>\n",
       "      <td>0.200000</td>\n",
       "    </tr>\n",
       "  </tbody>\n",
       "</table>\n",
       "</div>"
      ],
      "text/plain": [
       "           Transported\n",
       "CabinDeck             \n",
       "A             0.500000\n",
       "B             0.729763\n",
       "C             0.676702\n",
       "D             0.432990\n",
       "E             0.361204\n",
       "F             0.439059\n",
       "G             0.516756\n",
       "T             0.200000"
      ]
     },
     "execution_count": 44,
     "metadata": {},
     "output_type": "execute_result"
    }
   ],
   "source": [
    "train[['CabinDeck', 'Transported']].groupby('CabinDeck').mean()"
   ]
  },
  {
   "cell_type": "code",
   "execution_count": 45,
   "id": "ced7e252",
   "metadata": {
    "scrolled": false
   },
   "outputs": [
    {
     "name": "stdout",
     "output_type": "stream",
     "text": [
      "CabinNum    1817\n",
      "dtype: int64\n",
      "CabinNum\n",
      "82          28\n",
      "19          24\n",
      "86          22\n",
      "176         21\n",
      "97          21\n",
      "            ..\n",
      "1670         1\n",
      "1671         1\n",
      "1672         1\n",
      "1673         1\n",
      "1894         1\n",
      "Length: 1817, dtype: int64\n"
     ]
    }
   ],
   "source": [
    "train['CabinNum'] = train['CabinNum'].astype('int')\n",
    "print(train[['CabinNum']].nunique())\n",
    "print(train[['CabinNum']].value_counts())"
   ]
  },
  {
   "cell_type": "code",
   "execution_count": 46,
   "id": "ac249142",
   "metadata": {},
   "outputs": [
    {
     "data": {
      "image/png": "[encoded data removed]",
      "text/plain": [
       "<Figure size 432x288 with 1 Axes>"
      ]
     },
     "metadata": {},
     "output_type": "display_data"
    }
   ],
   "source": [
    "sns.kdeplot(x='CabinNum', data=train[train['Transported'] == True], label='True', c='red')\n",
    "sns.kdeplot(x='CabinNum', data=train[train['Transported'] == False], label='False', c='blue')\n",
    "plt.legend(title='Transported')\n",
    "plt.show()"
   ]
  },
  {
   "cell_type": "code",
   "execution_count": 47,
   "id": "d79a7462",
   "metadata": {},
   "outputs": [
    {
     "data": {
      "text/plain": [
       "F    2847\n",
       "G    2626\n",
       "E     897\n",
       "B     803\n",
       "C     764\n",
       "D     485\n",
       "A     266\n",
       "T       5\n",
       "Name: CabinDeck, dtype: int64"
      ]
     },
     "execution_count": 47,
     "metadata": {},
     "output_type": "execute_result"
    }
   ],
   "source": [
    "train['CabinDeck'].value_counts()"
   ]
  },
  {
   "cell_type": "code",
   "execution_count": 48,
   "id": "dfb0a570",
   "metadata": {
    "scrolled": true
   },
   "outputs": [
    {
     "data": {
      "text/plain": [
       "S    439\n",
       "P    364\n",
       "Name: CabinSide, dtype: int64"
      ]
     },
     "execution_count": 48,
     "metadata": {},
     "output_type": "execute_result"
    }
   ],
   "source": [
    "train[train['CabinDeck'] == 'B']['CabinSide'].value_counts()"
   ]
  },
  {
   "cell_type": "markdown",
   "id": "f19669a3",
   "metadata": {},
   "source": [
    "### PassengerID"
   ]
  },
  {
   "cell_type": "code",
   "execution_count": 49,
   "id": "013669ba",
   "metadata": {},
   "outputs": [
    {
     "data": {
      "text/html": [
       "<div>\n",
       "<style scoped>\n",
       "    .dataframe tbody tr th:only-of-type {\n",
       "        vertical-align: middle;\n",
       "    }\n",
       "\n",
       "    .dataframe tbody tr th {\n",
       "        vertical-align: top;\n",
       "    }\n",
       "\n",
       "    .dataframe thead th {\n",
       "        text-align: right;\n",
       "    }\n",
       "</style>\n",
       "<table border=\"1\" class=\"dataframe\">\n",
       "  <thead>\n",
       "    <tr style=\"text-align: right;\">\n",
       "      <th></th>\n",
       "      <th>PassengerId</th>\n",
       "      <th>HomePlanet</th>\n",
       "      <th>CryoSleep</th>\n",
       "      <th>Destination</th>\n",
       "      <th>Age</th>\n",
       "      <th>VIP</th>\n",
       "      <th>RoomService</th>\n",
       "      <th>FoodCourt</th>\n",
       "      <th>ShoppingMall</th>\n",
       "      <th>Spa</th>\n",
       "      <th>VRDeck</th>\n",
       "      <th>Name</th>\n",
       "      <th>Transported</th>\n",
       "      <th>CabinDeck</th>\n",
       "      <th>CabinNum</th>\n",
       "      <th>CabinSide</th>\n",
       "      <th>PassengerGrp</th>\n",
       "      <th>PassengerGrpId</th>\n",
       "    </tr>\n",
       "  </thead>\n",
       "  <tbody>\n",
       "    <tr>\n",
       "      <th>0</th>\n",
       "      <td>0001_01</td>\n",
       "      <td>Europa</td>\n",
       "      <td>False</td>\n",
       "      <td>TRAPPIST-1e</td>\n",
       "      <td>39.0</td>\n",
       "      <td>False</td>\n",
       "      <td>0.0</td>\n",
       "      <td>0.0</td>\n",
       "      <td>0.0</td>\n",
       "      <td>0.0</td>\n",
       "      <td>0.0</td>\n",
       "      <td>Maham Ofracculy</td>\n",
       "      <td>False</td>\n",
       "      <td>B</td>\n",
       "      <td>0</td>\n",
       "      <td>P</td>\n",
       "      <td>0001</td>\n",
       "      <td>01</td>\n",
       "    </tr>\n",
       "    <tr>\n",
       "      <th>1</th>\n",
       "      <td>0002_01</td>\n",
       "      <td>Earth</td>\n",
       "      <td>False</td>\n",
       "      <td>TRAPPIST-1e</td>\n",
       "      <td>24.0</td>\n",
       "      <td>False</td>\n",
       "      <td>109.0</td>\n",
       "      <td>9.0</td>\n",
       "      <td>25.0</td>\n",
       "      <td>549.0</td>\n",
       "      <td>44.0</td>\n",
       "      <td>Juanna Vines</td>\n",
       "      <td>True</td>\n",
       "      <td>F</td>\n",
       "      <td>0</td>\n",
       "      <td>S</td>\n",
       "      <td>0002</td>\n",
       "      <td>01</td>\n",
       "    </tr>\n",
       "    <tr>\n",
       "      <th>2</th>\n",
       "      <td>0003_01</td>\n",
       "      <td>Europa</td>\n",
       "      <td>False</td>\n",
       "      <td>TRAPPIST-1e</td>\n",
       "      <td>58.0</td>\n",
       "      <td>True</td>\n",
       "      <td>43.0</td>\n",
       "      <td>3576.0</td>\n",
       "      <td>0.0</td>\n",
       "      <td>6715.0</td>\n",
       "      <td>49.0</td>\n",
       "      <td>Altark Susent</td>\n",
       "      <td>False</td>\n",
       "      <td>A</td>\n",
       "      <td>0</td>\n",
       "      <td>S</td>\n",
       "      <td>0003</td>\n",
       "      <td>01</td>\n",
       "    </tr>\n",
       "    <tr>\n",
       "      <th>3</th>\n",
       "      <td>0003_02</td>\n",
       "      <td>Europa</td>\n",
       "      <td>False</td>\n",
       "      <td>TRAPPIST-1e</td>\n",
       "      <td>33.0</td>\n",
       "      <td>False</td>\n",
       "      <td>0.0</td>\n",
       "      <td>1283.0</td>\n",
       "      <td>371.0</td>\n",
       "      <td>3329.0</td>\n",
       "      <td>193.0</td>\n",
       "      <td>Solam Susent</td>\n",
       "      <td>False</td>\n",
       "      <td>A</td>\n",
       "      <td>0</td>\n",
       "      <td>S</td>\n",
       "      <td>0003</td>\n",
       "      <td>02</td>\n",
       "    </tr>\n",
       "    <tr>\n",
       "      <th>4</th>\n",
       "      <td>0004_01</td>\n",
       "      <td>Earth</td>\n",
       "      <td>False</td>\n",
       "      <td>TRAPPIST-1e</td>\n",
       "      <td>16.0</td>\n",
       "      <td>False</td>\n",
       "      <td>303.0</td>\n",
       "      <td>70.0</td>\n",
       "      <td>151.0</td>\n",
       "      <td>565.0</td>\n",
       "      <td>2.0</td>\n",
       "      <td>Willy Santantines</td>\n",
       "      <td>True</td>\n",
       "      <td>F</td>\n",
       "      <td>1</td>\n",
       "      <td>S</td>\n",
       "      <td>0004</td>\n",
       "      <td>01</td>\n",
       "    </tr>\n",
       "  </tbody>\n",
       "</table>\n",
       "</div>"
      ],
      "text/plain": [
       "  PassengerId HomePlanet  CryoSleep  Destination   Age    VIP  RoomService  \\\n",
       "0     0001_01     Europa      False  TRAPPIST-1e  39.0  False          0.0   \n",
       "1     0002_01      Earth      False  TRAPPIST-1e  24.0  False        109.0   \n",
       "2     0003_01     Europa      False  TRAPPIST-1e  58.0   True         43.0   \n",
       "3     0003_02     Europa      False  TRAPPIST-1e  33.0  False          0.0   \n",
       "4     0004_01      Earth      False  TRAPPIST-1e  16.0  False        303.0   \n",
       "\n",
       "   FoodCourt  ShoppingMall     Spa  VRDeck               Name  Transported  \\\n",
       "0        0.0           0.0     0.0     0.0    Maham Ofracculy        False   \n",
       "1        9.0          25.0   549.0    44.0       Juanna Vines         True   \n",
       "2     3576.0           0.0  6715.0    49.0      Altark Susent        False   \n",
       "3     1283.0         371.0  3329.0   193.0       Solam Susent        False   \n",
       "4       70.0         151.0   565.0     2.0  Willy Santantines         True   \n",
       "\n",
       "  CabinDeck  CabinNum CabinSide PassengerGrp PassengerGrpId  \n",
       "0         B         0         P         0001             01  \n",
       "1         F         0         S         0002             01  \n",
       "2         A         0         S         0003             01  \n",
       "3         A         0         S         0003             02  \n",
       "4         F         1         S         0004             01  "
      ]
     },
     "execution_count": 49,
     "metadata": {},
     "output_type": "execute_result"
    }
   ],
   "source": [
    "train['PassList'] = train['PassengerId'].apply(lambda x: x.split('_'))\n",
    "train = pd.concat([train, pd.DataFrame(train['PassList'].to_list(), columns=['PassengerGrp', 'PassengerGrpId'])], axis=1)\n",
    "train = train.drop(['PassList'], axis=1)\n",
    "train.head()"
   ]
  },
  {
   "cell_type": "code",
   "execution_count": 50,
   "id": "88daad04",
   "metadata": {
    "scrolled": false
   },
   "outputs": [
    {
     "name": "stderr",
     "output_type": "stream",
     "text": [
      "No handles with labels found to put in legend.\n"
     ]
    },
    {
     "data": {
      "text/plain": [
       "<matplotlib.legend.Legend at 0x7f92196e3eb0>"
      ]
     },
     "execution_count": 50,
     "metadata": {},
     "output_type": "execute_result"
    },
    {
     "data": {
      "image/png": "[encoded data removed]",
      "text/plain": [
       "<Figure size 1728x432 with 4 Axes>"
      ]
     },
     "metadata": {},
     "output_type": "display_data"
    }
   ],
   "source": [
    "grid = sns.FacetGrid(data=train, row='CryoSleep', col='CabinSide', aspect=4, height=3)\n",
    "grid.map(sns.barplot, 'CabinDeck', 'Transported', palette='coolwarm')\n",
    "plt.legend(title='Transported')"
   ]
  },
  {
   "cell_type": "code",
   "execution_count": 51,
   "id": "20921c95",
   "metadata": {
    "scrolled": true
   },
   "outputs": [
    {
     "data": {
      "text/plain": [
       "<AxesSubplot:xlabel='CabinDeck,CabinSide'>"
      ]
     },
     "execution_count": 51,
     "metadata": {},
     "output_type": "execute_result"
    },
    {
     "data": {
      "image/png": "[encoded data removed]",
      "text/plain": [
       "<Figure size 432x288 with 1 Axes>"
      ]
     },
     "metadata": {},
     "output_type": "display_data"
    }
   ],
   "source": [
    "train[train['CryoSleep'] == True][['CabinDeck', 'CabinSide', 'Transported']].groupby(['CabinDeck', 'CabinSide']).mean().sort_values(by='Transported', ascending=False).plot(kind='bar')"
   ]
  },
  {
   "cell_type": "code",
   "execution_count": 52,
   "id": "746564a7",
   "metadata": {},
   "outputs": [
    {
     "data": {
      "text/plain": [
       "<AxesSubplot:xlabel='CabinDeck,CabinSide'>"
      ]
     },
     "execution_count": 52,
     "metadata": {},
     "output_type": "execute_result"
    },
    {
     "data": {
      "image/png": "[encoded data removed]",
      "text/plain": [
       "<Figure size 432x288 with 1 Axes>"
      ]
     },
     "metadata": {},
     "output_type": "display_data"
    }
   ],
   "source": [
    "train[train['CryoSleep'] == False][['CabinDeck', 'CabinSide', 'Transported']].groupby(['CabinDeck', 'CabinSide']).mean().sort_values(by='Transported', ascending=False).plot(kind='bar')"
   ]
  },
  {
   "cell_type": "code",
   "execution_count": 53,
   "id": "4b731a48",
   "metadata": {},
   "outputs": [
    {
     "data": {
      "text/plain": [
       "01    6217\n",
       "02    1412\n",
       "03     571\n",
       "04     231\n",
       "05     128\n",
       "06      75\n",
       "07      46\n",
       "08      13\n",
       "Name: PassengerGrpId, dtype: int64"
      ]
     },
     "execution_count": 53,
     "metadata": {},
     "output_type": "execute_result"
    }
   ],
   "source": [
    "train['PassengerGrpId'].value_counts()"
   ]
  },
  {
   "cell_type": "code",
   "execution_count": 54,
   "id": "4da618d6",
   "metadata": {},
   "outputs": [
    {
     "data": {
      "text/html": [
       "<div>\n",
       "<style scoped>\n",
       "    .dataframe tbody tr th:only-of-type {\n",
       "        vertical-align: middle;\n",
       "    }\n",
       "\n",
       "    .dataframe tbody tr th {\n",
       "        vertical-align: top;\n",
       "    }\n",
       "\n",
       "    .dataframe thead th {\n",
       "        text-align: right;\n",
       "    }\n",
       "</style>\n",
       "<table border=\"1\" class=\"dataframe\">\n",
       "  <thead>\n",
       "    <tr style=\"text-align: right;\">\n",
       "      <th></th>\n",
       "      <th>PassengerGrpId</th>\n",
       "      <th>Transported</th>\n",
       "    </tr>\n",
       "  </thead>\n",
       "  <tbody>\n",
       "    <tr>\n",
       "      <th>0</th>\n",
       "      <td>01</td>\n",
       "      <td>0.475953</td>\n",
       "    </tr>\n",
       "    <tr>\n",
       "      <th>1</th>\n",
       "      <td>02</td>\n",
       "      <td>0.558782</td>\n",
       "    </tr>\n",
       "    <tr>\n",
       "      <th>2</th>\n",
       "      <td>03</td>\n",
       "      <td>0.618214</td>\n",
       "    </tr>\n",
       "    <tr>\n",
       "      <th>3</th>\n",
       "      <td>04</td>\n",
       "      <td>0.593074</td>\n",
       "    </tr>\n",
       "    <tr>\n",
       "      <th>4</th>\n",
       "      <td>05</td>\n",
       "      <td>0.546875</td>\n",
       "    </tr>\n",
       "    <tr>\n",
       "      <th>5</th>\n",
       "      <td>06</td>\n",
       "      <td>0.546667</td>\n",
       "    </tr>\n",
       "    <tr>\n",
       "      <th>6</th>\n",
       "      <td>07</td>\n",
       "      <td>0.500000</td>\n",
       "    </tr>\n",
       "    <tr>\n",
       "      <th>7</th>\n",
       "      <td>08</td>\n",
       "      <td>0.461538</td>\n",
       "    </tr>\n",
       "  </tbody>\n",
       "</table>\n",
       "</div>"
      ],
      "text/plain": [
       "  PassengerGrpId  Transported\n",
       "0             01     0.475953\n",
       "1             02     0.558782\n",
       "2             03     0.618214\n",
       "3             04     0.593074\n",
       "4             05     0.546875\n",
       "5             06     0.546667\n",
       "6             07     0.500000\n",
       "7             08     0.461538"
      ]
     },
     "execution_count": 54,
     "metadata": {},
     "output_type": "execute_result"
    }
   ],
   "source": [
    "train[['PassengerGrpId', 'Transported']].groupby('PassengerGrpId', as_index=False).mean()"
   ]
  },
  {
   "cell_type": "code",
   "execution_count": 55,
   "id": "4f8126e8",
   "metadata": {},
   "outputs": [
    {
     "data": {
      "text/html": [
       "<div>\n",
       "<style scoped>\n",
       "    .dataframe tbody tr th:only-of-type {\n",
       "        vertical-align: middle;\n",
       "    }\n",
       "\n",
       "    .dataframe tbody tr th {\n",
       "        vertical-align: top;\n",
       "    }\n",
       "\n",
       "    .dataframe thead th {\n",
       "        text-align: right;\n",
       "    }\n",
       "</style>\n",
       "<table border=\"1\" class=\"dataframe\">\n",
       "  <thead>\n",
       "    <tr style=\"text-align: right;\">\n",
       "      <th></th>\n",
       "      <th>PassengerGrpId</th>\n",
       "      <th>Transported</th>\n",
       "    </tr>\n",
       "  </thead>\n",
       "  <tbody>\n",
       "    <tr>\n",
       "      <th>0</th>\n",
       "      <td>01</td>\n",
       "      <td>6217</td>\n",
       "    </tr>\n",
       "    <tr>\n",
       "      <th>1</th>\n",
       "      <td>02</td>\n",
       "      <td>1412</td>\n",
       "    </tr>\n",
       "    <tr>\n",
       "      <th>2</th>\n",
       "      <td>03</td>\n",
       "      <td>571</td>\n",
       "    </tr>\n",
       "    <tr>\n",
       "      <th>3</th>\n",
       "      <td>04</td>\n",
       "      <td>231</td>\n",
       "    </tr>\n",
       "    <tr>\n",
       "      <th>4</th>\n",
       "      <td>05</td>\n",
       "      <td>128</td>\n",
       "    </tr>\n",
       "    <tr>\n",
       "      <th>5</th>\n",
       "      <td>06</td>\n",
       "      <td>75</td>\n",
       "    </tr>\n",
       "    <tr>\n",
       "      <th>6</th>\n",
       "      <td>07</td>\n",
       "      <td>46</td>\n",
       "    </tr>\n",
       "    <tr>\n",
       "      <th>7</th>\n",
       "      <td>08</td>\n",
       "      <td>13</td>\n",
       "    </tr>\n",
       "  </tbody>\n",
       "</table>\n",
       "</div>"
      ],
      "text/plain": [
       "  PassengerGrpId  Transported\n",
       "0             01         6217\n",
       "1             02         1412\n",
       "2             03          571\n",
       "3             04          231\n",
       "4             05          128\n",
       "5             06           75\n",
       "6             07           46\n",
       "7             08           13"
      ]
     },
     "execution_count": 55,
     "metadata": {},
     "output_type": "execute_result"
    }
   ],
   "source": [
    "train[['PassengerGrpId', 'Transported']].groupby('PassengerGrpId', as_index=False).count()"
   ]
  },
  {
   "cell_type": "code",
   "execution_count": 56,
   "id": "07f571d7",
   "metadata": {},
   "outputs": [],
   "source": [
    "train['TotalInvoice'] = train[['RoomService', 'FoodCourt', 'ShoppingMall', 'Spa', 'VRDeck']].sum(axis=1)"
   ]
  },
  {
   "cell_type": "code",
   "execution_count": 57,
   "id": "6659d54c",
   "metadata": {
    "scrolled": true
   },
   "outputs": [
    {
     "data": {
      "text/plain": [
       "<AxesSubplot:>"
      ]
     },
     "execution_count": 57,
     "metadata": {},
     "output_type": "execute_result"
    },
    {
     "data": {
      "image/png": "[encoded data removed]",
      "text/plain": [
       "<Figure size 432x288 with 2 Axes>"
      ]
     },
     "metadata": {},
     "output_type": "display_data"
    }
   ],
   "source": [
    "no_cryosleep = train[train['CryoSleep']==False] \n",
    "sns.heatmap(no_cryosleep[numerical_features + ['Transported', 'TotalInvoice']].corr(), annot=True, fmt='.2f', cmap='coolwarm')"
   ]
  },
  {
   "cell_type": "code",
   "execution_count": 58,
   "id": "a0b330d4",
   "metadata": {},
   "outputs": [],
   "source": [
    "is_alone = train[['PassengerGrp','PassengerGrpId']].groupby('PassengerGrp').count()[train[['PassengerGrp','PassengerGrpId']].groupby('PassengerGrp').count() == 1].dropna().index\n",
    "train['IsAlone'] = train['PassengerGrp'].apply(lambda x: 1 if x in is_alone else 0)"
   ]
  },
  {
   "cell_type": "code",
   "execution_count": 59,
   "id": "e4da4fe2",
   "metadata": {
    "scrolled": true
   },
   "outputs": [
    {
     "data": {
      "text/html": [
       "<div>\n",
       "<style scoped>\n",
       "    .dataframe tbody tr th:only-of-type {\n",
       "        vertical-align: middle;\n",
       "    }\n",
       "\n",
       "    .dataframe tbody tr th {\n",
       "        vertical-align: top;\n",
       "    }\n",
       "\n",
       "    .dataframe thead th {\n",
       "        text-align: right;\n",
       "    }\n",
       "</style>\n",
       "<table border=\"1\" class=\"dataframe\">\n",
       "  <thead>\n",
       "    <tr style=\"text-align: right;\">\n",
       "      <th></th>\n",
       "      <th>Transported</th>\n",
       "    </tr>\n",
       "    <tr>\n",
       "      <th>IsAlone</th>\n",
       "      <th></th>\n",
       "    </tr>\n",
       "  </thead>\n",
       "  <tbody>\n",
       "    <tr>\n",
       "      <th>0</th>\n",
       "      <td>0.566872</td>\n",
       "    </tr>\n",
       "    <tr>\n",
       "      <th>1</th>\n",
       "      <td>0.452445</td>\n",
       "    </tr>\n",
       "  </tbody>\n",
       "</table>\n",
       "</div>"
      ],
      "text/plain": [
       "         Transported\n",
       "IsAlone             \n",
       "0           0.566872\n",
       "1           0.452445"
      ]
     },
     "execution_count": 59,
     "metadata": {},
     "output_type": "execute_result"
    }
   ],
   "source": [
    "train[['IsAlone', 'Transported']].groupby('IsAlone').mean()"
   ]
  },
  {
   "cell_type": "code",
   "execution_count": 60,
   "id": "badbf439",
   "metadata": {},
   "outputs": [
    {
     "data": {
      "text/html": [
       "<div>\n",
       "<style scoped>\n",
       "    .dataframe tbody tr th:only-of-type {\n",
       "        vertical-align: middle;\n",
       "    }\n",
       "\n",
       "    .dataframe tbody tr th {\n",
       "        vertical-align: top;\n",
       "    }\n",
       "\n",
       "    .dataframe thead th {\n",
       "        text-align: right;\n",
       "    }\n",
       "</style>\n",
       "<table border=\"1\" class=\"dataframe\">\n",
       "  <thead>\n",
       "    <tr style=\"text-align: right;\">\n",
       "      <th></th>\n",
       "      <th>CryoSleep</th>\n",
       "    </tr>\n",
       "    <tr>\n",
       "      <th>IsAlone</th>\n",
       "      <th></th>\n",
       "    </tr>\n",
       "  </thead>\n",
       "  <tbody>\n",
       "    <tr>\n",
       "      <th>0</th>\n",
       "      <td>3888</td>\n",
       "    </tr>\n",
       "    <tr>\n",
       "      <th>1</th>\n",
       "      <td>4805</td>\n",
       "    </tr>\n",
       "  </tbody>\n",
       "</table>\n",
       "</div>"
      ],
      "text/plain": [
       "         CryoSleep\n",
       "IsAlone           \n",
       "0             3888\n",
       "1             4805"
      ]
     },
     "execution_count": 60,
     "metadata": {},
     "output_type": "execute_result"
    }
   ],
   "source": [
    "train[['IsAlone', 'CryoSleep']].groupby('IsAlone').count()"
   ]
  },
  {
   "cell_type": "code",
   "execution_count": 61,
   "id": "4981f7f8",
   "metadata": {},
   "outputs": [
    {
     "data": {
      "text/html": [
       "<div>\n",
       "<style scoped>\n",
       "    .dataframe tbody tr th:only-of-type {\n",
       "        vertical-align: middle;\n",
       "    }\n",
       "\n",
       "    .dataframe tbody tr th {\n",
       "        vertical-align: top;\n",
       "    }\n",
       "\n",
       "    .dataframe thead tr th {\n",
       "        text-align: left;\n",
       "    }\n",
       "\n",
       "    .dataframe thead tr:last-of-type th {\n",
       "        text-align: right;\n",
       "    }\n",
       "</style>\n",
       "<table border=\"1\" class=\"dataframe\">\n",
       "  <thead>\n",
       "    <tr>\n",
       "      <th>IsAlone</th>\n",
       "      <th colspan=\"2\" halign=\"left\">False</th>\n",
       "      <th colspan=\"2\" halign=\"left\">True</th>\n",
       "    </tr>\n",
       "    <tr>\n",
       "      <th>CryoSleep</th>\n",
       "      <th>False</th>\n",
       "      <th>True</th>\n",
       "      <th>False</th>\n",
       "      <th>True</th>\n",
       "    </tr>\n",
       "    <tr>\n",
       "      <th>Transported</th>\n",
       "      <th></th>\n",
       "      <th></th>\n",
       "      <th></th>\n",
       "      <th></th>\n",
       "    </tr>\n",
       "  </thead>\n",
       "  <tbody>\n",
       "    <tr>\n",
       "      <th>False</th>\n",
       "      <td>1434</td>\n",
       "      <td>250</td>\n",
       "      <td>2287</td>\n",
       "      <td>344</td>\n",
       "    </tr>\n",
       "    <tr>\n",
       "      <th>True</th>\n",
       "      <td>865</td>\n",
       "      <td>1339</td>\n",
       "      <td>996</td>\n",
       "      <td>1178</td>\n",
       "    </tr>\n",
       "  </tbody>\n",
       "</table>\n",
       "</div>"
      ],
      "text/plain": [
       "IsAlone     False        True      \n",
       "CryoSleep   False  True False  True\n",
       "Transported                        \n",
       "False        1434   250  2287   344\n",
       "True          865  1339   996  1178"
      ]
     },
     "execution_count": 61,
     "metadata": {},
     "output_type": "execute_result"
    }
   ],
   "source": [
    "pd.crosstab(train['Transported'], [train['IsAlone'].astype('bool'), train['CryoSleep']])"
   ]
  },
  {
   "cell_type": "markdown",
   "id": "8e4550ea",
   "metadata": {},
   "source": [
    "# 6. Data Preprocessing"
   ]
  },
  {
   "cell_type": "code",
   "execution_count": 62,
   "id": "e96233b1",
   "metadata": {},
   "outputs": [],
   "source": [
    "encoded_vars = pd.concat([pd.get_dummies(train[['HomePlanet', 'Destination', 'CabinDeck', 'CabinSide']]),\n",
    "                          train[['CryoSleep', 'VIP']].astype('int'),\n",
    "                          train['IsAlone']], axis=1)\n",
    "scaler = Normalizer()\n",
    "df_scaled = pd.DataFrame(scaler.fit_transform(train[['Age', 'RoomService', 'FoodCourt', 'ShoppingMall', 'CabinNum']]), columns = ['Age', 'RoomService', 'FoodCourt', 'ShoppingMall', 'CabinNum'])"
   ]
  },
  {
   "cell_type": "code",
   "execution_count": 63,
   "id": "84ed41d6",
   "metadata": {},
   "outputs": [
    {
     "data": {
      "text/html": [
       "<div>\n",
       "<style scoped>\n",
       "    .dataframe tbody tr th:only-of-type {\n",
       "        vertical-align: middle;\n",
       "    }\n",
       "\n",
       "    .dataframe tbody tr th {\n",
       "        vertical-align: top;\n",
       "    }\n",
       "\n",
       "    .dataframe thead th {\n",
       "        text-align: right;\n",
       "    }\n",
       "</style>\n",
       "<table border=\"1\" class=\"dataframe\">\n",
       "  <thead>\n",
       "    <tr style=\"text-align: right;\">\n",
       "      <th></th>\n",
       "      <th>HomePlanet_Earth</th>\n",
       "      <th>HomePlanet_Europa</th>\n",
       "      <th>HomePlanet_Mars</th>\n",
       "      <th>Destination_55 Cancri e</th>\n",
       "      <th>Destination_PSO J318.5-22</th>\n",
       "      <th>Destination_TRAPPIST-1e</th>\n",
       "      <th>CabinDeck_A</th>\n",
       "      <th>CabinDeck_B</th>\n",
       "      <th>CabinDeck_C</th>\n",
       "      <th>CabinDeck_D</th>\n",
       "      <th>...</th>\n",
       "      <th>CabinSide_P</th>\n",
       "      <th>CabinSide_S</th>\n",
       "      <th>CryoSleep</th>\n",
       "      <th>VIP</th>\n",
       "      <th>IsAlone</th>\n",
       "      <th>Age</th>\n",
       "      <th>RoomService</th>\n",
       "      <th>FoodCourt</th>\n",
       "      <th>ShoppingMall</th>\n",
       "      <th>CabinNum</th>\n",
       "    </tr>\n",
       "  </thead>\n",
       "  <tbody>\n",
       "    <tr>\n",
       "      <th>0</th>\n",
       "      <td>0</td>\n",
       "      <td>1</td>\n",
       "      <td>0</td>\n",
       "      <td>0</td>\n",
       "      <td>0</td>\n",
       "      <td>1</td>\n",
       "      <td>0</td>\n",
       "      <td>1</td>\n",
       "      <td>0</td>\n",
       "      <td>0</td>\n",
       "      <td>...</td>\n",
       "      <td>1</td>\n",
       "      <td>0</td>\n",
       "      <td>0</td>\n",
       "      <td>0</td>\n",
       "      <td>1</td>\n",
       "      <td>1.000000</td>\n",
       "      <td>0.000000</td>\n",
       "      <td>0.000000</td>\n",
       "      <td>0.000000</td>\n",
       "      <td>0.000000</td>\n",
       "    </tr>\n",
       "    <tr>\n",
       "      <th>1</th>\n",
       "      <td>1</td>\n",
       "      <td>0</td>\n",
       "      <td>0</td>\n",
       "      <td>0</td>\n",
       "      <td>0</td>\n",
       "      <td>1</td>\n",
       "      <td>0</td>\n",
       "      <td>0</td>\n",
       "      <td>0</td>\n",
       "      <td>0</td>\n",
       "      <td>...</td>\n",
       "      <td>0</td>\n",
       "      <td>1</td>\n",
       "      <td>0</td>\n",
       "      <td>0</td>\n",
       "      <td>1</td>\n",
       "      <td>0.209187</td>\n",
       "      <td>0.950056</td>\n",
       "      <td>0.078445</td>\n",
       "      <td>0.217903</td>\n",
       "      <td>0.000000</td>\n",
       "    </tr>\n",
       "    <tr>\n",
       "      <th>2</th>\n",
       "      <td>0</td>\n",
       "      <td>1</td>\n",
       "      <td>0</td>\n",
       "      <td>0</td>\n",
       "      <td>0</td>\n",
       "      <td>1</td>\n",
       "      <td>1</td>\n",
       "      <td>0</td>\n",
       "      <td>0</td>\n",
       "      <td>0</td>\n",
       "      <td>...</td>\n",
       "      <td>0</td>\n",
       "      <td>1</td>\n",
       "      <td>0</td>\n",
       "      <td>1</td>\n",
       "      <td>0</td>\n",
       "      <td>0.016216</td>\n",
       "      <td>0.012022</td>\n",
       "      <td>0.999796</td>\n",
       "      <td>0.000000</td>\n",
       "      <td>0.000000</td>\n",
       "    </tr>\n",
       "    <tr>\n",
       "      <th>3</th>\n",
       "      <td>0</td>\n",
       "      <td>1</td>\n",
       "      <td>0</td>\n",
       "      <td>0</td>\n",
       "      <td>0</td>\n",
       "      <td>1</td>\n",
       "      <td>1</td>\n",
       "      <td>0</td>\n",
       "      <td>0</td>\n",
       "      <td>0</td>\n",
       "      <td>...</td>\n",
       "      <td>0</td>\n",
       "      <td>1</td>\n",
       "      <td>0</td>\n",
       "      <td>0</td>\n",
       "      <td>0</td>\n",
       "      <td>0.024701</td>\n",
       "      <td>0.000000</td>\n",
       "      <td>0.960350</td>\n",
       "      <td>0.277701</td>\n",
       "      <td>0.000000</td>\n",
       "    </tr>\n",
       "    <tr>\n",
       "      <th>4</th>\n",
       "      <td>1</td>\n",
       "      <td>0</td>\n",
       "      <td>0</td>\n",
       "      <td>0</td>\n",
       "      <td>0</td>\n",
       "      <td>1</td>\n",
       "      <td>0</td>\n",
       "      <td>0</td>\n",
       "      <td>0</td>\n",
       "      <td>0</td>\n",
       "      <td>...</td>\n",
       "      <td>0</td>\n",
       "      <td>1</td>\n",
       "      <td>0</td>\n",
       "      <td>0</td>\n",
       "      <td>1</td>\n",
       "      <td>0.046233</td>\n",
       "      <td>0.875536</td>\n",
       "      <td>0.202269</td>\n",
       "      <td>0.436323</td>\n",
       "      <td>0.002890</td>\n",
       "    </tr>\n",
       "    <tr>\n",
       "      <th>...</th>\n",
       "      <td>...</td>\n",
       "      <td>...</td>\n",
       "      <td>...</td>\n",
       "      <td>...</td>\n",
       "      <td>...</td>\n",
       "      <td>...</td>\n",
       "      <td>...</td>\n",
       "      <td>...</td>\n",
       "      <td>...</td>\n",
       "      <td>...</td>\n",
       "      <td>...</td>\n",
       "      <td>...</td>\n",
       "      <td>...</td>\n",
       "      <td>...</td>\n",
       "      <td>...</td>\n",
       "      <td>...</td>\n",
       "      <td>...</td>\n",
       "      <td>...</td>\n",
       "      <td>...</td>\n",
       "      <td>...</td>\n",
       "      <td>...</td>\n",
       "    </tr>\n",
       "    <tr>\n",
       "      <th>8688</th>\n",
       "      <td>0</td>\n",
       "      <td>1</td>\n",
       "      <td>0</td>\n",
       "      <td>1</td>\n",
       "      <td>0</td>\n",
       "      <td>0</td>\n",
       "      <td>1</td>\n",
       "      <td>0</td>\n",
       "      <td>0</td>\n",
       "      <td>0</td>\n",
       "      <td>...</td>\n",
       "      <td>1</td>\n",
       "      <td>0</td>\n",
       "      <td>0</td>\n",
       "      <td>1</td>\n",
       "      <td>1</td>\n",
       "      <td>0.006012</td>\n",
       "      <td>0.000000</td>\n",
       "      <td>0.999879</td>\n",
       "      <td>0.000000</td>\n",
       "      <td>0.014370</td>\n",
       "    </tr>\n",
       "    <tr>\n",
       "      <th>8689</th>\n",
       "      <td>1</td>\n",
       "      <td>0</td>\n",
       "      <td>0</td>\n",
       "      <td>0</td>\n",
       "      <td>1</td>\n",
       "      <td>0</td>\n",
       "      <td>0</td>\n",
       "      <td>0</td>\n",
       "      <td>0</td>\n",
       "      <td>0</td>\n",
       "      <td>...</td>\n",
       "      <td>0</td>\n",
       "      <td>1</td>\n",
       "      <td>1</td>\n",
       "      <td>0</td>\n",
       "      <td>1</td>\n",
       "      <td>0.012007</td>\n",
       "      <td>0.000000</td>\n",
       "      <td>0.000000</td>\n",
       "      <td>0.000000</td>\n",
       "      <td>0.999928</td>\n",
       "    </tr>\n",
       "    <tr>\n",
       "      <th>8690</th>\n",
       "      <td>1</td>\n",
       "      <td>0</td>\n",
       "      <td>0</td>\n",
       "      <td>0</td>\n",
       "      <td>0</td>\n",
       "      <td>1</td>\n",
       "      <td>0</td>\n",
       "      <td>0</td>\n",
       "      <td>0</td>\n",
       "      <td>0</td>\n",
       "      <td>...</td>\n",
       "      <td>0</td>\n",
       "      <td>1</td>\n",
       "      <td>0</td>\n",
       "      <td>0</td>\n",
       "      <td>1</td>\n",
       "      <td>0.010838</td>\n",
       "      <td>0.000000</td>\n",
       "      <td>0.000000</td>\n",
       "      <td>0.780335</td>\n",
       "      <td>0.625268</td>\n",
       "    </tr>\n",
       "    <tr>\n",
       "      <th>8691</th>\n",
       "      <td>0</td>\n",
       "      <td>1</td>\n",
       "      <td>0</td>\n",
       "      <td>1</td>\n",
       "      <td>0</td>\n",
       "      <td>0</td>\n",
       "      <td>0</td>\n",
       "      <td>0</td>\n",
       "      <td>0</td>\n",
       "      <td>0</td>\n",
       "      <td>...</td>\n",
       "      <td>0</td>\n",
       "      <td>1</td>\n",
       "      <td>0</td>\n",
       "      <td>0</td>\n",
       "      <td>0</td>\n",
       "      <td>0.026383</td>\n",
       "      <td>0.000000</td>\n",
       "      <td>0.864880</td>\n",
       "      <td>0.000000</td>\n",
       "      <td>0.501284</td>\n",
       "    </tr>\n",
       "    <tr>\n",
       "      <th>8692</th>\n",
       "      <td>0</td>\n",
       "      <td>1</td>\n",
       "      <td>0</td>\n",
       "      <td>0</td>\n",
       "      <td>0</td>\n",
       "      <td>1</td>\n",
       "      <td>0</td>\n",
       "      <td>0</td>\n",
       "      <td>0</td>\n",
       "      <td>0</td>\n",
       "      <td>...</td>\n",
       "      <td>0</td>\n",
       "      <td>1</td>\n",
       "      <td>0</td>\n",
       "      <td>0</td>\n",
       "      <td>0</td>\n",
       "      <td>0.009304</td>\n",
       "      <td>0.026643</td>\n",
       "      <td>0.991300</td>\n",
       "      <td>0.000000</td>\n",
       "      <td>0.128564</td>\n",
       "    </tr>\n",
       "  </tbody>\n",
       "</table>\n",
       "<p>8693 rows × 24 columns</p>\n",
       "</div>"
      ],
      "text/plain": [
       "      HomePlanet_Earth  HomePlanet_Europa  HomePlanet_Mars  \\\n",
       "0                    0                  1                0   \n",
       "1                    1                  0                0   \n",
       "2                    0                  1                0   \n",
       "3                    0                  1                0   \n",
       "4                    1                  0                0   \n",
       "...                ...                ...              ...   \n",
       "8688                 0                  1                0   \n",
       "8689                 1                  0                0   \n",
       "8690                 1                  0                0   \n",
       "8691                 0                  1                0   \n",
       "8692                 0                  1                0   \n",
       "\n",
       "      Destination_55 Cancri e  Destination_PSO J318.5-22  \\\n",
       "0                           0                          0   \n",
       "1                           0                          0   \n",
       "2                           0                          0   \n",
       "3                           0                          0   \n",
       "4                           0                          0   \n",
       "...                       ...                        ...   \n",
       "8688                        1                          0   \n",
       "8689                        0                          1   \n",
       "8690                        0                          0   \n",
       "8691                        1                          0   \n",
       "8692                        0                          0   \n",
       "\n",
       "      Destination_TRAPPIST-1e  CabinDeck_A  CabinDeck_B  CabinDeck_C  \\\n",
       "0                           1            0            1            0   \n",
       "1                           1            0            0            0   \n",
       "2                           1            1            0            0   \n",
       "3                           1            1            0            0   \n",
       "4                           1            0            0            0   \n",
       "...                       ...          ...          ...          ...   \n",
       "8688                        0            1            0            0   \n",
       "8689                        0            0            0            0   \n",
       "8690                        1            0            0            0   \n",
       "8691                        0            0            0            0   \n",
       "8692                        1            0            0            0   \n",
       "\n",
       "      CabinDeck_D  ...  CabinSide_P  CabinSide_S  CryoSleep  VIP  IsAlone  \\\n",
       "0               0  ...            1            0          0    0        1   \n",
       "1               0  ...            0            1          0    0        1   \n",
       "2               0  ...            0            1          0    1        0   \n",
       "3               0  ...            0            1          0    0        0   \n",
       "4               0  ...            0            1          0    0        1   \n",
       "...           ...  ...          ...          ...        ...  ...      ...   \n",
       "8688            0  ...            1            0          0    1        1   \n",
       "8689            0  ...            0            1          1    0        1   \n",
       "8690            0  ...            0            1          0    0        1   \n",
       "8691            0  ...            0            1          0    0        0   \n",
       "8692            0  ...            0            1          0    0        0   \n",
       "\n",
       "           Age  RoomService  FoodCourt  ShoppingMall  CabinNum  \n",
       "0     1.000000     0.000000   0.000000      0.000000  0.000000  \n",
       "1     0.209187     0.950056   0.078445      0.217903  0.000000  \n",
       "2     0.016216     0.012022   0.999796      0.000000  0.000000  \n",
       "3     0.024701     0.000000   0.960350      0.277701  0.000000  \n",
       "4     0.046233     0.875536   0.202269      0.436323  0.002890  \n",
       "...        ...          ...        ...           ...       ...  \n",
       "8688  0.006012     0.000000   0.999879      0.000000  0.014370  \n",
       "8689  0.012007     0.000000   0.000000      0.000000  0.999928  \n",
       "8690  0.010838     0.000000   0.000000      0.780335  0.625268  \n",
       "8691  0.026383     0.000000   0.864880      0.000000  0.501284  \n",
       "8692  0.009304     0.026643   0.991300      0.000000  0.128564  \n",
       "\n",
       "[8693 rows x 24 columns]"
      ]
     },
     "execution_count": 63,
     "metadata": {},
     "output_type": "execute_result"
    }
   ],
   "source": [
    "df_preprocessed = pd.concat([encoded_vars, df_scaled], axis=1)\n",
    "df_preprocessed"
   ]
  },
  {
   "cell_type": "code",
   "execution_count": 64,
   "id": "479adecf",
   "metadata": {},
   "outputs": [
    {
     "name": "stdout",
     "output_type": "stream",
     "text": [
      "<class 'pandas.core.frame.DataFrame'>\n",
      "RangeIndex: 8693 entries, 0 to 8692\n",
      "Data columns (total 24 columns):\n",
      " #   Column                     Non-Null Count  Dtype  \n",
      "---  ------                     --------------  -----  \n",
      " 0   HomePlanet_Earth           8693 non-null   uint8  \n",
      " 1   HomePlanet_Europa          8693 non-null   uint8  \n",
      " 2   HomePlanet_Mars            8693 non-null   uint8  \n",
      " 3   Destination_55 Cancri e    8693 non-null   uint8  \n",
      " 4   Destination_PSO J318.5-22  8693 non-null   uint8  \n",
      " 5   Destination_TRAPPIST-1e    8693 non-null   uint8  \n",
      " 6   CabinDeck_A                8693 non-null   uint8  \n",
      " 7   CabinDeck_B                8693 non-null   uint8  \n",
      " 8   CabinDeck_C                8693 non-null   uint8  \n",
      " 9   CabinDeck_D                8693 non-null   uint8  \n",
      " 10  CabinDeck_E                8693 non-null   uint8  \n",
      " 11  CabinDeck_F                8693 non-null   uint8  \n",
      " 12  CabinDeck_G                8693 non-null   uint8  \n",
      " 13  CabinDeck_T                8693 non-null   uint8  \n",
      " 14  CabinSide_P                8693 non-null   uint8  \n",
      " 15  CabinSide_S                8693 non-null   uint8  \n",
      " 16  CryoSleep                  8693 non-null   int64  \n",
      " 17  VIP                        8693 non-null   int64  \n",
      " 18  IsAlone                    8693 non-null   int64  \n",
      " 19  Age                        8693 non-null   float64\n",
      " 20  RoomService                8693 non-null   float64\n",
      " 21  FoodCourt                  8693 non-null   float64\n",
      " 22  ShoppingMall               8693 non-null   float64\n",
      " 23  CabinNum                   8693 non-null   float64\n",
      "dtypes: float64(5), int64(3), uint8(16)\n",
      "memory usage: 679.3 KB\n"
     ]
    }
   ],
   "source": [
    "df_preprocessed.info()"
   ]
  },
  {
   "cell_type": "code",
   "execution_count": 65,
   "id": "7b5b79b1",
   "metadata": {},
   "outputs": [],
   "source": [
    "X_train, X_val, y_train, y_val = train_test_split(df_preprocessed, train['Transported'].astype('int'), test_size=0.2)"
   ]
  },
  {
   "cell_type": "code",
   "execution_count": 66,
   "id": "8dc467e5",
   "metadata": {},
   "outputs": [
    {
     "data": {
      "text/plain": [
       "(6954, 24)"
      ]
     },
     "execution_count": 66,
     "metadata": {},
     "output_type": "execute_result"
    }
   ],
   "source": [
    "X_train.shape"
   ]
  },
  {
   "cell_type": "code",
   "execution_count": 67,
   "id": "5c0861f7",
   "metadata": {},
   "outputs": [
    {
     "data": {
      "text/plain": [
       "(1739, 24)"
      ]
     },
     "execution_count": 67,
     "metadata": {},
     "output_type": "execute_result"
    }
   ],
   "source": [
    "X_val.shape"
   ]
  },
  {
   "cell_type": "markdown",
   "id": "1a4427a9",
   "metadata": {},
   "source": [
    "# Modeling"
   ]
  },
  {
   "cell_type": "code",
   "execution_count": 68,
   "id": "c96fc4c6",
   "metadata": {},
   "outputs": [],
   "source": [
    "from sklearn.linear_model import LogisticRegression, Perceptron, SGDClassifier\n",
    "from sklearn.svm import SVC\n",
    "from sklearn.ensemble import RandomForestClassifier\n",
    "from sklearn.neighbors import KNeighborsClassifier\n",
    "from sklearn.naive_bayes import GaussianNB\n",
    "from sklearn.tree import DecisionTreeClassifier\n",
    "from catboost import CatBoostClassifier"
   ]
  },
  {
   "cell_type": "code",
   "execution_count": 69,
   "id": "393faec7",
   "metadata": {},
   "outputs": [],
   "source": [
    "models = {\n",
    "    'lr': LogisticRegression(),\n",
    "          'sgd' : SGDClassifier(),\n",
    "          'perc' : Perceptron(),\n",
    "          'svm' : SVC(kernel='rbf'),\n",
    "          'linear_svc' : SVC(kernel='linear'),\n",
    "          'rf' : RandomForestClassifier(n_estimators=100),\n",
    "          'gnb' : GaussianNB(),\n",
    "          'cart' : DecisionTreeClassifier(),\n",
    "          'cat': CatBoostClassifier(),\n",
    "         }"
   ]
  },
  {
   "cell_type": "code",
   "execution_count": 70,
   "id": "03f3545e",
   "metadata": {},
   "outputs": [],
   "source": [
    "def train_validation(models, X, y, validation_size, cv_num):\n",
    "    X_train, X_val, y_train, y_val = train_test_split(X, y, test_size=validation_size)\n",
    "    scores = {}\n",
    "    print('model results\\n')\n",
    "    print('='*40)\n",
    "    for model in models.items():\n",
    "        cv = cross_val_score(model[1], X_train, y_train, cv=cv_num)\n",
    "        y_pred = model[1].fit(X_train, y_train).predict(X_val)\n",
    "        val = accuracy_score(y_val, y_pred)\n",
    "        scores[model[0]] = (cv.mean(), val)\n",
    "        print('-'*40)\n",
    "        print('{} accuracy for {} training and validation sets:\\n'.format(model[0], cv_num))\n",
    "        print('mean training accuracy: {:.2f}'.format(cv.mean()))\n",
    "        print('validation accuracy: {:.2f}'.format(val))\n",
    "    return scores"
   ]
  },
  {
   "cell_type": "markdown",
   "id": "ab7c9afa",
   "metadata": {},
   "source": [
    "# Deep Learning"
   ]
  },
  {
   "cell_type": "code",
   "execution_count": 71,
   "id": "e173db31",
   "metadata": {},
   "outputs": [],
   "source": [
    "def build_model(n_hidden=1, n_neurons=12, learning_rate=1e-3, input_shape=[24], dropout_rate=0.0):\n",
    "    model = keras.models.Sequential()\n",
    "    model.add(keras.layers.InputLayer(input_shape=input_shape))\n",
    "    for layer in range(n_hidden):\n",
    "        model.add(keras.layers.Dense(n_neurons, activation='relu'))\n",
    "        model.add(keras.layers.Dropout(dropout_rate))\n",
    "    model.add(keras.layers.Dense(1, activation='sigmoid'))\n",
    "    optimizer = keras.optimizers.Adam(lr=learning_rate)\n",
    "    model.compile(loss='binary_crossentropy', optimizer=optimizer, metrics=['accuracy'])\n",
    "    return model"
   ]
  },
  {
   "cell_type": "code",
   "execution_count": 72,
   "id": "5a7e9c52",
   "metadata": {
    "scrolled": true
   },
   "outputs": [],
   "source": [
    "from sklearn.model_selection import RandomizedSearchCV\n",
    "\n",
    "param_distribs = {\n",
    "    'n_hidden':np.arange(0,6),\n",
    "    'n_neurons':np.arange(1,100),\n",
    "    'learning_rate':np.logspace(-4,-1, 4),\n",
    "    'dropout_rate':np.linspace(0.0, 0.5, 6)\n",
    "}\n",
    "# create wrapper around keras model\n",
    "keras_clf = keras.wrappers.scikit_learn.KerasClassifier(build_model)\n",
    "cv = RandomizedSearchCV(keras_clf, param_distribs, n_iter=10, cv=3)\n",
    "tensorboard_cb = keras.callbacks.TensorBoard(run_logdir)\n",
    "#cv.fit(X_train, y_train, epochs=50, validation_data=(X_val, y_val), callbacks=[tensorboard_cb])"
   ]
  },
  {
   "cell_type": "code",
   "execution_count": 73,
   "id": "1d6bdeeb",
   "metadata": {
    "scrolled": true
   },
   "outputs": [
    {
     "data": {
      "text/html": [
       "<div>\n",
       "<style scoped>\n",
       "    .dataframe tbody tr th:only-of-type {\n",
       "        vertical-align: middle;\n",
       "    }\n",
       "\n",
       "    .dataframe tbody tr th {\n",
       "        vertical-align: top;\n",
       "    }\n",
       "\n",
       "    .dataframe thead th {\n",
       "        text-align: right;\n",
       "    }\n",
       "</style>\n",
       "<table border=\"1\" class=\"dataframe\">\n",
       "  <thead>\n",
       "    <tr style=\"text-align: right;\">\n",
       "      <th></th>\n",
       "      <th>HomePlanet_Earth</th>\n",
       "      <th>HomePlanet_Europa</th>\n",
       "      <th>HomePlanet_Mars</th>\n",
       "      <th>Destination_55 Cancri e</th>\n",
       "      <th>Destination_PSO J318.5-22</th>\n",
       "      <th>Destination_TRAPPIST-1e</th>\n",
       "      <th>CabinDeck_A</th>\n",
       "      <th>CabinDeck_B</th>\n",
       "      <th>CabinDeck_C</th>\n",
       "      <th>CabinDeck_D</th>\n",
       "      <th>...</th>\n",
       "      <th>CabinSide_P</th>\n",
       "      <th>CabinSide_S</th>\n",
       "      <th>CryoSleep</th>\n",
       "      <th>VIP</th>\n",
       "      <th>IsAlone</th>\n",
       "      <th>Age</th>\n",
       "      <th>RoomService</th>\n",
       "      <th>FoodCourt</th>\n",
       "      <th>ShoppingMall</th>\n",
       "      <th>CabinNum</th>\n",
       "    </tr>\n",
       "  </thead>\n",
       "  <tbody>\n",
       "    <tr>\n",
       "      <th>0</th>\n",
       "      <td>1</td>\n",
       "      <td>0</td>\n",
       "      <td>0</td>\n",
       "      <td>0</td>\n",
       "      <td>0</td>\n",
       "      <td>1</td>\n",
       "      <td>0</td>\n",
       "      <td>0</td>\n",
       "      <td>0</td>\n",
       "      <td>0</td>\n",
       "      <td>...</td>\n",
       "      <td>0</td>\n",
       "      <td>1</td>\n",
       "      <td>1</td>\n",
       "      <td>0</td>\n",
       "      <td>1</td>\n",
       "      <td>0.993884</td>\n",
       "      <td>0.000000</td>\n",
       "      <td>0.000000</td>\n",
       "      <td>0.000000</td>\n",
       "      <td>0.110432</td>\n",
       "    </tr>\n",
       "    <tr>\n",
       "      <th>1</th>\n",
       "      <td>1</td>\n",
       "      <td>0</td>\n",
       "      <td>0</td>\n",
       "      <td>0</td>\n",
       "      <td>0</td>\n",
       "      <td>1</td>\n",
       "      <td>0</td>\n",
       "      <td>0</td>\n",
       "      <td>0</td>\n",
       "      <td>0</td>\n",
       "      <td>...</td>\n",
       "      <td>0</td>\n",
       "      <td>1</td>\n",
       "      <td>0</td>\n",
       "      <td>0</td>\n",
       "      <td>1</td>\n",
       "      <td>0.887812</td>\n",
       "      <td>0.000000</td>\n",
       "      <td>0.420542</td>\n",
       "      <td>0.000000</td>\n",
       "      <td>0.186908</td>\n",
       "    </tr>\n",
       "    <tr>\n",
       "      <th>2</th>\n",
       "      <td>0</td>\n",
       "      <td>1</td>\n",
       "      <td>0</td>\n",
       "      <td>1</td>\n",
       "      <td>0</td>\n",
       "      <td>0</td>\n",
       "      <td>0</td>\n",
       "      <td>0</td>\n",
       "      <td>1</td>\n",
       "      <td>0</td>\n",
       "      <td>...</td>\n",
       "      <td>0</td>\n",
       "      <td>1</td>\n",
       "      <td>1</td>\n",
       "      <td>0</td>\n",
       "      <td>1</td>\n",
       "      <td>1.000000</td>\n",
       "      <td>0.000000</td>\n",
       "      <td>0.000000</td>\n",
       "      <td>0.000000</td>\n",
       "      <td>0.000000</td>\n",
       "    </tr>\n",
       "    <tr>\n",
       "      <th>3</th>\n",
       "      <td>0</td>\n",
       "      <td>1</td>\n",
       "      <td>0</td>\n",
       "      <td>0</td>\n",
       "      <td>0</td>\n",
       "      <td>1</td>\n",
       "      <td>0</td>\n",
       "      <td>0</td>\n",
       "      <td>1</td>\n",
       "      <td>0</td>\n",
       "      <td>...</td>\n",
       "      <td>0</td>\n",
       "      <td>1</td>\n",
       "      <td>0</td>\n",
       "      <td>0</td>\n",
       "      <td>1</td>\n",
       "      <td>0.005712</td>\n",
       "      <td>0.000000</td>\n",
       "      <td>0.999984</td>\n",
       "      <td>0.000000</td>\n",
       "      <td>0.000150</td>\n",
       "    </tr>\n",
       "    <tr>\n",
       "      <th>4</th>\n",
       "      <td>1</td>\n",
       "      <td>0</td>\n",
       "      <td>0</td>\n",
       "      <td>0</td>\n",
       "      <td>0</td>\n",
       "      <td>1</td>\n",
       "      <td>0</td>\n",
       "      <td>0</td>\n",
       "      <td>0</td>\n",
       "      <td>0</td>\n",
       "      <td>...</td>\n",
       "      <td>0</td>\n",
       "      <td>1</td>\n",
       "      <td>0</td>\n",
       "      <td>0</td>\n",
       "      <td>1</td>\n",
       "      <td>0.031476</td>\n",
       "      <td>0.015738</td>\n",
       "      <td>0.000000</td>\n",
       "      <td>0.999350</td>\n",
       "      <td>0.007869</td>\n",
       "    </tr>\n",
       "    <tr>\n",
       "      <th>...</th>\n",
       "      <td>...</td>\n",
       "      <td>...</td>\n",
       "      <td>...</td>\n",
       "      <td>...</td>\n",
       "      <td>...</td>\n",
       "      <td>...</td>\n",
       "      <td>...</td>\n",
       "      <td>...</td>\n",
       "      <td>...</td>\n",
       "      <td>...</td>\n",
       "      <td>...</td>\n",
       "      <td>...</td>\n",
       "      <td>...</td>\n",
       "      <td>...</td>\n",
       "      <td>...</td>\n",
       "      <td>...</td>\n",
       "      <td>...</td>\n",
       "      <td>...</td>\n",
       "      <td>...</td>\n",
       "      <td>...</td>\n",
       "      <td>...</td>\n",
       "    </tr>\n",
       "    <tr>\n",
       "      <th>4272</th>\n",
       "      <td>1</td>\n",
       "      <td>0</td>\n",
       "      <td>0</td>\n",
       "      <td>0</td>\n",
       "      <td>0</td>\n",
       "      <td>1</td>\n",
       "      <td>0</td>\n",
       "      <td>0</td>\n",
       "      <td>0</td>\n",
       "      <td>0</td>\n",
       "      <td>...</td>\n",
       "      <td>0</td>\n",
       "      <td>1</td>\n",
       "      <td>1</td>\n",
       "      <td>0</td>\n",
       "      <td>0</td>\n",
       "      <td>0.022721</td>\n",
       "      <td>0.000000</td>\n",
       "      <td>0.000000</td>\n",
       "      <td>0.000000</td>\n",
       "      <td>0.999742</td>\n",
       "    </tr>\n",
       "    <tr>\n",
       "      <th>4273</th>\n",
       "      <td>1</td>\n",
       "      <td>0</td>\n",
       "      <td>0</td>\n",
       "      <td>0</td>\n",
       "      <td>0</td>\n",
       "      <td>1</td>\n",
       "      <td>0</td>\n",
       "      <td>0</td>\n",
       "      <td>0</td>\n",
       "      <td>0</td>\n",
       "      <td>...</td>\n",
       "      <td>0</td>\n",
       "      <td>1</td>\n",
       "      <td>0</td>\n",
       "      <td>0</td>\n",
       "      <td>1</td>\n",
       "      <td>0.024422</td>\n",
       "      <td>0.000000</td>\n",
       "      <td>0.492519</td>\n",
       "      <td>0.009885</td>\n",
       "      <td>0.869903</td>\n",
       "    </tr>\n",
       "    <tr>\n",
       "      <th>4274</th>\n",
       "      <td>0</td>\n",
       "      <td>0</td>\n",
       "      <td>1</td>\n",
       "      <td>1</td>\n",
       "      <td>0</td>\n",
       "      <td>0</td>\n",
       "      <td>0</td>\n",
       "      <td>0</td>\n",
       "      <td>0</td>\n",
       "      <td>1</td>\n",
       "      <td>...</td>\n",
       "      <td>1</td>\n",
       "      <td>0</td>\n",
       "      <td>1</td>\n",
       "      <td>0</td>\n",
       "      <td>1</td>\n",
       "      <td>0.140485</td>\n",
       "      <td>0.000000</td>\n",
       "      <td>0.000000</td>\n",
       "      <td>0.000000</td>\n",
       "      <td>0.990083</td>\n",
       "    </tr>\n",
       "    <tr>\n",
       "      <th>4275</th>\n",
       "      <td>0</td>\n",
       "      <td>1</td>\n",
       "      <td>0</td>\n",
       "      <td>1</td>\n",
       "      <td>0</td>\n",
       "      <td>0</td>\n",
       "      <td>0</td>\n",
       "      <td>0</td>\n",
       "      <td>0</td>\n",
       "      <td>1</td>\n",
       "      <td>...</td>\n",
       "      <td>1</td>\n",
       "      <td>0</td>\n",
       "      <td>0</td>\n",
       "      <td>0</td>\n",
       "      <td>1</td>\n",
       "      <td>0.015574</td>\n",
       "      <td>0.000000</td>\n",
       "      <td>0.993795</td>\n",
       "      <td>0.000000</td>\n",
       "      <td>0.110133</td>\n",
       "    </tr>\n",
       "    <tr>\n",
       "      <th>4276</th>\n",
       "      <td>1</td>\n",
       "      <td>0</td>\n",
       "      <td>0</td>\n",
       "      <td>0</td>\n",
       "      <td>1</td>\n",
       "      <td>0</td>\n",
       "      <td>0</td>\n",
       "      <td>0</td>\n",
       "      <td>0</td>\n",
       "      <td>0</td>\n",
       "      <td>...</td>\n",
       "      <td>0</td>\n",
       "      <td>1</td>\n",
       "      <td>1</td>\n",
       "      <td>0</td>\n",
       "      <td>1</td>\n",
       "      <td>0.028693</td>\n",
       "      <td>0.000000</td>\n",
       "      <td>0.000000</td>\n",
       "      <td>0.000000</td>\n",
       "      <td>0.999588</td>\n",
       "    </tr>\n",
       "  </tbody>\n",
       "</table>\n",
       "<p>4277 rows × 24 columns</p>\n",
       "</div>"
      ],
      "text/plain": [
       "      HomePlanet_Earth  HomePlanet_Europa  HomePlanet_Mars  \\\n",
       "0                    1                  0                0   \n",
       "1                    1                  0                0   \n",
       "2                    0                  1                0   \n",
       "3                    0                  1                0   \n",
       "4                    1                  0                0   \n",
       "...                ...                ...              ...   \n",
       "4272                 1                  0                0   \n",
       "4273                 1                  0                0   \n",
       "4274                 0                  0                1   \n",
       "4275                 0                  1                0   \n",
       "4276                 1                  0                0   \n",
       "\n",
       "      Destination_55 Cancri e  Destination_PSO J318.5-22  \\\n",
       "0                           0                          0   \n",
       "1                           0                          0   \n",
       "2                           1                          0   \n",
       "3                           0                          0   \n",
       "4                           0                          0   \n",
       "...                       ...                        ...   \n",
       "4272                        0                          0   \n",
       "4273                        0                          0   \n",
       "4274                        1                          0   \n",
       "4275                        1                          0   \n",
       "4276                        0                          1   \n",
       "\n",
       "      Destination_TRAPPIST-1e  CabinDeck_A  CabinDeck_B  CabinDeck_C  \\\n",
       "0                           1            0            0            0   \n",
       "1                           1            0            0            0   \n",
       "2                           0            0            0            1   \n",
       "3                           1            0            0            1   \n",
       "4                           1            0            0            0   \n",
       "...                       ...          ...          ...          ...   \n",
       "4272                        1            0            0            0   \n",
       "4273                        1            0            0            0   \n",
       "4274                        0            0            0            0   \n",
       "4275                        0            0            0            0   \n",
       "4276                        0            0            0            0   \n",
       "\n",
       "      CabinDeck_D  ...  CabinSide_P  CabinSide_S  CryoSleep  VIP  IsAlone  \\\n",
       "0               0  ...            0            1          1    0        1   \n",
       "1               0  ...            0            1          0    0        1   \n",
       "2               0  ...            0            1          1    0        1   \n",
       "3               0  ...            0            1          0    0        1   \n",
       "4               0  ...            0            1          0    0        1   \n",
       "...           ...  ...          ...          ...        ...  ...      ...   \n",
       "4272            0  ...            0            1          1    0        0   \n",
       "4273            0  ...            0            1          0    0        1   \n",
       "4274            1  ...            1            0          1    0        1   \n",
       "4275            1  ...            1            0          0    0        1   \n",
       "4276            0  ...            0            1          1    0        1   \n",
       "\n",
       "           Age  RoomService  FoodCourt  ShoppingMall  CabinNum  \n",
       "0     0.993884     0.000000   0.000000      0.000000  0.110432  \n",
       "1     0.887812     0.000000   0.420542      0.000000  0.186908  \n",
       "2     1.000000     0.000000   0.000000      0.000000  0.000000  \n",
       "3     0.005712     0.000000   0.999984      0.000000  0.000150  \n",
       "4     0.031476     0.015738   0.000000      0.999350  0.007869  \n",
       "...        ...          ...        ...           ...       ...  \n",
       "4272  0.022721     0.000000   0.000000      0.000000  0.999742  \n",
       "4273  0.024422     0.000000   0.492519      0.009885  0.869903  \n",
       "4274  0.140485     0.000000   0.000000      0.000000  0.990083  \n",
       "4275  0.015574     0.000000   0.993795      0.000000  0.110133  \n",
       "4276  0.028693     0.000000   0.000000      0.000000  0.999588  \n",
       "\n",
       "[4277 rows x 24 columns]"
      ]
     },
     "execution_count": 73,
     "metadata": {},
     "output_type": "execute_result"
    }
   ],
   "source": [
    "# Feature Engineering for Test Set\n",
    "\n",
    "test['CabinList'] = test['Cabin'].apply(lambda x: x.split('/'))\n",
    "test = pd.concat([test, pd.DataFrame(test['CabinList'].to_list(), columns=['CabinDeck', 'CabinNum', 'CabinSide'])], axis=1)\n",
    "test = test.drop(['Cabin', 'CabinList'], axis=1)\n",
    "test['CabinNum'] = test['CabinNum'].astype('int')\n",
    "\n",
    "test['PassList'] = test['PassengerId'].apply(lambda x: x.split('_'))\n",
    "test = pd.concat([test, pd.DataFrame(test['PassList'].to_list(), columns=['PassengerGrp', 'PassengerGrpId'])], axis=1)\n",
    "test = test.drop(['PassList'], axis=1)\n",
    "\n",
    "is_alone = test[['PassengerGrp','PassengerGrpId']].groupby('PassengerGrp').count()[test[['PassengerGrp','PassengerGrpId']].groupby('PassengerGrp').count() == 1].dropna().index\n",
    "test['IsAlone'] = test['PassengerGrp'].apply(lambda x: 1 if x in is_alone else 0)\n",
    "\n",
    "encoded_vars = pd.concat([pd.get_dummies(test[['HomePlanet', 'Destination', 'CabinDeck', 'CabinSide']]),\n",
    "                          test[['CryoSleep', 'VIP']].astype('int'),\n",
    "                          test['IsAlone']], axis=1)\n",
    "scaler = Normalizer()\n",
    "df_scaled = pd.DataFrame(scaler.fit_transform(test[['Age', 'RoomService', 'FoodCourt', 'ShoppingMall', 'CabinNum']]), columns = ['Age', 'RoomService', 'FoodCourt', 'ShoppingMall', 'CabinNum'])\n",
    "X_test = pd.concat([encoded_vars, df_scaled], axis=1)\n",
    "X_test"
   ]
  },
  {
   "cell_type": "code",
   "execution_count": 74,
   "id": "b2854cdd",
   "metadata": {
    "scrolled": true
   },
   "outputs": [
    {
     "name": "stdout",
     "output_type": "stream",
     "text": [
      "Epoch 1/100\n",
      "218/218 [==============================] - 2s 4ms/step - loss: 0.6076 - accuracy: 0.6590 - val_loss: 0.5232 - val_accuracy: 0.7366\n",
      "Epoch 2/100\n",
      "218/218 [==============================] - 1s 4ms/step - loss: 0.5415 - accuracy: 0.7235 - val_loss: 0.5070 - val_accuracy: 0.7343\n",
      "Epoch 3/100\n",
      "218/218 [==============================] - 1s 4ms/step - loss: 0.5216 - accuracy: 0.7292 - val_loss: 0.5039 - val_accuracy: 0.7412\n",
      "Epoch 4/100\n",
      "218/218 [==============================] - 1s 4ms/step - loss: 0.5145 - accuracy: 0.7301 - val_loss: 0.5002 - val_accuracy: 0.7435\n",
      "Epoch 5/100\n",
      "218/218 [==============================] - 1s 5ms/step - loss: 0.5081 - accuracy: 0.7370 - val_loss: 0.5061 - val_accuracy: 0.7539\n",
      "Epoch 6/100\n",
      "218/218 [==============================] - 1s 4ms/step - loss: 0.5052 - accuracy: 0.7327 - val_loss: 0.4914 - val_accuracy: 0.7361\n",
      "Epoch 7/100\n",
      "218/218 [==============================] - 1s 4ms/step - loss: 0.5004 - accuracy: 0.7378 - val_loss: 0.4932 - val_accuracy: 0.7412\n",
      "Epoch 8/100\n",
      "218/218 [==============================] - 1s 4ms/step - loss: 0.4983 - accuracy: 0.7440 - val_loss: 0.4872 - val_accuracy: 0.7407\n",
      "Epoch 9/100\n",
      "218/218 [==============================] - 1s 4ms/step - loss: 0.4985 - accuracy: 0.7469 - val_loss: 0.4805 - val_accuracy: 0.7556\n",
      "Epoch 10/100\n",
      "218/218 [==============================] - 1s 5ms/step - loss: 0.4933 - accuracy: 0.7491 - val_loss: 0.4819 - val_accuracy: 0.7585\n",
      "Epoch 11/100\n",
      "218/218 [==============================] - 1s 4ms/step - loss: 0.4894 - accuracy: 0.7529 - val_loss: 0.4810 - val_accuracy: 0.7476\n",
      "Epoch 12/100\n",
      "218/218 [==============================] - 1s 4ms/step - loss: 0.4897 - accuracy: 0.7512 - val_loss: 0.4809 - val_accuracy: 0.7545\n",
      "Epoch 13/100\n",
      "218/218 [==============================] - 1s 4ms/step - loss: 0.4876 - accuracy: 0.7524 - val_loss: 0.4800 - val_accuracy: 0.7562\n",
      "Epoch 14/100\n",
      "218/218 [==============================] - 1s 4ms/step - loss: 0.4868 - accuracy: 0.7568 - val_loss: 0.4775 - val_accuracy: 0.7464\n",
      "Epoch 15/100\n",
      "218/218 [==============================] - 1s 4ms/step - loss: 0.4867 - accuracy: 0.7538 - val_loss: 0.4782 - val_accuracy: 0.7545\n",
      "Epoch 16/100\n",
      "218/218 [==============================] - 1s 5ms/step - loss: 0.4861 - accuracy: 0.7511 - val_loss: 0.4765 - val_accuracy: 0.7527\n",
      "Epoch 17/100\n",
      "218/218 [==============================] - 1s 4ms/step - loss: 0.4838 - accuracy: 0.7594 - val_loss: 0.4756 - val_accuracy: 0.7499\n",
      "Epoch 18/100\n",
      "218/218 [==============================] - 1s 4ms/step - loss: 0.4803 - accuracy: 0.7597 - val_loss: 0.4776 - val_accuracy: 0.7464\n",
      "Epoch 19/100\n",
      "218/218 [==============================] - 1s 4ms/step - loss: 0.4792 - accuracy: 0.7624 - val_loss: 0.4750 - val_accuracy: 0.7516\n",
      "Epoch 20/100\n",
      "218/218 [==============================] - 1s 4ms/step - loss: 0.4810 - accuracy: 0.7568 - val_loss: 0.4746 - val_accuracy: 0.7527\n",
      "Epoch 21/100\n",
      "218/218 [==============================] - 1s 4ms/step - loss: 0.4755 - accuracy: 0.7581 - val_loss: 0.4736 - val_accuracy: 0.7550\n",
      "Epoch 22/100\n",
      "218/218 [==============================] - 1s 5ms/step - loss: 0.4767 - accuracy: 0.7588 - val_loss: 0.4725 - val_accuracy: 0.7556\n",
      "Epoch 23/100\n",
      "218/218 [==============================] - 1s 4ms/step - loss: 0.4709 - accuracy: 0.7591 - val_loss: 0.4789 - val_accuracy: 0.7516\n",
      "Epoch 24/100\n",
      "218/218 [==============================] - 1s 4ms/step - loss: 0.4736 - accuracy: 0.7613 - val_loss: 0.4763 - val_accuracy: 0.7533\n",
      "Epoch 25/100\n",
      "218/218 [==============================] - 1s 4ms/step - loss: 0.4708 - accuracy: 0.7627 - val_loss: 0.4750 - val_accuracy: 0.7568\n",
      "Epoch 26/100\n",
      "218/218 [==============================] - 1s 4ms/step - loss: 0.4737 - accuracy: 0.7606 - val_loss: 0.4730 - val_accuracy: 0.7550\n",
      "Epoch 27/100\n",
      "218/218 [==============================] - 1s 4ms/step - loss: 0.4735 - accuracy: 0.7630 - val_loss: 0.4711 - val_accuracy: 0.7562\n",
      "Epoch 28/100\n",
      "218/218 [==============================] - 1s 5ms/step - loss: 0.4728 - accuracy: 0.7634 - val_loss: 0.4720 - val_accuracy: 0.7550\n",
      "Epoch 29/100\n",
      "218/218 [==============================] - 1s 5ms/step - loss: 0.4705 - accuracy: 0.7590 - val_loss: 0.4717 - val_accuracy: 0.7585\n",
      "Epoch 30/100\n",
      "218/218 [==============================] - 1s 4ms/step - loss: 0.4685 - accuracy: 0.7680 - val_loss: 0.4717 - val_accuracy: 0.7539\n",
      "Epoch 31/100\n",
      "218/218 [==============================] - 1s 4ms/step - loss: 0.4651 - accuracy: 0.7656 - val_loss: 0.4720 - val_accuracy: 0.7545\n",
      "Epoch 32/100\n",
      "218/218 [==============================] - 1s 4ms/step - loss: 0.4658 - accuracy: 0.7650 - val_loss: 0.4710 - val_accuracy: 0.7464\n",
      "Epoch 33/100\n",
      "218/218 [==============================] - 1s 5ms/step - loss: 0.4683 - accuracy: 0.7659 - val_loss: 0.4742 - val_accuracy: 0.7499\n",
      "Epoch 34/100\n",
      "218/218 [==============================] - 1s 4ms/step - loss: 0.4651 - accuracy: 0.7639 - val_loss: 0.4699 - val_accuracy: 0.7573\n",
      "Epoch 35/100\n",
      "218/218 [==============================] - 1s 5ms/step - loss: 0.4631 - accuracy: 0.7630 - val_loss: 0.4724 - val_accuracy: 0.7510\n",
      "Epoch 36/100\n",
      "218/218 [==============================] - 1s 4ms/step - loss: 0.4638 - accuracy: 0.7647 - val_loss: 0.4701 - val_accuracy: 0.7533\n",
      "Epoch 37/100\n",
      "218/218 [==============================] - 1s 5ms/step - loss: 0.4639 - accuracy: 0.7676 - val_loss: 0.4759 - val_accuracy: 0.7476\n",
      "Epoch 38/100\n",
      "218/218 [==============================] - 1s 3ms/step - loss: 0.4611 - accuracy: 0.7650 - val_loss: 0.4733 - val_accuracy: 0.7516\n",
      "Epoch 39/100\n",
      "218/218 [==============================] - 1s 4ms/step - loss: 0.4627 - accuracy: 0.7686 - val_loss: 0.4726 - val_accuracy: 0.7539\n",
      "Epoch 40/100\n",
      "218/218 [==============================] - 1s 4ms/step - loss: 0.4600 - accuracy: 0.7706 - val_loss: 0.4716 - val_accuracy: 0.7522\n",
      "Epoch 41/100\n",
      "218/218 [==============================] - 1s 5ms/step - loss: 0.4610 - accuracy: 0.7672 - val_loss: 0.4707 - val_accuracy: 0.7504\n",
      "Epoch 42/100\n",
      "218/218 [==============================] - 1s 4ms/step - loss: 0.4625 - accuracy: 0.7708 - val_loss: 0.4691 - val_accuracy: 0.7556\n",
      "Epoch 43/100\n",
      "218/218 [==============================] - 1s 4ms/step - loss: 0.4604 - accuracy: 0.7693 - val_loss: 0.4685 - val_accuracy: 0.7476\n",
      "Epoch 44/100\n",
      "218/218 [==============================] - 1s 4ms/step - loss: 0.4613 - accuracy: 0.7688 - val_loss: 0.4726 - val_accuracy: 0.7499\n",
      "Epoch 45/100\n",
      "218/218 [==============================] - 1s 4ms/step - loss: 0.4597 - accuracy: 0.7708 - val_loss: 0.4720 - val_accuracy: 0.7562\n",
      "Epoch 46/100\n",
      "218/218 [==============================] - 1s 5ms/step - loss: 0.4575 - accuracy: 0.7672 - val_loss: 0.4713 - val_accuracy: 0.7568\n",
      "Epoch 47/100\n",
      "218/218 [==============================] - 1s 4ms/step - loss: 0.4580 - accuracy: 0.7741 - val_loss: 0.4676 - val_accuracy: 0.7516\n",
      "Epoch 48/100\n",
      "218/218 [==============================] - 1s 4ms/step - loss: 0.4609 - accuracy: 0.7706 - val_loss: 0.4745 - val_accuracy: 0.7487\n",
      "Epoch 49/100\n",
      "218/218 [==============================] - 1s 4ms/step - loss: 0.4598 - accuracy: 0.7708 - val_loss: 0.4679 - val_accuracy: 0.7487\n",
      "Epoch 50/100\n",
      "218/218 [==============================] - 1s 5ms/step - loss: 0.4574 - accuracy: 0.7688 - val_loss: 0.4695 - val_accuracy: 0.7556\n",
      "Epoch 51/100\n",
      "218/218 [==============================] - 1s 4ms/step - loss: 0.4565 - accuracy: 0.7678 - val_loss: 0.4697 - val_accuracy: 0.7493\n",
      "Epoch 52/100\n",
      "218/218 [==============================] - 1s 6ms/step - loss: 0.4587 - accuracy: 0.7725 - val_loss: 0.4691 - val_accuracy: 0.7441\n",
      "Epoch 53/100\n",
      "218/218 [==============================] - 2s 8ms/step - loss: 0.4570 - accuracy: 0.7725 - val_loss: 0.4703 - val_accuracy: 0.7499\n",
      "Epoch 54/100\n",
      "218/218 [==============================] - 1s 5ms/step - loss: 0.4571 - accuracy: 0.7742 - val_loss: 0.4691 - val_accuracy: 0.7499\n",
      "Epoch 55/100\n",
      "218/218 [==============================] - 2s 7ms/step - loss: 0.4563 - accuracy: 0.7705 - val_loss: 0.4694 - val_accuracy: 0.7493\n",
      "Epoch 56/100\n",
      "218/218 [==============================] - 1s 6ms/step - loss: 0.4569 - accuracy: 0.7678 - val_loss: 0.4707 - val_accuracy: 0.7481\n",
      "Epoch 57/100\n",
      "218/218 [==============================] - 1s 5ms/step - loss: 0.4589 - accuracy: 0.7718 - val_loss: 0.4692 - val_accuracy: 0.7522\n"
     ]
    },
    {
     "name": "stdout",
     "output_type": "stream",
     "text": [
      "Epoch 58/100\n",
      "218/218 [==============================] - 1s 5ms/step - loss: 0.4520 - accuracy: 0.7754 - val_loss: 0.4702 - val_accuracy: 0.7562\n",
      "Epoch 59/100\n",
      "218/218 [==============================] - 1s 6ms/step - loss: 0.4540 - accuracy: 0.7719 - val_loss: 0.4764 - val_accuracy: 0.7522\n",
      "Epoch 60/100\n",
      "218/218 [==============================] - 1s 4ms/step - loss: 0.4518 - accuracy: 0.7751 - val_loss: 0.4666 - val_accuracy: 0.7585\n",
      "Epoch 61/100\n",
      "218/218 [==============================] - 1s 4ms/step - loss: 0.4514 - accuracy: 0.7742 - val_loss: 0.4699 - val_accuracy: 0.7596\n",
      "Epoch 62/100\n",
      "218/218 [==============================] - 1s 7ms/step - loss: 0.4512 - accuracy: 0.7722 - val_loss: 0.4704 - val_accuracy: 0.7573\n",
      "Epoch 63/100\n",
      "218/218 [==============================] - 1s 4ms/step - loss: 0.4528 - accuracy: 0.7722 - val_loss: 0.4694 - val_accuracy: 0.7533\n",
      "Epoch 64/100\n",
      "218/218 [==============================] - 1s 4ms/step - loss: 0.4495 - accuracy: 0.7767 - val_loss: 0.4709 - val_accuracy: 0.7453\n",
      "Epoch 65/100\n",
      "218/218 [==============================] - 1s 5ms/step - loss: 0.4540 - accuracy: 0.7708 - val_loss: 0.4715 - val_accuracy: 0.7499\n",
      "Epoch 66/100\n",
      "218/218 [==============================] - 1s 5ms/step - loss: 0.4504 - accuracy: 0.7760 - val_loss: 0.4734 - val_accuracy: 0.7493\n",
      "Epoch 67/100\n",
      "218/218 [==============================] - 2s 8ms/step - loss: 0.4546 - accuracy: 0.7732 - val_loss: 0.4738 - val_accuracy: 0.7596\n",
      "Epoch 68/100\n",
      "218/218 [==============================] - 1s 4ms/step - loss: 0.4497 - accuracy: 0.7787 - val_loss: 0.4736 - val_accuracy: 0.7562\n",
      "Epoch 69/100\n",
      "218/218 [==============================] - 1s 5ms/step - loss: 0.4502 - accuracy: 0.7737 - val_loss: 0.4739 - val_accuracy: 0.7458\n",
      "Epoch 70/100\n",
      "218/218 [==============================] - 1s 4ms/step - loss: 0.4511 - accuracy: 0.7734 - val_loss: 0.4724 - val_accuracy: 0.7562\n",
      "Epoch 71/100\n",
      "218/218 [==============================] - 1s 5ms/step - loss: 0.4477 - accuracy: 0.7732 - val_loss: 0.4744 - val_accuracy: 0.7539\n",
      "Epoch 72/100\n",
      "218/218 [==============================] - 1s 4ms/step - loss: 0.4486 - accuracy: 0.7794 - val_loss: 0.4765 - val_accuracy: 0.7527\n",
      "Epoch 73/100\n",
      "218/218 [==============================] - 1s 4ms/step - loss: 0.4494 - accuracy: 0.7765 - val_loss: 0.4689 - val_accuracy: 0.7585\n",
      "Epoch 74/100\n",
      "218/218 [==============================] - 1s 4ms/step - loss: 0.4498 - accuracy: 0.7758 - val_loss: 0.4702 - val_accuracy: 0.7545\n",
      "Epoch 75/100\n",
      "218/218 [==============================] - 1s 4ms/step - loss: 0.4471 - accuracy: 0.7783 - val_loss: 0.4762 - val_accuracy: 0.7591\n",
      "Epoch 76/100\n",
      "218/218 [==============================] - 1s 4ms/step - loss: 0.4492 - accuracy: 0.7731 - val_loss: 0.4752 - val_accuracy: 0.7562\n",
      "Epoch 77/100\n",
      "218/218 [==============================] - 1s 5ms/step - loss: 0.4483 - accuracy: 0.7773 - val_loss: 0.4720 - val_accuracy: 0.7573\n",
      "Epoch 78/100\n",
      "218/218 [==============================] - 1s 4ms/step - loss: 0.4467 - accuracy: 0.7780 - val_loss: 0.4737 - val_accuracy: 0.7481\n",
      "Epoch 79/100\n",
      "218/218 [==============================] - 1s 6ms/step - loss: 0.4499 - accuracy: 0.7755 - val_loss: 0.4724 - val_accuracy: 0.7447\n",
      "Epoch 80/100\n",
      "218/218 [==============================] - 1s 5ms/step - loss: 0.4491 - accuracy: 0.7749 - val_loss: 0.4669 - val_accuracy: 0.7545\n",
      "Epoch 81/100\n",
      "218/218 [==============================] - 1s 6ms/step - loss: 0.4472 - accuracy: 0.7801 - val_loss: 0.4705 - val_accuracy: 0.7562\n",
      "Epoch 82/100\n",
      "218/218 [==============================] - 1s 5ms/step - loss: 0.4449 - accuracy: 0.7798 - val_loss: 0.4729 - val_accuracy: 0.7550\n",
      "Epoch 83/100\n",
      "218/218 [==============================] - 1s 5ms/step - loss: 0.4465 - accuracy: 0.7781 - val_loss: 0.4760 - val_accuracy: 0.7504\n",
      "Epoch 84/100\n",
      "218/218 [==============================] - 1s 4ms/step - loss: 0.4455 - accuracy: 0.7780 - val_loss: 0.4729 - val_accuracy: 0.7539\n",
      "Epoch 85/100\n",
      "218/218 [==============================] - 1s 5ms/step - loss: 0.4462 - accuracy: 0.7748 - val_loss: 0.4703 - val_accuracy: 0.7568\n",
      "Epoch 86/100\n",
      "218/218 [==============================] - 1s 5ms/step - loss: 0.4445 - accuracy: 0.7737 - val_loss: 0.4794 - val_accuracy: 0.7602\n",
      "Epoch 87/100\n",
      "218/218 [==============================] - 1s 4ms/step - loss: 0.4475 - accuracy: 0.7771 - val_loss: 0.4778 - val_accuracy: 0.7499\n",
      "Epoch 88/100\n",
      "218/218 [==============================] - 1s 5ms/step - loss: 0.4441 - accuracy: 0.7737 - val_loss: 0.4715 - val_accuracy: 0.7516\n",
      "Epoch 89/100\n",
      "218/218 [==============================] - 1s 5ms/step - loss: 0.4481 - accuracy: 0.7728 - val_loss: 0.4730 - val_accuracy: 0.7539\n",
      "Epoch 90/100\n",
      "218/218 [==============================] - 1s 6ms/step - loss: 0.4419 - accuracy: 0.7771 - val_loss: 0.4765 - val_accuracy: 0.7504\n",
      "Epoch 91/100\n",
      "218/218 [==============================] - 1s 4ms/step - loss: 0.4477 - accuracy: 0.7762 - val_loss: 0.4745 - val_accuracy: 0.7493\n",
      "Epoch 92/100\n",
      "218/218 [==============================] - 1s 5ms/step - loss: 0.4477 - accuracy: 0.7807 - val_loss: 0.4748 - val_accuracy: 0.7516\n",
      "Epoch 93/100\n",
      "218/218 [==============================] - 1s 4ms/step - loss: 0.4421 - accuracy: 0.7760 - val_loss: 0.4807 - val_accuracy: 0.7533\n",
      "Epoch 94/100\n",
      "218/218 [==============================] - 1s 6ms/step - loss: 0.4412 - accuracy: 0.7834 - val_loss: 0.4710 - val_accuracy: 0.7539\n",
      "Epoch 95/100\n",
      "218/218 [==============================] - 1s 5ms/step - loss: 0.4414 - accuracy: 0.7821 - val_loss: 0.4726 - val_accuracy: 0.7533\n",
      "Epoch 96/100\n",
      "218/218 [==============================] - 1s 4ms/step - loss: 0.4426 - accuracy: 0.7747 - val_loss: 0.4743 - val_accuracy: 0.7550\n",
      "Epoch 97/100\n",
      "218/218 [==============================] - 1s 3ms/step - loss: 0.4430 - accuracy: 0.7771 - val_loss: 0.4752 - val_accuracy: 0.7527\n",
      "Epoch 98/100\n",
      "218/218 [==============================] - 1s 4ms/step - loss: 0.4432 - accuracy: 0.7814 - val_loss: 0.4790 - val_accuracy: 0.7585\n",
      "Epoch 99/100\n",
      "218/218 [==============================] - 1s 3ms/step - loss: 0.4461 - accuracy: 0.7775 - val_loss: 0.4780 - val_accuracy: 0.7539\n",
      "Epoch 100/100\n",
      "218/218 [==============================] - 1s 5ms/step - loss: 0.4463 - accuracy: 0.7781 - val_loss: 0.4796 - val_accuracy: 0.7533\n"
     ]
    },
    {
     "data": {
      "text/plain": [
       "<keras.callbacks.History at 0x7f921b0cdf40>"
      ]
     },
     "execution_count": 74,
     "metadata": {},
     "output_type": "execute_result"
    }
   ],
   "source": [
    "model = tf.keras.Sequential([\n",
    "    tf.keras.layers.Dense(100, input_shape=[24], activation='relu'),\n",
    "    tf.keras.layers.Dropout(0.4),\n",
    "    tf.keras.layers.Dense(100, activation='relu'),\n",
    "    tf.keras.layers.Dropout(0.4),\n",
    "    tf.keras.layers.Dense(100, activation='relu'),\n",
    "    tf.keras.layers.Dropout(0.4),\n",
    "    tf.keras.layers.Dense(100, activation='relu'),\n",
    "    tf.keras.layers.Dropout(0.4),\n",
    "    tf.keras.layers.Dense(1, activation='sigmoid')\n",
    "])\n",
    "\n",
    "model.compile(loss='binary_crossentropy', optimizer=tf.keras.optimizers.Adam(1e-3), metrics=['accuracy'])\n",
    "tensorboard_cb = keras.callbacks.TensorBoard(run_logdir)\n",
    "model.fit(X_train, y_train, epochs=100, callbacks=[tensorboard_cb], validation_data=(X_val, y_val))"
   ]
  },
  {
   "cell_type": "code",
   "execution_count": 76,
   "id": "cbedacf1",
   "metadata": {
    "scrolled": true
   },
   "outputs": [],
   "source": [
    "y_proba = model.predict(X_test)\n",
    "y_pred = y_proba > 0.5\n",
    "submission = test[['PassengerId']]\n",
    "submission['Transported'] = y_pred\n",
    "submission.to_csv('./submissions/submission.csv', index=False)"
   ]
  },
  {
   "cell_type": "code",
   "execution_count": null,
   "id": "37caea3d",
   "metadata": {},
   "outputs": [],
   "source": []
  }
 ],
 "metadata": {
  "kernelspec": {
   "display_name": "Python 3",
   "language": "python",
   "name": "python3"
  },
  "language_info": {
   "codemirror_mode": {
    "name": "ipython",
    "version": 3
   },
   "file_extension": ".py",
   "mimetype": "text/x-python",
   "name": "python",
   "nbconvert_exporter": "python",
   "pygments_lexer": "ipython3",
   "version": "3.9.4"
  }
 },
 "nbformat": 4,
 "nbformat_minor": 5
}
